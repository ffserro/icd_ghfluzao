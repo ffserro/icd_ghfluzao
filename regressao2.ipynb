{
  "nbformat": 4,
  "nbformat_minor": 0,
  "metadata": {
    "colab": {
      "name": "regressao2.ipynb",
      "provenance": []
    },
    "kernelspec": {
      "name": "python3",
      "display_name": "Python 3"
    },
    "language_info": {
      "name": "python"
    }
  },
  "cells": [
    {
      "cell_type": "markdown",
      "metadata": {
        "id": "fQJ5CYV9Te0X"
      },
      "source": [
        "# **APRENDIZAGEM SUPERVISIONADA: REGRESSÃO**"
      ]
    },
    {
      "cell_type": "markdown",
      "metadata": {
        "id": "kXFCCsVHTtTP"
      },
      "source": [
        "Este projeto tem por objetivo desenvolver um algoritmo de Machine Learning para prever o valor do preço médio de casas em Boston. "
      ]
    },
    {
      "cell_type": "markdown",
      "metadata": {
        "id": "5ZQ2nYhQUc3G"
      },
      "source": [
        "Os dados foram extraídos do site do Kaggle:\n",
        "\n",
        "https://www.kaggle.com/schirmerchad/bostonhoustingmlnd"
      ]
    },
    {
      "cell_type": "code",
      "metadata": {
        "id": "nWvIcticlCs2"
      },
      "source": [
        "import numpy as np\n",
        "import pandas as pd"
      ],
      "execution_count": 1,
      "outputs": []
    },
    {
      "cell_type": "code",
      "metadata": {
        "id": "LRIrwcC8kUhT"
      },
      "source": [
        "df = pd.read_csv('https://raw.githubusercontent.com/ffserro/icd_ghfluzao/main/housing.csv',\n",
        "                    sep=',', encoding='iso-8859-1')"
      ],
      "execution_count": 2,
      "outputs": []
    },
    {
      "cell_type": "code",
      "source": [
        "df.head()"
      ],
      "metadata": {
        "id": "QtugliripIyp",
        "colab": {
          "base_uri": "https://localhost:8080/",
          "height": 206
        },
        "outputId": "6d64ea1f-2215-4755-8761-79d778f7520e"
      },
      "execution_count": 3,
      "outputs": [
        {
          "output_type": "execute_result",
          "data": {
            "text/plain": [
              "      RM  LSTAT  PTRATIO      MEDV\n",
              "0  6.575   4.98     15.3  504000.0\n",
              "1  6.421   9.14     17.8  453600.0\n",
              "2  7.185   4.03     17.8  728700.0\n",
              "3  6.998   2.94     18.7  701400.0\n",
              "4  7.147   5.33     18.7  760200.0"
            ],
            "text/html": [
              "\n",
              "  <div id=\"df-50bafd84-423f-4380-865b-4ef25e731dc6\">\n",
              "    <div class=\"colab-df-container\">\n",
              "      <div>\n",
              "<style scoped>\n",
              "    .dataframe tbody tr th:only-of-type {\n",
              "        vertical-align: middle;\n",
              "    }\n",
              "\n",
              "    .dataframe tbody tr th {\n",
              "        vertical-align: top;\n",
              "    }\n",
              "\n",
              "    .dataframe thead th {\n",
              "        text-align: right;\n",
              "    }\n",
              "</style>\n",
              "<table border=\"1\" class=\"dataframe\">\n",
              "  <thead>\n",
              "    <tr style=\"text-align: right;\">\n",
              "      <th></th>\n",
              "      <th>RM</th>\n",
              "      <th>LSTAT</th>\n",
              "      <th>PTRATIO</th>\n",
              "      <th>MEDV</th>\n",
              "    </tr>\n",
              "  </thead>\n",
              "  <tbody>\n",
              "    <tr>\n",
              "      <th>0</th>\n",
              "      <td>6.575</td>\n",
              "      <td>4.98</td>\n",
              "      <td>15.3</td>\n",
              "      <td>504000.0</td>\n",
              "    </tr>\n",
              "    <tr>\n",
              "      <th>1</th>\n",
              "      <td>6.421</td>\n",
              "      <td>9.14</td>\n",
              "      <td>17.8</td>\n",
              "      <td>453600.0</td>\n",
              "    </tr>\n",
              "    <tr>\n",
              "      <th>2</th>\n",
              "      <td>7.185</td>\n",
              "      <td>4.03</td>\n",
              "      <td>17.8</td>\n",
              "      <td>728700.0</td>\n",
              "    </tr>\n",
              "    <tr>\n",
              "      <th>3</th>\n",
              "      <td>6.998</td>\n",
              "      <td>2.94</td>\n",
              "      <td>18.7</td>\n",
              "      <td>701400.0</td>\n",
              "    </tr>\n",
              "    <tr>\n",
              "      <th>4</th>\n",
              "      <td>7.147</td>\n",
              "      <td>5.33</td>\n",
              "      <td>18.7</td>\n",
              "      <td>760200.0</td>\n",
              "    </tr>\n",
              "  </tbody>\n",
              "</table>\n",
              "</div>\n",
              "      <button class=\"colab-df-convert\" onclick=\"convertToInteractive('df-50bafd84-423f-4380-865b-4ef25e731dc6')\"\n",
              "              title=\"Convert this dataframe to an interactive table.\"\n",
              "              style=\"display:none;\">\n",
              "        \n",
              "  <svg xmlns=\"http://www.w3.org/2000/svg\" height=\"24px\"viewBox=\"0 0 24 24\"\n",
              "       width=\"24px\">\n",
              "    <path d=\"M0 0h24v24H0V0z\" fill=\"none\"/>\n",
              "    <path d=\"M18.56 5.44l.94 2.06.94-2.06 2.06-.94-2.06-.94-.94-2.06-.94 2.06-2.06.94zm-11 1L8.5 8.5l.94-2.06 2.06-.94-2.06-.94L8.5 2.5l-.94 2.06-2.06.94zm10 10l.94 2.06.94-2.06 2.06-.94-2.06-.94-.94-2.06-.94 2.06-2.06.94z\"/><path d=\"M17.41 7.96l-1.37-1.37c-.4-.4-.92-.59-1.43-.59-.52 0-1.04.2-1.43.59L10.3 9.45l-7.72 7.72c-.78.78-.78 2.05 0 2.83L4 21.41c.39.39.9.59 1.41.59.51 0 1.02-.2 1.41-.59l7.78-7.78 2.81-2.81c.8-.78.8-2.07 0-2.86zM5.41 20L4 18.59l7.72-7.72 1.47 1.35L5.41 20z\"/>\n",
              "  </svg>\n",
              "      </button>\n",
              "      \n",
              "  <style>\n",
              "    .colab-df-container {\n",
              "      display:flex;\n",
              "      flex-wrap:wrap;\n",
              "      gap: 12px;\n",
              "    }\n",
              "\n",
              "    .colab-df-convert {\n",
              "      background-color: #E8F0FE;\n",
              "      border: none;\n",
              "      border-radius: 50%;\n",
              "      cursor: pointer;\n",
              "      display: none;\n",
              "      fill: #1967D2;\n",
              "      height: 32px;\n",
              "      padding: 0 0 0 0;\n",
              "      width: 32px;\n",
              "    }\n",
              "\n",
              "    .colab-df-convert:hover {\n",
              "      background-color: #E2EBFA;\n",
              "      box-shadow: 0px 1px 2px rgba(60, 64, 67, 0.3), 0px 1px 3px 1px rgba(60, 64, 67, 0.15);\n",
              "      fill: #174EA6;\n",
              "    }\n",
              "\n",
              "    [theme=dark] .colab-df-convert {\n",
              "      background-color: #3B4455;\n",
              "      fill: #D2E3FC;\n",
              "    }\n",
              "\n",
              "    [theme=dark] .colab-df-convert:hover {\n",
              "      background-color: #434B5C;\n",
              "      box-shadow: 0px 1px 3px 1px rgba(0, 0, 0, 0.15);\n",
              "      filter: drop-shadow(0px 1px 2px rgba(0, 0, 0, 0.3));\n",
              "      fill: #FFFFFF;\n",
              "    }\n",
              "  </style>\n",
              "\n",
              "      <script>\n",
              "        const buttonEl =\n",
              "          document.querySelector('#df-50bafd84-423f-4380-865b-4ef25e731dc6 button.colab-df-convert');\n",
              "        buttonEl.style.display =\n",
              "          google.colab.kernel.accessAllowed ? 'block' : 'none';\n",
              "\n",
              "        async function convertToInteractive(key) {\n",
              "          const element = document.querySelector('#df-50bafd84-423f-4380-865b-4ef25e731dc6');\n",
              "          const dataTable =\n",
              "            await google.colab.kernel.invokeFunction('convertToInteractive',\n",
              "                                                     [key], {});\n",
              "          if (!dataTable) return;\n",
              "\n",
              "          const docLinkHtml = 'Like what you see? Visit the ' +\n",
              "            '<a target=\"_blank\" href=https://colab.research.google.com/notebooks/data_table.ipynb>data table notebook</a>'\n",
              "            + ' to learn more about interactive tables.';\n",
              "          element.innerHTML = '';\n",
              "          dataTable['output_type'] = 'display_data';\n",
              "          await google.colab.output.renderOutput(dataTable, element);\n",
              "          const docLink = document.createElement('div');\n",
              "          docLink.innerHTML = docLinkHtml;\n",
              "          element.appendChild(docLink);\n",
              "        }\n",
              "      </script>\n",
              "    </div>\n",
              "  </div>\n",
              "  "
            ]
          },
          "metadata": {},
          "execution_count": 3
        }
      ]
    },
    {
      "cell_type": "markdown",
      "source": [
        "**Atributos previsores**\n",
        "\n",
        "RM: é o número médio de cômodos entre os imóveis no bairro.\n",
        "\n",
        "LSTAT: é a porcentagem de proprietários no bairro considerados de \"classe baixa\" (proletariado).\n",
        "\n",
        "PTRATIO: é a razão entre estudantes e professores nas escolas de ensino fundamental e médio no bairro.\n",
        "\n",
        "**Variável alvo**\n",
        "\n",
        "MEDV: valor médio das casas"
      ],
      "metadata": {
        "id": "BxBX5HD17FZn"
      }
    },
    {
      "cell_type": "code",
      "source": [
        "df.shape"
      ],
      "metadata": {
        "id": "-pOctrVgQWpa",
        "colab": {
          "base_uri": "https://localhost:8080/"
        },
        "outputId": "c67df09d-155e-461d-92e6-421e1a5f6e2a"
      },
      "execution_count": null,
      "outputs": [
        {
          "output_type": "execute_result",
          "data": {
            "text/plain": [
              "(489, 4)"
            ]
          },
          "metadata": {},
          "execution_count": 4
        }
      ]
    },
    {
      "cell_type": "markdown",
      "source": [
        "## **EXPLORAÇÃO E TRATAMENTO DOS DADOS**"
      ],
      "metadata": {
        "id": "HxaCUHTyTqsg"
      }
    },
    {
      "cell_type": "markdown",
      "metadata": {
        "id": "3lk5kf4eZ_sL"
      },
      "source": [
        "Valores Missing (NAN)"
      ]
    },
    {
      "cell_type": "code",
      "metadata": {
        "id": "A24U7d5QYPaV",
        "colab": {
          "base_uri": "https://localhost:8080/"
        },
        "outputId": "74fc4f32-a936-4846-f242-1aaf4207ee18"
      },
      "source": [
        "# RELAÇÃO DA QUANTIDADE\n",
        "df.isnull().sum()"
      ],
      "execution_count": 4,
      "outputs": [
        {
          "output_type": "execute_result",
          "data": {
            "text/plain": [
              "RM         0\n",
              "LSTAT      0\n",
              "PTRATIO    0\n",
              "MEDV       0\n",
              "dtype: int64"
            ]
          },
          "metadata": {},
          "execution_count": 4
        }
      ]
    },
    {
      "cell_type": "markdown",
      "source": [
        "**Análise dos tipos de atributos.**"
      ],
      "metadata": {
        "id": "Q_4_5j4Vlz2j"
      }
    },
    {
      "cell_type": "code",
      "metadata": {
        "id": "wopAqivQXpqI",
        "colab": {
          "base_uri": "https://localhost:8080/"
        },
        "outputId": "30d51209-cd50-450e-c9e0-9a0f8927a6b2"
      },
      "source": [
        "# object: strings\n",
        "# int64: inteiros\n",
        "# float64: reais\n",
        "# complex: complexos\n",
        "df.dtypes"
      ],
      "execution_count": 5,
      "outputs": [
        {
          "output_type": "execute_result",
          "data": {
            "text/plain": [
              "RM         float64\n",
              "LSTAT      float64\n",
              "PTRATIO    float64\n",
              "MEDV       float64\n",
              "dtype: object"
            ]
          },
          "metadata": {},
          "execution_count": 5
        }
      ]
    },
    {
      "cell_type": "markdown",
      "source": [
        "**Dados Estatísticos**"
      ],
      "metadata": {
        "id": "GmQ0oYyVTYOv"
      }
    },
    {
      "cell_type": "code",
      "source": [
        "df.describe()"
      ],
      "metadata": {
        "id": "BE2XqrzRS8Zo",
        "colab": {
          "base_uri": "https://localhost:8080/",
          "height": 300
        },
        "outputId": "75790ad0-c1e5-4392-8569-a5a540da4b46"
      },
      "execution_count": 6,
      "outputs": [
        {
          "output_type": "execute_result",
          "data": {
            "text/plain": [
              "               RM       LSTAT     PTRATIO          MEDV\n",
              "count  489.000000  489.000000  489.000000  4.890000e+02\n",
              "mean     6.240288   12.939632   18.516564  4.543429e+05\n",
              "std      0.643650    7.081990    2.111268  1.653403e+05\n",
              "min      3.561000    1.980000   12.600000  1.050000e+05\n",
              "25%      5.880000    7.370000   17.400000  3.507000e+05\n",
              "50%      6.185000   11.690000   19.100000  4.389000e+05\n",
              "75%      6.575000   17.120000   20.200000  5.187000e+05\n",
              "max      8.398000   37.970000   22.000000  1.024800e+06"
            ],
            "text/html": [
              "\n",
              "  <div id=\"df-30e2e88b-01b8-439a-a3aa-9d1601c74c3c\">\n",
              "    <div class=\"colab-df-container\">\n",
              "      <div>\n",
              "<style scoped>\n",
              "    .dataframe tbody tr th:only-of-type {\n",
              "        vertical-align: middle;\n",
              "    }\n",
              "\n",
              "    .dataframe tbody tr th {\n",
              "        vertical-align: top;\n",
              "    }\n",
              "\n",
              "    .dataframe thead th {\n",
              "        text-align: right;\n",
              "    }\n",
              "</style>\n",
              "<table border=\"1\" class=\"dataframe\">\n",
              "  <thead>\n",
              "    <tr style=\"text-align: right;\">\n",
              "      <th></th>\n",
              "      <th>RM</th>\n",
              "      <th>LSTAT</th>\n",
              "      <th>PTRATIO</th>\n",
              "      <th>MEDV</th>\n",
              "    </tr>\n",
              "  </thead>\n",
              "  <tbody>\n",
              "    <tr>\n",
              "      <th>count</th>\n",
              "      <td>489.000000</td>\n",
              "      <td>489.000000</td>\n",
              "      <td>489.000000</td>\n",
              "      <td>4.890000e+02</td>\n",
              "    </tr>\n",
              "    <tr>\n",
              "      <th>mean</th>\n",
              "      <td>6.240288</td>\n",
              "      <td>12.939632</td>\n",
              "      <td>18.516564</td>\n",
              "      <td>4.543429e+05</td>\n",
              "    </tr>\n",
              "    <tr>\n",
              "      <th>std</th>\n",
              "      <td>0.643650</td>\n",
              "      <td>7.081990</td>\n",
              "      <td>2.111268</td>\n",
              "      <td>1.653403e+05</td>\n",
              "    </tr>\n",
              "    <tr>\n",
              "      <th>min</th>\n",
              "      <td>3.561000</td>\n",
              "      <td>1.980000</td>\n",
              "      <td>12.600000</td>\n",
              "      <td>1.050000e+05</td>\n",
              "    </tr>\n",
              "    <tr>\n",
              "      <th>25%</th>\n",
              "      <td>5.880000</td>\n",
              "      <td>7.370000</td>\n",
              "      <td>17.400000</td>\n",
              "      <td>3.507000e+05</td>\n",
              "    </tr>\n",
              "    <tr>\n",
              "      <th>50%</th>\n",
              "      <td>6.185000</td>\n",
              "      <td>11.690000</td>\n",
              "      <td>19.100000</td>\n",
              "      <td>4.389000e+05</td>\n",
              "    </tr>\n",
              "    <tr>\n",
              "      <th>75%</th>\n",
              "      <td>6.575000</td>\n",
              "      <td>17.120000</td>\n",
              "      <td>20.200000</td>\n",
              "      <td>5.187000e+05</td>\n",
              "    </tr>\n",
              "    <tr>\n",
              "      <th>max</th>\n",
              "      <td>8.398000</td>\n",
              "      <td>37.970000</td>\n",
              "      <td>22.000000</td>\n",
              "      <td>1.024800e+06</td>\n",
              "    </tr>\n",
              "  </tbody>\n",
              "</table>\n",
              "</div>\n",
              "      <button class=\"colab-df-convert\" onclick=\"convertToInteractive('df-30e2e88b-01b8-439a-a3aa-9d1601c74c3c')\"\n",
              "              title=\"Convert this dataframe to an interactive table.\"\n",
              "              style=\"display:none;\">\n",
              "        \n",
              "  <svg xmlns=\"http://www.w3.org/2000/svg\" height=\"24px\"viewBox=\"0 0 24 24\"\n",
              "       width=\"24px\">\n",
              "    <path d=\"M0 0h24v24H0V0z\" fill=\"none\"/>\n",
              "    <path d=\"M18.56 5.44l.94 2.06.94-2.06 2.06-.94-2.06-.94-.94-2.06-.94 2.06-2.06.94zm-11 1L8.5 8.5l.94-2.06 2.06-.94-2.06-.94L8.5 2.5l-.94 2.06-2.06.94zm10 10l.94 2.06.94-2.06 2.06-.94-2.06-.94-.94-2.06-.94 2.06-2.06.94z\"/><path d=\"M17.41 7.96l-1.37-1.37c-.4-.4-.92-.59-1.43-.59-.52 0-1.04.2-1.43.59L10.3 9.45l-7.72 7.72c-.78.78-.78 2.05 0 2.83L4 21.41c.39.39.9.59 1.41.59.51 0 1.02-.2 1.41-.59l7.78-7.78 2.81-2.81c.8-.78.8-2.07 0-2.86zM5.41 20L4 18.59l7.72-7.72 1.47 1.35L5.41 20z\"/>\n",
              "  </svg>\n",
              "      </button>\n",
              "      \n",
              "  <style>\n",
              "    .colab-df-container {\n",
              "      display:flex;\n",
              "      flex-wrap:wrap;\n",
              "      gap: 12px;\n",
              "    }\n",
              "\n",
              "    .colab-df-convert {\n",
              "      background-color: #E8F0FE;\n",
              "      border: none;\n",
              "      border-radius: 50%;\n",
              "      cursor: pointer;\n",
              "      display: none;\n",
              "      fill: #1967D2;\n",
              "      height: 32px;\n",
              "      padding: 0 0 0 0;\n",
              "      width: 32px;\n",
              "    }\n",
              "\n",
              "    .colab-df-convert:hover {\n",
              "      background-color: #E2EBFA;\n",
              "      box-shadow: 0px 1px 2px rgba(60, 64, 67, 0.3), 0px 1px 3px 1px rgba(60, 64, 67, 0.15);\n",
              "      fill: #174EA6;\n",
              "    }\n",
              "\n",
              "    [theme=dark] .colab-df-convert {\n",
              "      background-color: #3B4455;\n",
              "      fill: #D2E3FC;\n",
              "    }\n",
              "\n",
              "    [theme=dark] .colab-df-convert:hover {\n",
              "      background-color: #434B5C;\n",
              "      box-shadow: 0px 1px 3px 1px rgba(0, 0, 0, 0.15);\n",
              "      filter: drop-shadow(0px 1px 2px rgba(0, 0, 0, 0.3));\n",
              "      fill: #FFFFFF;\n",
              "    }\n",
              "  </style>\n",
              "\n",
              "      <script>\n",
              "        const buttonEl =\n",
              "          document.querySelector('#df-30e2e88b-01b8-439a-a3aa-9d1601c74c3c button.colab-df-convert');\n",
              "        buttonEl.style.display =\n",
              "          google.colab.kernel.accessAllowed ? 'block' : 'none';\n",
              "\n",
              "        async function convertToInteractive(key) {\n",
              "          const element = document.querySelector('#df-30e2e88b-01b8-439a-a3aa-9d1601c74c3c');\n",
              "          const dataTable =\n",
              "            await google.colab.kernel.invokeFunction('convertToInteractive',\n",
              "                                                     [key], {});\n",
              "          if (!dataTable) return;\n",
              "\n",
              "          const docLinkHtml = 'Like what you see? Visit the ' +\n",
              "            '<a target=\"_blank\" href=https://colab.research.google.com/notebooks/data_table.ipynb>data table notebook</a>'\n",
              "            + ' to learn more about interactive tables.';\n",
              "          element.innerHTML = '';\n",
              "          dataTable['output_type'] = 'display_data';\n",
              "          await google.colab.output.renderOutput(dataTable, element);\n",
              "          const docLink = document.createElement('div');\n",
              "          docLink.innerHTML = docLinkHtml;\n",
              "          element.appendChild(docLink);\n",
              "        }\n",
              "      </script>\n",
              "    </div>\n",
              "  </div>\n",
              "  "
            ]
          },
          "metadata": {},
          "execution_count": 6
        }
      ]
    },
    {
      "cell_type": "markdown",
      "source": [
        "## **REGRESSÃO LINEAR SIMPLES**"
      ],
      "metadata": {
        "id": "S3Hp7kQK9KaY"
      }
    },
    {
      "cell_type": "markdown",
      "source": [
        "https://scikit-learn.org/stable/modules/generated/sklearn.linear_model.LinearRegression.html "
      ],
      "metadata": {
        "id": "x7ruW5bkQhrR"
      }
    },
    {
      "cell_type": "markdown",
      "source": [
        "### Valor médio (MEDV) em função do número de cômodos (RM)"
      ],
      "metadata": {
        "id": "Btt5b0gt0tAz"
      }
    },
    {
      "cell_type": "code",
      "source": [
        "df.head(2)"
      ],
      "metadata": {
        "id": "uTt4DY04DavB",
        "colab": {
          "base_uri": "https://localhost:8080/",
          "height": 112
        },
        "outputId": "b2161118-c313-45c2-a00e-15f22689d3c8"
      },
      "execution_count": 8,
      "outputs": [
        {
          "output_type": "execute_result",
          "data": {
            "text/plain": [
              "      RM  LSTAT  PTRATIO      MEDV\n",
              "0  6.575   4.98     15.3  504000.0\n",
              "1  6.421   9.14     17.8  453600.0"
            ],
            "text/html": [
              "\n",
              "  <div id=\"df-b9c8f2f5-3e17-4061-8df2-fc84e7498bf6\">\n",
              "    <div class=\"colab-df-container\">\n",
              "      <div>\n",
              "<style scoped>\n",
              "    .dataframe tbody tr th:only-of-type {\n",
              "        vertical-align: middle;\n",
              "    }\n",
              "\n",
              "    .dataframe tbody tr th {\n",
              "        vertical-align: top;\n",
              "    }\n",
              "\n",
              "    .dataframe thead th {\n",
              "        text-align: right;\n",
              "    }\n",
              "</style>\n",
              "<table border=\"1\" class=\"dataframe\">\n",
              "  <thead>\n",
              "    <tr style=\"text-align: right;\">\n",
              "      <th></th>\n",
              "      <th>RM</th>\n",
              "      <th>LSTAT</th>\n",
              "      <th>PTRATIO</th>\n",
              "      <th>MEDV</th>\n",
              "    </tr>\n",
              "  </thead>\n",
              "  <tbody>\n",
              "    <tr>\n",
              "      <th>0</th>\n",
              "      <td>6.575</td>\n",
              "      <td>4.98</td>\n",
              "      <td>15.3</td>\n",
              "      <td>504000.0</td>\n",
              "    </tr>\n",
              "    <tr>\n",
              "      <th>1</th>\n",
              "      <td>6.421</td>\n",
              "      <td>9.14</td>\n",
              "      <td>17.8</td>\n",
              "      <td>453600.0</td>\n",
              "    </tr>\n",
              "  </tbody>\n",
              "</table>\n",
              "</div>\n",
              "      <button class=\"colab-df-convert\" onclick=\"convertToInteractive('df-b9c8f2f5-3e17-4061-8df2-fc84e7498bf6')\"\n",
              "              title=\"Convert this dataframe to an interactive table.\"\n",
              "              style=\"display:none;\">\n",
              "        \n",
              "  <svg xmlns=\"http://www.w3.org/2000/svg\" height=\"24px\"viewBox=\"0 0 24 24\"\n",
              "       width=\"24px\">\n",
              "    <path d=\"M0 0h24v24H0V0z\" fill=\"none\"/>\n",
              "    <path d=\"M18.56 5.44l.94 2.06.94-2.06 2.06-.94-2.06-.94-.94-2.06-.94 2.06-2.06.94zm-11 1L8.5 8.5l.94-2.06 2.06-.94-2.06-.94L8.5 2.5l-.94 2.06-2.06.94zm10 10l.94 2.06.94-2.06 2.06-.94-2.06-.94-.94-2.06-.94 2.06-2.06.94z\"/><path d=\"M17.41 7.96l-1.37-1.37c-.4-.4-.92-.59-1.43-.59-.52 0-1.04.2-1.43.59L10.3 9.45l-7.72 7.72c-.78.78-.78 2.05 0 2.83L4 21.41c.39.39.9.59 1.41.59.51 0 1.02-.2 1.41-.59l7.78-7.78 2.81-2.81c.8-.78.8-2.07 0-2.86zM5.41 20L4 18.59l7.72-7.72 1.47 1.35L5.41 20z\"/>\n",
              "  </svg>\n",
              "      </button>\n",
              "      \n",
              "  <style>\n",
              "    .colab-df-container {\n",
              "      display:flex;\n",
              "      flex-wrap:wrap;\n",
              "      gap: 12px;\n",
              "    }\n",
              "\n",
              "    .colab-df-convert {\n",
              "      background-color: #E8F0FE;\n",
              "      border: none;\n",
              "      border-radius: 50%;\n",
              "      cursor: pointer;\n",
              "      display: none;\n",
              "      fill: #1967D2;\n",
              "      height: 32px;\n",
              "      padding: 0 0 0 0;\n",
              "      width: 32px;\n",
              "    }\n",
              "\n",
              "    .colab-df-convert:hover {\n",
              "      background-color: #E2EBFA;\n",
              "      box-shadow: 0px 1px 2px rgba(60, 64, 67, 0.3), 0px 1px 3px 1px rgba(60, 64, 67, 0.15);\n",
              "      fill: #174EA6;\n",
              "    }\n",
              "\n",
              "    [theme=dark] .colab-df-convert {\n",
              "      background-color: #3B4455;\n",
              "      fill: #D2E3FC;\n",
              "    }\n",
              "\n",
              "    [theme=dark] .colab-df-convert:hover {\n",
              "      background-color: #434B5C;\n",
              "      box-shadow: 0px 1px 3px 1px rgba(0, 0, 0, 0.15);\n",
              "      filter: drop-shadow(0px 1px 2px rgba(0, 0, 0, 0.3));\n",
              "      fill: #FFFFFF;\n",
              "    }\n",
              "  </style>\n",
              "\n",
              "      <script>\n",
              "        const buttonEl =\n",
              "          document.querySelector('#df-b9c8f2f5-3e17-4061-8df2-fc84e7498bf6 button.colab-df-convert');\n",
              "        buttonEl.style.display =\n",
              "          google.colab.kernel.accessAllowed ? 'block' : 'none';\n",
              "\n",
              "        async function convertToInteractive(key) {\n",
              "          const element = document.querySelector('#df-b9c8f2f5-3e17-4061-8df2-fc84e7498bf6');\n",
              "          const dataTable =\n",
              "            await google.colab.kernel.invokeFunction('convertToInteractive',\n",
              "                                                     [key], {});\n",
              "          if (!dataTable) return;\n",
              "\n",
              "          const docLinkHtml = 'Like what you see? Visit the ' +\n",
              "            '<a target=\"_blank\" href=https://colab.research.google.com/notebooks/data_table.ipynb>data table notebook</a>'\n",
              "            + ' to learn more about interactive tables.';\n",
              "          element.innerHTML = '';\n",
              "          dataTable['output_type'] = 'display_data';\n",
              "          await google.colab.output.renderOutput(dataTable, element);\n",
              "          const docLink = document.createElement('div');\n",
              "          docLink.innerHTML = docLinkHtml;\n",
              "          element.appendChild(docLink);\n",
              "        }\n",
              "      </script>\n",
              "    </div>\n",
              "  </div>\n",
              "  "
            ]
          },
          "metadata": {},
          "execution_count": 8
        }
      ]
    },
    {
      "cell_type": "code",
      "metadata": {
        "id": "r-ghCIWu0PM0",
        "colab": {
          "base_uri": "https://localhost:8080/"
        },
        "outputId": "396c47c5-2afd-45d5-978f-a09e54d123be"
      },
      "source": [
        "x1 = df.iloc[:,0:1].values\n",
        "x1"
      ],
      "execution_count": 9,
      "outputs": [
        {
          "output_type": "execute_result",
          "data": {
            "text/plain": [
              "array([[6.575],\n",
              "       [6.421],\n",
              "       [7.185],\n",
              "       [6.998],\n",
              "       [7.147],\n",
              "       [6.43 ],\n",
              "       [6.012],\n",
              "       [6.172],\n",
              "       [5.631],\n",
              "       [6.004],\n",
              "       [6.377],\n",
              "       [6.009],\n",
              "       [5.889],\n",
              "       [5.949],\n",
              "       [6.096],\n",
              "       [5.834],\n",
              "       [5.935],\n",
              "       [5.99 ],\n",
              "       [5.456],\n",
              "       [5.727],\n",
              "       [5.57 ],\n",
              "       [5.965],\n",
              "       [6.142],\n",
              "       [5.813],\n",
              "       [5.924],\n",
              "       [5.599],\n",
              "       [5.813],\n",
              "       [6.047],\n",
              "       [6.495],\n",
              "       [6.674],\n",
              "       [5.713],\n",
              "       [6.072],\n",
              "       [5.95 ],\n",
              "       [5.701],\n",
              "       [6.096],\n",
              "       [5.933],\n",
              "       [5.841],\n",
              "       [5.85 ],\n",
              "       [5.966],\n",
              "       [6.595],\n",
              "       [7.024],\n",
              "       [6.77 ],\n",
              "       [6.169],\n",
              "       [6.211],\n",
              "       [6.069],\n",
              "       [5.682],\n",
              "       [5.786],\n",
              "       [6.03 ],\n",
              "       [5.399],\n",
              "       [5.602],\n",
              "       [5.963],\n",
              "       [6.115],\n",
              "       [6.511],\n",
              "       [5.998],\n",
              "       [5.888],\n",
              "       [7.249],\n",
              "       [6.383],\n",
              "       [6.816],\n",
              "       [6.145],\n",
              "       [5.927],\n",
              "       [5.741],\n",
              "       [5.966],\n",
              "       [6.456],\n",
              "       [6.762],\n",
              "       [7.104],\n",
              "       [6.29 ],\n",
              "       [5.787],\n",
              "       [5.878],\n",
              "       [5.594],\n",
              "       [5.885],\n",
              "       [6.417],\n",
              "       [5.961],\n",
              "       [6.065],\n",
              "       [6.245],\n",
              "       [6.273],\n",
              "       [6.286],\n",
              "       [6.279],\n",
              "       [6.14 ],\n",
              "       [6.232],\n",
              "       [5.874],\n",
              "       [6.727],\n",
              "       [6.619],\n",
              "       [6.302],\n",
              "       [6.167],\n",
              "       [6.389],\n",
              "       [6.63 ],\n",
              "       [6.015],\n",
              "       [6.121],\n",
              "       [7.007],\n",
              "       [7.079],\n",
              "       [6.417],\n",
              "       [6.405],\n",
              "       [6.442],\n",
              "       [6.211],\n",
              "       [6.249],\n",
              "       [6.625],\n",
              "       [6.163],\n",
              "       [8.069],\n",
              "       [7.82 ],\n",
              "       [7.416],\n",
              "       [6.727],\n",
              "       [6.781],\n",
              "       [6.405],\n",
              "       [6.137],\n",
              "       [6.167],\n",
              "       [5.851],\n",
              "       [5.836],\n",
              "       [6.127],\n",
              "       [6.474],\n",
              "       [6.229],\n",
              "       [6.195],\n",
              "       [6.715],\n",
              "       [5.913],\n",
              "       [6.092],\n",
              "       [6.254],\n",
              "       [5.928],\n",
              "       [6.176],\n",
              "       [6.021],\n",
              "       [5.872],\n",
              "       [5.731],\n",
              "       [5.87 ],\n",
              "       [6.004],\n",
              "       [5.961],\n",
              "       [5.856],\n",
              "       [5.879],\n",
              "       [5.986],\n",
              "       [5.613],\n",
              "       [5.693],\n",
              "       [6.431],\n",
              "       [5.637],\n",
              "       [6.458],\n",
              "       [6.326],\n",
              "       [6.372],\n",
              "       [5.822],\n",
              "       [5.757],\n",
              "       [6.335],\n",
              "       [5.942],\n",
              "       [6.454],\n",
              "       [5.857],\n",
              "       [6.151],\n",
              "       [6.174],\n",
              "       [5.019],\n",
              "       [5.403],\n",
              "       [5.468],\n",
              "       [4.903],\n",
              "       [6.13 ],\n",
              "       [5.628],\n",
              "       [4.926],\n",
              "       [5.186],\n",
              "       [5.597],\n",
              "       [6.122],\n",
              "       [5.404],\n",
              "       [5.012],\n",
              "       [5.709],\n",
              "       [6.129],\n",
              "       [6.152],\n",
              "       [5.272],\n",
              "       [6.943],\n",
              "       [6.066],\n",
              "       [6.51 ],\n",
              "       [6.25 ],\n",
              "       [5.854],\n",
              "       [6.101],\n",
              "       [5.877],\n",
              "       [6.319],\n",
              "       [6.402],\n",
              "       [5.875],\n",
              "       [5.88 ],\n",
              "       [5.572],\n",
              "       [6.416],\n",
              "       [5.859],\n",
              "       [6.546],\n",
              "       [6.02 ],\n",
              "       [6.315],\n",
              "       [6.86 ],\n",
              "       [6.98 ],\n",
              "       [7.765],\n",
              "       [6.144],\n",
              "       [7.155],\n",
              "       [6.563],\n",
              "       [5.604],\n",
              "       [6.153],\n",
              "       [6.782],\n",
              "       [6.556],\n",
              "       [7.185],\n",
              "       [6.951],\n",
              "       [6.739],\n",
              "       [7.178],\n",
              "       [6.8  ],\n",
              "       [6.604],\n",
              "       [7.287],\n",
              "       [7.107],\n",
              "       [7.274],\n",
              "       [6.975],\n",
              "       [7.135],\n",
              "       [6.162],\n",
              "       [7.61 ],\n",
              "       [7.853],\n",
              "       [5.891],\n",
              "       [6.326],\n",
              "       [5.783],\n",
              "       [6.064],\n",
              "       [5.344],\n",
              "       [5.96 ],\n",
              "       [5.404],\n",
              "       [5.807],\n",
              "       [6.375],\n",
              "       [5.412],\n",
              "       [6.182],\n",
              "       [5.888],\n",
              "       [6.642],\n",
              "       [5.951],\n",
              "       [6.373],\n",
              "       [6.951],\n",
              "       [6.164],\n",
              "       [6.879],\n",
              "       [6.618],\n",
              "       [8.266],\n",
              "       [8.04 ],\n",
              "       [7.163],\n",
              "       [7.686],\n",
              "       [6.552],\n",
              "       [5.981],\n",
              "       [7.412],\n",
              "       [8.337],\n",
              "       [8.247],\n",
              "       [6.726],\n",
              "       [6.086],\n",
              "       [6.631],\n",
              "       [7.358],\n",
              "       [6.481],\n",
              "       [6.606],\n",
              "       [6.897],\n",
              "       [6.095],\n",
              "       [6.358],\n",
              "       [6.393],\n",
              "       [5.593],\n",
              "       [5.605],\n",
              "       [6.108],\n",
              "       [6.226],\n",
              "       [6.433],\n",
              "       [6.718],\n",
              "       [6.487],\n",
              "       [6.438],\n",
              "       [6.957],\n",
              "       [8.259],\n",
              "       [6.108],\n",
              "       [5.876],\n",
              "       [7.454],\n",
              "       [7.333],\n",
              "       [6.842],\n",
              "       [7.203],\n",
              "       [7.52 ],\n",
              "       [8.398],\n",
              "       [7.327],\n",
              "       [7.206],\n",
              "       [5.56 ],\n",
              "       [7.014],\n",
              "       [7.47 ],\n",
              "       [5.92 ],\n",
              "       [5.856],\n",
              "       [6.24 ],\n",
              "       [6.538],\n",
              "       [7.691],\n",
              "       [6.758],\n",
              "       [6.854],\n",
              "       [7.267],\n",
              "       [6.826],\n",
              "       [6.482],\n",
              "       [6.812],\n",
              "       [7.82 ],\n",
              "       [6.968],\n",
              "       [7.645],\n",
              "       [7.088],\n",
              "       [6.453],\n",
              "       [6.23 ],\n",
              "       [6.209],\n",
              "       [6.315],\n",
              "       [6.565],\n",
              "       [6.861],\n",
              "       [7.148],\n",
              "       [6.63 ],\n",
              "       [6.127],\n",
              "       [6.009],\n",
              "       [6.678],\n",
              "       [6.549],\n",
              "       [5.79 ],\n",
              "       [6.345],\n",
              "       [7.041],\n",
              "       [6.871],\n",
              "       [6.59 ],\n",
              "       [6.495],\n",
              "       [6.982],\n",
              "       [7.236],\n",
              "       [6.616],\n",
              "       [7.42 ],\n",
              "       [6.849],\n",
              "       [6.635],\n",
              "       [5.972],\n",
              "       [4.973],\n",
              "       [6.122],\n",
              "       [6.023],\n",
              "       [6.266],\n",
              "       [6.567],\n",
              "       [5.705],\n",
              "       [5.914],\n",
              "       [5.782],\n",
              "       [6.382],\n",
              "       [6.113],\n",
              "       [6.426],\n",
              "       [6.376],\n",
              "       [6.041],\n",
              "       [5.708],\n",
              "       [6.415],\n",
              "       [6.431],\n",
              "       [6.312],\n",
              "       [6.083],\n",
              "       [5.868],\n",
              "       [6.333],\n",
              "       [6.144],\n",
              "       [5.706],\n",
              "       [6.031],\n",
              "       [6.316],\n",
              "       [6.31 ],\n",
              "       [6.037],\n",
              "       [5.869],\n",
              "       [5.895],\n",
              "       [6.059],\n",
              "       [5.985],\n",
              "       [5.968],\n",
              "       [7.241],\n",
              "       [6.54 ],\n",
              "       [6.696],\n",
              "       [6.874],\n",
              "       [6.014],\n",
              "       [5.898],\n",
              "       [6.516],\n",
              "       [6.635],\n",
              "       [6.939],\n",
              "       [6.49 ],\n",
              "       [6.579],\n",
              "       [5.884],\n",
              "       [6.728],\n",
              "       [5.663],\n",
              "       [5.936],\n",
              "       [6.212],\n",
              "       [6.395],\n",
              "       [6.127],\n",
              "       [6.112],\n",
              "       [6.398],\n",
              "       [6.251],\n",
              "       [5.362],\n",
              "       [5.803],\n",
              "       [3.561],\n",
              "       [4.963],\n",
              "       [3.863],\n",
              "       [4.906],\n",
              "       [4.138],\n",
              "       [7.313],\n",
              "       [6.649],\n",
              "       [6.794],\n",
              "       [6.38 ],\n",
              "       [6.223],\n",
              "       [6.968],\n",
              "       [6.545],\n",
              "       [5.536],\n",
              "       [5.52 ],\n",
              "       [4.368],\n",
              "       [5.277],\n",
              "       [4.652],\n",
              "       [5.   ],\n",
              "       [4.88 ],\n",
              "       [5.39 ],\n",
              "       [5.713],\n",
              "       [6.051],\n",
              "       [5.036],\n",
              "       [6.193],\n",
              "       [5.887],\n",
              "       [6.471],\n",
              "       [6.405],\n",
              "       [5.747],\n",
              "       [5.453],\n",
              "       [5.852],\n",
              "       [5.987],\n",
              "       [6.343],\n",
              "       [6.404],\n",
              "       [5.349],\n",
              "       [5.531],\n",
              "       [5.683],\n",
              "       [4.138],\n",
              "       [5.608],\n",
              "       [5.617],\n",
              "       [6.852],\n",
              "       [5.757],\n",
              "       [6.657],\n",
              "       [4.628],\n",
              "       [5.155],\n",
              "       [4.519],\n",
              "       [6.434],\n",
              "       [6.782],\n",
              "       [5.304],\n",
              "       [5.957],\n",
              "       [6.824],\n",
              "       [6.411],\n",
              "       [6.006],\n",
              "       [5.648],\n",
              "       [6.103],\n",
              "       [5.565],\n",
              "       [5.896],\n",
              "       [5.837],\n",
              "       [6.202],\n",
              "       [6.193],\n",
              "       [6.38 ],\n",
              "       [6.348],\n",
              "       [6.833],\n",
              "       [6.425],\n",
              "       [6.436],\n",
              "       [6.208],\n",
              "       [6.629],\n",
              "       [6.461],\n",
              "       [6.152],\n",
              "       [5.935],\n",
              "       [5.627],\n",
              "       [5.818],\n",
              "       [6.406],\n",
              "       [6.219],\n",
              "       [6.485],\n",
              "       [5.854],\n",
              "       [6.459],\n",
              "       [6.341],\n",
              "       [6.251],\n",
              "       [6.185],\n",
              "       [6.417],\n",
              "       [6.749],\n",
              "       [6.655],\n",
              "       [6.297],\n",
              "       [7.393],\n",
              "       [6.728],\n",
              "       [6.525],\n",
              "       [5.976],\n",
              "       [5.936],\n",
              "       [6.301],\n",
              "       [6.081],\n",
              "       [6.701],\n",
              "       [6.376],\n",
              "       [6.317],\n",
              "       [6.513],\n",
              "       [6.209],\n",
              "       [5.759],\n",
              "       [5.952],\n",
              "       [6.003],\n",
              "       [5.926],\n",
              "       [5.713],\n",
              "       [6.167],\n",
              "       [6.229],\n",
              "       [6.437],\n",
              "       [6.98 ],\n",
              "       [5.427],\n",
              "       [6.162],\n",
              "       [6.484],\n",
              "       [5.304],\n",
              "       [6.185],\n",
              "       [6.229],\n",
              "       [6.242],\n",
              "       [6.75 ],\n",
              "       [7.061],\n",
              "       [5.762],\n",
              "       [5.871],\n",
              "       [6.312],\n",
              "       [6.114],\n",
              "       [5.905],\n",
              "       [5.454],\n",
              "       [5.414],\n",
              "       [5.093],\n",
              "       [5.983],\n",
              "       [5.983],\n",
              "       [5.707],\n",
              "       [5.926],\n",
              "       [5.67 ],\n",
              "       [5.39 ],\n",
              "       [5.794],\n",
              "       [6.019],\n",
              "       [5.569],\n",
              "       [6.027],\n",
              "       [6.593],\n",
              "       [6.12 ],\n",
              "       [6.976],\n",
              "       [6.794],\n",
              "       [6.03 ]])"
            ]
          },
          "metadata": {},
          "execution_count": 9
        }
      ]
    },
    {
      "cell_type": "code",
      "metadata": {
        "id": "7S0eXs3R0dZe",
        "colab": {
          "base_uri": "https://localhost:8080/"
        },
        "outputId": "5ec2ed0d-ceb8-4ee0-bf1b-8dc350de4abe"
      },
      "source": [
        "y = df.iloc[:, 3].values\n",
        "y"
      ],
      "execution_count": 10,
      "outputs": [
        {
          "output_type": "execute_result",
          "data": {
            "text/plain": [
              "array([ 504000.,  453600.,  728700.,  701400.,  760200.,  602700.,\n",
              "        480900.,  569100.,  346500.,  396900.,  315000.,  396900.,\n",
              "        455700.,  428400.,  382200.,  417900.,  485100.,  367500.,\n",
              "        424200.,  382200.,  285600.,  411600.,  319200.,  304500.,\n",
              "        327600.,  291900.,  348600.,  310800.,  386400.,  441000.,\n",
              "        266700.,  304500.,  277200.,  275100.,  283500.,  396900.,\n",
              "        420000.,  441000.,  518700.,  646800.,  732900.,  558600.,\n",
              "        531300.,  518700.,  445200.,  405300.,  420000.,  348600.,\n",
              "        302400.,  407400.,  413700.,  430500.,  525000.,  491400.,\n",
              "        396900.,  743400.,  518700.,  663600.,  489300.,  411600.,\n",
              "        392700.,  336000.,  466200.,  525000.,  693000.,  493500.,\n",
              "        407400.,  462000.,  365400.,  438900.,  508200.,  455700.,\n",
              "        478800.,  491400.,  506100.,  449400.,  420000.,  436800.,\n",
              "        445200.,  426300.,  588000.,  501900.,  520800.,  480900.,\n",
              "        501900.,  558600.,  472500.,  466200.,  495600.,  602700.,\n",
              "        474600.,  462000.,  480900.,  525000.,  432600.,  596400.,\n",
              "        449400.,  812700.,  919800.,  697200.,  577500.,  556500.,\n",
              "        390600.,  405300.,  422100.,  409500.,  409500.,  428400.,\n",
              "        415800.,  407400.,  455700.,  478800.,  394800.,  392700.,\n",
              "        388500.,  384300.,  445200.,  403200.,  428400.,  405300.,\n",
              "        462000.,  426300.,  430500.,  363300.,  394800.,  449400.,\n",
              "        329700.,  340200.,  378000.,  300300.,  403200.,  411600.,\n",
              "        483000.,  386400.,  327600.,  380100.,  365400.,  359100.,\n",
              "        279300.,  373800.,  294000.,  302400.,  281400.,  327600.,\n",
              "        247800.,  289800.,  327600.,  306600.,  373800.,  323400.,\n",
              "        451500.,  411600.,  321300.,  407400.,  357000.,  327600.,\n",
              "        275100.,  867300.,  510300.,  489300.,  567000.,  476700.,\n",
              "        525000.,  499800.,  499800.,  468300.,  365400.,  401100.,\n",
              "        485100.,  495600.,  474600.,  617400.,  487200.,  516600.,\n",
              "        627900.,  781200.,  835800.,  760200.,  795900.,  682500.,\n",
              "        554400.,  621600.,  672000.,  625800.,  732900.,  777000.,\n",
              "        640500.,  764400.,  653100.,  611100.,  699300.,  636300.,\n",
              "        726600.,  732900.,  690900.,  506100.,  888300., 1018500.,\n",
              "        474600.,  512400.,  472500.,  512400.,  420000.,  455700.,\n",
              "        405300.,  470400.,  590100.,  497700.,  525000.,  489300.,\n",
              "        602700.,  451500.,  483000.,  560700.,  455700.,  577500.,\n",
              "        632100.,  940800.,  789600.,  663600.,  980700.,  661500.,\n",
              "        510300.,  665700.,  875700., 1014300.,  609000.,  504000.,\n",
              "        527100.,  661500.,  497700.,  489300.,  462000.,  422100.,\n",
              "        466200.,  497700.,  369600.,  388500.,  510300.,  430500.,\n",
              "        514500.,  550200.,  512400.,  520800.,  621600.,  898800.,\n",
              "        459900.,  438900.,  924000.,  756000.,  632100.,  709800.,\n",
              "        905100., 1024800.,  651000.,  766500.,  478800.,  644700.,\n",
              "        913500.,  434700.,  443100.,  529200.,  512400.,  739200.,\n",
              "        680400.,  672000.,  697200.,  695100.,  611100.,  737100.,\n",
              "        953400.,  743400.,  966000.,  676200.,  462000.,  422100.,\n",
              "        487200.,  468300.,  520800.,  598500.,  783300.,  585900.,\n",
              "        501900.,  455700.,  600600.,  569100.,  426300.,  472500.,\n",
              "        609000.,  520800.,  462000.,  554400.,  695100.,  758100.,\n",
              "        596400.,  701400.,  592200.,  478800.,  426300.,  338100.,\n",
              "        464100.,  407400.,  453600.,  499800.,  340200.,  373800.,\n",
              "        415800.,  485100.,  441000.,  499800.,  485100.,  428400.,\n",
              "        388500.,  525000.,  516600.,  483000.,  466200.,  405300.,\n",
              "        474600.,  415800.,  359100.,  407400.,  466200.,  434700.,\n",
              "        443100.,  409500.,  388500.,  432600.,  399000.,  392700.,\n",
              "        686700.,  346500.,  501900.,  655200.,  367500.,  361200.,\n",
              "        485100.,  514500.,  558600.,  480900.,  506100.,  390600.,\n",
              "        632100.,  382200.,  432600.,  373800.,  455700.,  476700.,\n",
              "        474600.,  525000.,  417900.,  436800.,  352800.,  577500.,\n",
              "        459900.,  485100.,  289800.,  289800.,  315000.,  291900.,\n",
              "        279300.,  275100.,  214200.,  218400.,  228900.,  237300.,\n",
              "        258300.,  184800.,  151200.,  220500.,  155400.,  214200.,\n",
              "        241500.,  317100.,  487200.,  203700.,  289800.,  266700.,\n",
              "        275100.,  262500.,  178500.,  105000.,  132300.,  117600.,\n",
              "        151200.,  254100.,  174300.,  178500.,  105000.,  249900.,\n",
              "        585900.,  361200.,  577500.,  315000.,  361200.,  375900.,\n",
              "        342300.,  147000.,  151200.,  157500.,  218400.,  184800.,\n",
              "        176400.,  350700.,  298200.,  436800.,  281400.,  245700.,\n",
              "        174300.,  214200.,  228900.,  231000.,  199500.,  304500.,\n",
              "        296100.,  338100.,  300300.,  245700.,  281400.,  201600.,\n",
              "        182700.,  176400.,  268800.,  220500.,  359100.,  386400.,\n",
              "        323400.,  226800.,  247800.,  312900.,  264600.,  296100.,\n",
              "        273000.,  281400.,  319200.,  338100.,  373800.,  312900.,\n",
              "        296100.,  266700.,  283500.,  312900.,  420000.,  344400.,\n",
              "        371700.,  409500.,  424200.,  449400.,  417900.,  399000.,\n",
              "        401100.,  401100.,  422100.,  417900.,  411600.,  487200.,\n",
              "        625800.,  289800.,  279300.,  350700.,  252000.,  306600.,\n",
              "        449400.,  483000.,  497700.,  525000.,  457800.,  432600.,\n",
              "        445200.,  401100.,  432600.,  319200.,  147000.,  170100.,\n",
              "        285600.,  422100.,  457800.,  514500.,  485100.,  413700.,\n",
              "        384300.,  445200.,  367500.,  352800.,  470400.,  432600.,\n",
              "        501900.,  462000.,  249900.])"
            ]
          },
          "metadata": {},
          "execution_count": 10
        }
      ]
    },
    {
      "cell_type": "code",
      "metadata": {
        "id": "xH25j9ap18Xu"
      },
      "source": [
        "from sklearn.model_selection import train_test_split\n",
        "X_treino, X_teste, y_treino, y_teste = train_test_split(x1, y, test_size = 0.3, random_state = 10)"
      ],
      "execution_count": 11,
      "outputs": []
    },
    {
      "cell_type": "code",
      "metadata": {
        "id": "Bsws9Z2P2Nug",
        "colab": {
          "base_uri": "https://localhost:8080/"
        },
        "outputId": "046088db-9b85-4861-ece0-e79ca7b64259"
      },
      "source": [
        "X_treino.shape, y_treino.shape"
      ],
      "execution_count": 12,
      "outputs": [
        {
          "output_type": "execute_result",
          "data": {
            "text/plain": [
              "((342, 1), (342,))"
            ]
          },
          "metadata": {},
          "execution_count": 12
        }
      ]
    },
    {
      "cell_type": "code",
      "metadata": {
        "id": "bMjUYmZu2VEj",
        "colab": {
          "base_uri": "https://localhost:8080/"
        },
        "outputId": "9ab24fb8-bee7-4be5-b486-71e6e54e0603"
      },
      "source": [
        "X_teste.shape, y_teste.shape"
      ],
      "execution_count": 13,
      "outputs": [
        {
          "output_type": "execute_result",
          "data": {
            "text/plain": [
              "((147, 1), (147,))"
            ]
          },
          "metadata": {},
          "execution_count": 13
        }
      ]
    },
    {
      "cell_type": "code",
      "source": [
        "from sklearn.linear_model import LinearRegression"
      ],
      "metadata": {
        "id": "vEBGIvlQa41o"
      },
      "execution_count": 14,
      "outputs": []
    },
    {
      "cell_type": "code",
      "metadata": {
        "id": "A-iqvnKk2bnf",
        "colab": {
          "base_uri": "https://localhost:8080/"
        },
        "outputId": "12f1035b-4744-4aa6-c20e-f1124fe07fbb"
      },
      "source": [
        "reg_linear1 = LinearRegression()\n",
        "reg_linear1.fit(X_treino, y_treino)"
      ],
      "execution_count": 15,
      "outputs": [
        {
          "output_type": "execute_result",
          "data": {
            "text/plain": [
              "LinearRegression()"
            ]
          },
          "metadata": {},
          "execution_count": 15
        }
      ]
    },
    {
      "cell_type": "code",
      "metadata": {
        "id": "2bX8QM8S2ntL",
        "colab": {
          "base_uri": "https://localhost:8080/"
        },
        "outputId": "06be921c-b3db-4ed9-cb4f-1f19c5668ddd"
      },
      "source": [
        "# Intercepto (coeficiente linear)\n",
        "reg_linear1.intercept_"
      ],
      "execution_count": 16,
      "outputs": [
        {
          "output_type": "execute_result",
          "data": {
            "text/plain": [
              "-626510.2699464143"
            ]
          },
          "metadata": {},
          "execution_count": 16
        }
      ]
    },
    {
      "cell_type": "code",
      "metadata": {
        "id": "ZRr5GJ8l2sQs",
        "colab": {
          "base_uri": "https://localhost:8080/"
        },
        "outputId": "ac39cc46-c096-4619-cf67-8e3a3098126b"
      },
      "source": [
        "# Coeficiente Angular\n",
        "reg_linear1.coef_"
      ],
      "execution_count": 17,
      "outputs": [
        {
          "output_type": "execute_result",
          "data": {
            "text/plain": [
              "array([173771.45170999])"
            ]
          },
          "metadata": {},
          "execution_count": 17
        }
      ]
    },
    {
      "cell_type": "markdown",
      "source": [
        "**Equação: Valor = -626510,27 + 173771,45.número_cômodos**"
      ],
      "metadata": {
        "id": "uGC5B9gnO-oZ"
      }
    },
    {
      "cell_type": "code",
      "metadata": {
        "id": "GpTQY7812wpM",
        "colab": {
          "base_uri": "https://localhost:8080/"
        },
        "outputId": "55210c96-8961-48b1-d926-3b8296f89a01"
      },
      "source": [
        "# Coeficiente de Determinação dados de treino\n",
        "reg_linear1.score(X_treino, y_treino)"
      ],
      "execution_count": 18,
      "outputs": [
        {
          "output_type": "execute_result",
          "data": {
            "text/plain": [
              "0.46368351515551953"
            ]
          },
          "metadata": {},
          "execution_count": 18
        }
      ]
    },
    {
      "cell_type": "code",
      "metadata": {
        "id": "1EG8Tvie28UO",
        "colab": {
          "base_uri": "https://localhost:8080/"
        },
        "outputId": "18b320b2-f94e-4c56-fa38-2d3f8df52e81"
      },
      "source": [
        "# Coeficiente de Determinação dados de teste\n",
        "reg_linear1.score(X_teste, y_teste)"
      ],
      "execution_count": 20,
      "outputs": [
        {
          "output_type": "execute_result",
          "data": {
            "text/plain": [
              "0.5426573915930195"
            ]
          },
          "metadata": {},
          "execution_count": 20
        }
      ]
    },
    {
      "cell_type": "code",
      "metadata": {
        "id": "kL8XhAwQ3EbM",
        "colab": {
          "base_uri": "https://localhost:8080/"
        },
        "outputId": "d91d0523-b11e-4cca-fedc-95dfdfd480b3"
      },
      "source": [
        "previsoes_treino = reg_linear1.predict(X_treino)\n",
        "previsoes_treino"
      ],
      "execution_count": 21,
      "outputs": [
        {
          "output_type": "execute_result",
          "data": {
            "text/plain": [
              "array([551833.94409904, 468423.64727824, 647755.78544295, 658182.07254555,\n",
              "       586414.46298932, 464600.67534062, 395265.86610833, 229487.901177  ,\n",
              "       441141.52935977, 424980.78435074, 523161.65456689, 432105.41387085,\n",
              "       555135.60168153,  44768.84800928, 504915.65213734, 424285.6985439 ,\n",
              "       565735.66023583, 607962.12300136, 455912.10275512, 442531.70097345,\n",
              "       505784.50939589, 450003.87339698, 410210.21095539, 390226.49400874,\n",
              "       472767.93357099, 809884.54988837, 401174.09546647, 639762.29866429,\n",
              "       465817.07550259, 491882.79325909, 437318.55742215, 416813.52612037,\n",
              "       413164.32563446, 560870.05958796, 396134.72336688, 459561.30324103,\n",
              "       335488.4867201 , 521423.94004979, 441315.30081148, 630899.95462708,\n",
              "       452262.90226921, 557915.94490889, 437144.78597044, 391616.66562242,\n",
              "       525420.68343912, 459735.07469274, 397872.43788398, 492925.42196935,\n",
              "       387619.92223309, 533240.39876607, 487538.50696634, 608483.43735649,\n",
              "       832822.38151409, 457823.58872393, 414380.72579643, 430193.92790204,\n",
              "       622037.61058987, 403433.1243387 , 548532.28651655, 346436.08817783,\n",
              "       295173.50992338, 410557.75385881, 348000.03124322, 481456.50615649,\n",
              "       618214.63865225, 341396.71607824, 438187.4146807 , 620821.2104279 ,\n",
              "       313940.82670806, 507348.45246128, 394397.00884978, 806582.89230588,\n",
              "       485279.47809411, 395092.09465662, 444269.41549055, 430541.47080546,\n",
              "        92555.99722953, 445138.2727491 , 486495.87825608, 808668.1497264 ,\n",
              "       501266.45165143, 420115.18370286, 514299.31052968, 388488.77949164,\n",
              "       391269.122719  , 680251.04691272, 235917.44489027, 434885.75709821,\n",
              "       403259.35288699, 527679.71231135, 586414.46298932, 500223.82294117,\n",
              "       500397.59439288, 290481.68072721, 302993.22525033, 393528.15159123,\n",
              "       404475.75304896, 528896.11247332, 269281.56361859, 368678.8339967 ,\n",
              "       482499.13486675, 480761.42034965, 302124.36799178, 557220.85910205,\n",
              "       486322.10680437, 521076.39714637, 397177.35207714, 498486.10842407,\n",
              "       394570.78030149, 490840.16454883, 274668.4786216 , 332708.14349274,\n",
              "       454869.47404486, 496227.07955184, 312550.65509438, 366246.03367277,\n",
              "       410036.43950368, 473984.33373296, 362770.60463857, 346957.40253296,\n",
              "       423243.06983364, 358773.86124924, 305252.25412256, 380321.52126127,\n",
              "       625165.49672065, 470856.44760218, 374239.52045142, 475722.04825006,\n",
              "       419767.64079944, 732382.48242572, 476069.59115348, 516037.02504678,\n",
              "       364855.86205909, 633158.98349931, 552007.71555075, 481456.50615649,\n",
              "       449656.33049356, 445138.2727491 , 597014.52154363, 382580.5501335 ,\n",
              "       482151.59196333, 486669.64970779, 544535.54312722, 418725.01208918,\n",
              "       378931.34964759, 426370.95596442, 433669.35693624, 310117.85477044,\n",
              "       449656.33049356, 407777.41063145, 418551.24063747, 671562.47432722,\n",
              "       495010.67938987, 372154.2630309 , 471203.9905056 , 695890.47756662,\n",
              "       347304.94543638, 416813.52612037, 402216.72417673, 407429.86772803,\n",
              "       530286.284087  , 709965.96515513, 421331.58386483, 439925.1291978 ,\n",
              "       519512.45408098, 502135.30890998, 568863.54636661, 451220.27355895,\n",
              "       488407.36422489, 455912.10275512, 469987.59034363, 481282.73470478,\n",
              "       365550.94786592, 341222.94462653, 366246.03367277, 625686.81107578,\n",
              "       581375.09088973, 406039.69611435, 403259.35288699, 321065.45622817,\n",
              "       341744.25898166, 413164.32563446, 652100.0717357 , 822222.32295978,\n",
              "       510997.65294719, 395960.95191517, 559653.65942599, 403606.89579041,\n",
              "       413859.4114413 , 311681.79783583, 467728.5614714 , 158762.92033104,\n",
              "        92555.99722953, 468597.41872995, 524725.59763228, 394918.32320491,\n",
              "       471030.21905389, 444443.18694226, 440793.98645635, 646713.15673269,\n",
              "       582417.71959999, 396482.2662703 , 504741.88068563, 248602.7608651 ,\n",
              "       225491.15778767, 396656.03772201, 505263.19504076, 349563.97430861,\n",
              "       488581.1356766 , 549922.45813023, 432626.72822598, 526463.31214938,\n",
              "       546447.02909603, 314288.36961148, 415770.89741011, 616824.46703857,\n",
              "       605181.779774  , 366246.03367277, 334619.62946155, 436102.15726018,\n",
              "       432800.49967769, 564171.71717045, 579289.83346921, 516732.11085362,\n",
              "       701972.47837647, 511518.96730232, 589542.3491201 , 383623.17884376,\n",
              "       491013.93600054, 485974.56390095, 427239.81322297, 360859.11866976,\n",
              "       529938.74118358,  -7710.13040714, 484410.62083556, 404997.06740409,\n",
              "       347478.71688809, 445485.81565252, 571991.43249739, 354950.88931162,\n",
              "       394223.23739807, 581375.09088973, 455912.10275512, 709097.10789658,\n",
              "       499876.28003775, 401000.32401476, 417682.38337892, 437318.55742215,\n",
              "       478328.62002571, 525594.45489083, 434885.75709821, 373891.977548  ,\n",
              "       323672.02800382, 546273.25764432, 584329.2055688 , 554092.97297127,\n",
              "       518643.59682243, 552007.71555075, 510823.88149548, 378236.26384075,\n",
              "       398046.20933569, 404823.29595238, 351301.68882571, 615434.29542489,\n",
              "       385187.12190915, 428108.67048152, 381885.46432666, 562434.00265334,\n",
              "       567473.37475293, 533935.48457291, 409167.58224513, 474331.87663638,\n",
              "       438708.72903583, 459735.07469274, 600489.95057783, 409341.35369684,\n",
              "       393875.69449465, 542624.05715841, 436971.01451873, 373891.977548  ,\n",
              "       523509.19747031, 463558.04663036, 419420.09789602, 393701.92304294,\n",
              "       668782.13109986, 459387.53178932, 340527.85881969, 434016.89983966,\n",
              "       492056.5647108 , 452784.21662434, 321586.7705833 , 417682.38337892,\n",
              "       586762.00589274, 488233.59277318, 428629.98483665, 421505.35531654,\n",
              "       446354.67291107, 603617.83670861, 427587.35612639, 379626.43545443,\n",
              "       542624.05715841, 435580.84290505, 245648.64618603, 390400.26546045,\n",
              "       387793.6936848 , 492230.33616251, 407256.09627632, 445138.2727491 ,\n",
              "       440446.44355293, 374760.83480655, 513951.76762626, 441141.52935977,\n",
              "       435928.38580847, 378410.03529246, 364160.77625225, 495358.22229329,\n",
              "       409341.35369684, 584329.2055688 , 404997.06740409, 396656.03772201,\n",
              "       177704.00856742, 455390.78839999, 226012.4721428 , 404823.29595238,\n",
              "       221494.41439834, 442531.70097345, 594060.40686456, 339659.00156114,\n",
              "       458692.44598248, 351996.77463255, 420810.2695097 , 476590.90550861,\n",
              "       512040.28165745, 258507.73361257, 289612.82346866, 391095.35126729,\n",
              "       181874.52340846, 365029.6335108 , 387272.37932967, 519164.91117756,\n",
              "       413685.63998959, 564519.26007386])"
            ]
          },
          "metadata": {},
          "execution_count": 21
        }
      ]
    },
    {
      "cell_type": "code",
      "source": [
        "import matplotlib.pyplot as plt"
      ],
      "metadata": {
        "id": "0nRoU5nmvNLn"
      },
      "execution_count": 23,
      "outputs": []
    },
    {
      "cell_type": "code",
      "source": [
        "plt.scatter(y=y_treino, x=X_treino, color='blue', s=10, alpha=0.9)\n",
        "X_plot = np.linspace(3, 9)\n",
        "plt.plot(X_plot, X_plot*reg_linear1.coef_ + reg_linear1.intercept_, color='r')\n",
        "plt.title('Reta de regressão')\n",
        "plt.ylabel('Valor Médio')\n",
        "plt.xlabel('Quantidade Média de Cômodos')\n",
        "plt.show()"
      ],
      "metadata": {
        "id": "t3hTUF7HzVC5",
        "colab": {
          "base_uri": "https://localhost:8080/",
          "height": 295
        },
        "outputId": "92aa4285-b28f-4fcb-95a1-d6f34b4363e5"
      },
      "execution_count": 24,
      "outputs": [
        {
          "output_type": "display_data",
          "data": {
            "text/plain": [
              "<Figure size 432x288 with 1 Axes>"
            ],
            "image/png": "[encoded data removed]"
          },
          "metadata": {
            "needs_background": "light"
          }
        }
      ]
    },
    {
      "cell_type": "code",
      "metadata": {
        "id": "4KLbSxAg5oiQ",
        "colab": {
          "base_uri": "https://localhost:8080/"
        },
        "outputId": "32a661bb-4a55-4575-cd35-3875bdf687d6"
      },
      "source": [
        "previsoes_teste = reg_linear1.predict(X_teste)\n",
        "previsoes_teste"
      ],
      "execution_count": 25,
      "outputs": [
        {
          "output_type": "execute_result",
          "data": {
            "text/plain": [
              "array([419593.86934773, 438187.4146807 , 447744.84452475, 480935.19180136,\n",
              "       491013.93600054, 494836.90793816, 563650.40281531, 438187.4146807 ,\n",
              "       500745.1372963 , 482151.59196333, 452436.67372092, 452784.21662434,\n",
              "       585719.37718248, 394744.5517532 , 321239.22767988, 442705.47242516,\n",
              "       458171.13162735, 446702.21581449, 442357.92952174, 488581.1356766 ,\n",
              "       592322.69234746, 244432.24602406, 412816.78273104, 540365.02828618,\n",
              "       421331.58386483, 554092.97297127, 470856.44760218, 369373.91980354,\n",
              "       732382.48242572, 411947.92547249, 484758.16373898, 514646.8534331 ,\n",
              "       565561.88878412, 438534.95758412, 661483.73012804, 452957.98807605,\n",
              "       579984.91927605, 402911.80998357, 351475.46027742, 537063.37070369,\n",
              "       491535.25035567, 490145.07874199, 637503.26979206, 512735.36746429,\n",
              "       722825.05258167, 631768.81188563, 489971.30729028, 353039.40334281,\n",
              "       471551.53340902, 466512.16130943, 446007.13000765, 384492.03610231,\n",
              "       390747.80836387, 312550.65509438, 526463.31214938, 310117.85477044,\n",
              "       567994.68910806, 399610.15240108, 435754.61435676, 393180.60868781,\n",
              "       486495.87825608, 295173.50992338, 591106.29218549, 542450.2857067 ,\n",
              "       509607.48133351, 371111.63432064, 444269.41549055, 418203.69773405,\n",
              "       499702.50858604, 502135.30890998, 413511.86853788, 345393.45946757,\n",
              "       644280.35640875, 470335.13324705, 525594.45489083, 361032.89012147,\n",
              "       365377.17641422, 489276.22148344, 475374.50534664, 410210.21095539,\n",
              "       481630.2776082 , 523682.96892202, 346088.54527441, 390747.80836387,\n",
              "       357557.46108727, 542276.51425499, 486495.87825608, 409688.89660026,\n",
              "       411252.83966565, 432800.49967769, 456433.41711025, 407603.63917974,\n",
              "       525768.22634254, 460256.38904787, 452436.67372092, 431062.78516059,\n",
              "       622037.61058987, 391095.35126729, 540886.34264131, 132523.43112283,\n",
              "       738116.94033215, 345567.23091928, 422547.9840268 , 393354.38013952,\n",
              "       770612.20180191, 613349.03800437, 365203.4049625 , 448266.15887988,\n",
              "       383623.17884376, 509955.02423693, 559306.11652257, 237655.15940737,\n",
              "       537932.22796224, 416639.75466866, 662178.81593488, 398393.75223911,\n",
              "       472767.93357099, 547837.20070971, 585545.60573077, 491361.47890396,\n",
              "       462341.64646839, 427413.58467468, 316547.39848371, 662873.90174172,\n",
              "       488581.1356766 , 444616.95839397, 417161.06902379, 636286.86963009,\n",
              "       456085.87420683, 470335.13324705, 542450.2857067 , 454174.38823802,\n",
              "       495879.53664842, 312376.88364267, 615608.0668766 , 348868.88850177,\n",
              "       408646.26789   , 482672.90631846, 390052.72255703, 379105.1210993 ,\n",
              "       242346.98860354, 396829.80917372, 775651.5739015 , 495705.76519671,\n",
              "       448266.15887988, 483715.53502872, 497964.79406894])"
            ]
          },
          "metadata": {},
          "execution_count": 25
        }
      ]
    },
    {
      "cell_type": "code",
      "metadata": {
        "id": "XZtf_4mq5wLy",
        "colab": {
          "base_uri": "https://localhost:8080/"
        },
        "outputId": "35a25c00-0d6d-4d9d-8ba4-713d949779c6"
      },
      "source": [
        "y_teste"
      ],
      "execution_count": 26,
      "outputs": [
        {
          "output_type": "execute_result",
          "data": {
            "text/plain": [
              "array([ 487200.,  428400.,  525000.,  483000.,  516600.,  462000.,\n",
              "        592200.,  476700.,  512400.,  275100.,  487200.,  518700.,\n",
              "        501900.,  499800.,  319200.,  621600.,  483000.,  445200.,\n",
              "        373800.,  273000.,  644700.,  321300.,  510300.,  478800.,\n",
              "        348600.,  462000.,  516600.,  405300.,  919800.,  266700.,\n",
              "        455700.,  499800.,  627900.,  357000.,  665700.,  373800.,\n",
              "        867300.,  327600.,  327600.,  501900.,  151200.,  499800.,\n",
              "        726600.,  625800.,  835800.,  686700.,  338100.,  300300.,\n",
              "        499800.,  493500.,  569100.,  220500.,  226800.,  411600.,\n",
              "        478800.,  241500.,  655200.,  432600.,  441000.,  405300.,\n",
              "        462000.,  252000.,  495600.,  577500.,  512400.,  392700.,\n",
              "        279300.,  480900.,  497700.,  554400.,  399000.,  369600.,\n",
              "        315000.,  445200.,  585900.,  105000.,  388500.,  453600.,\n",
              "        312900.,  336000.,  315000.,  501900.,  323400.,  476700.,\n",
              "        382200.,  609000.,  390600.,  413700.,  426300.,  283500.,\n",
              "        445200.,  451500.,  527100.,  388500.,  449400.,  504000.,\n",
              "        732900.,  443100.,  550200.,  184800., 1018500.,  365400.,\n",
              "        443100.,  409500.,  789600.,  690900.,  457800.,  296100.,\n",
              "        348600.,  346500.,  176400.,  338100.,  344400.,  401100.,\n",
              "        697200.,  361200.,  411600.,  680400.,  732900.,  514500.,\n",
              "        453600.,  478800.,  289800.,  701400.,  508200.,  455700.,\n",
              "        298200.,  697200.,  422100.,  483000.,  588000.,  386400.,\n",
              "        247800.,  281400.,  783300.,  329700.,  184800.,  518700.,\n",
              "        441000.,  407400.,  155400.,  455700.,  812700.,  403200.,\n",
              "        306600.,  501900.,  275100.])"
            ]
          },
          "metadata": {},
          "execution_count": 26
        }
      ]
    },
    {
      "cell_type": "code",
      "metadata": {
        "id": "6v_GM2AQ8KdP",
        "colab": {
          "base_uri": "https://localhost:8080/",
          "height": 295
        },
        "outputId": "0caf6ecb-1b00-4554-9f0c-7462d9ebce46"
      },
      "source": [
        "plt.scatter(y=y_teste, x=X_teste, color='blue', s=10, alpha=0.9)\n",
        "X_plot = np.linspace(4, 9)\n",
        "plt.plot(X_plot, X_plot*reg_linear1.coef_ + reg_linear1.intercept_, color='r')\n",
        "plt.title('Reta de regressão')\n",
        "plt.ylabel('Valor Médio')\n",
        "plt.xlabel('Quantidade de Cômodos')\n",
        "plt.show()"
      ],
      "execution_count": 27,
      "outputs": [
        {
          "output_type": "display_data",
          "data": {
            "text/plain": [
              "<Figure size 432x288 with 1 Axes>"
            ],
            "image/png": "[encoded data removed]"
          },
          "metadata": {
            "needs_background": "light"
          }
        }
      ]
    },
    {
      "cell_type": "code",
      "source": [
        "# Fazendo previsões para valores distintos\n",
        "valor_casa = reg_linear1.predict([[4]])\n",
        "valor_casa"
      ],
      "metadata": {
        "id": "CNrxZVosM5lD",
        "colab": {
          "base_uri": "https://localhost:8080/"
        },
        "outputId": "6b3bbff5-c2be-4e2b-b74c-158f47eb79e3"
      },
      "execution_count": 28,
      "outputs": [
        {
          "output_type": "execute_result",
          "data": {
            "text/plain": [
              "array([68575.53689355])"
            ]
          },
          "metadata": {},
          "execution_count": 28
        }
      ]
    },
    {
      "cell_type": "markdown",
      "source": [
        "**Métricas de Desempenho**"
      ],
      "metadata": {
        "id": "-eU7r8Fs2n5o"
      }
    },
    {
      "cell_type": "code",
      "metadata": {
        "id": "K0vNPhFw2QA_",
        "colab": {
          "base_uri": "https://localhost:8080/"
        },
        "outputId": "43abbe0b-4a38-42e2-865c-1bc102dc3478"
      },
      "source": [
        "# Erro absoluto\n",
        "abs(y_teste - previsoes_teste).mean()"
      ],
      "execution_count": 29,
      "outputs": [
        {
          "output_type": "execute_result",
          "data": {
            "text/plain": [
              "76063.99733079868"
            ]
          },
          "metadata": {},
          "execution_count": 29
        }
      ]
    },
    {
      "cell_type": "code",
      "metadata": {
        "id": "0xwitnAQ2QBA"
      },
      "source": [
        "from sklearn.metrics import mean_absolute_error, mean_squared_error"
      ],
      "execution_count": 30,
      "outputs": []
    },
    {
      "cell_type": "code",
      "metadata": {
        "id": "JvV7onBf2QBA",
        "colab": {
          "base_uri": "https://localhost:8080/"
        },
        "outputId": "670d4747-cec8-484e-d84a-cd1a93ef4f6b"
      },
      "source": [
        "# Erro médio absoluto\n",
        "mean_absolute_error(y_teste, previsoes_teste)"
      ],
      "execution_count": 31,
      "outputs": [
        {
          "output_type": "execute_result",
          "data": {
            "text/plain": [
              "76063.99733079868"
            ]
          },
          "metadata": {},
          "execution_count": 31
        }
      ]
    },
    {
      "cell_type": "code",
      "metadata": {
        "id": "Hsv58lFO2QBB",
        "colab": {
          "base_uri": "https://localhost:8080/"
        },
        "outputId": "d328096b-7f28-44e2-8593-0e01627c4e7a"
      },
      "source": [
        "# Erro quadrático médio\n",
        "mean_squared_error(y_teste, previsoes_teste)"
      ],
      "execution_count": 32,
      "outputs": [
        {
          "output_type": "execute_result",
          "data": {
            "text/plain": [
              "11294624525.740473"
            ]
          },
          "metadata": {},
          "execution_count": 32
        }
      ]
    },
    {
      "cell_type": "code",
      "metadata": {
        "id": "XP8C3lPI2QBC",
        "colab": {
          "base_uri": "https://localhost:8080/"
        },
        "outputId": "b02b1a3e-8f0f-45a9-f877-df6ea6c8f575"
      },
      "source": [
        "# Raiz do erro quadrático médio\n",
        "np.sqrt(mean_squared_error(y_teste, previsoes_teste))"
      ],
      "execution_count": 33,
      "outputs": [
        {
          "output_type": "execute_result",
          "data": {
            "text/plain": [
              "106276.17101561607"
            ]
          },
          "metadata": {},
          "execution_count": 33
        }
      ]
    },
    {
      "cell_type": "markdown",
      "source": [
        "### Valor médio (MEDV) em função da classe social (LSTAT)"
      ],
      "metadata": {
        "id": "xOvqLq4JDIV1"
      }
    },
    {
      "cell_type": "code",
      "source": [
        "df.head(2)"
      ],
      "metadata": {
        "id": "tlTW_OVLD7Gd"
      },
      "execution_count": null,
      "outputs": []
    },
    {
      "cell_type": "code",
      "metadata": {
        "id": "BX3_0k2JDIV-"
      },
      "source": [
        "x2 = df.iloc[:,1:2].values\n",
        "x2"
      ],
      "execution_count": null,
      "outputs": []
    },
    {
      "cell_type": "code",
      "metadata": {
        "id": "QQxq1rOaDIV-"
      },
      "source": [
        "y = df.iloc[:, 3].values\n",
        "y"
      ],
      "execution_count": null,
      "outputs": []
    },
    {
      "cell_type": "code",
      "metadata": {
        "id": "fm5tatizDIV-"
      },
      "source": [
        "from sklearn.model_selection import train_test_split\n",
        "x_treino, x_teste, y_treino, y_teste = train_test_split(x2, y, test_size = 0.3, random_state = 10)"
      ],
      "execution_count": null,
      "outputs": []
    },
    {
      "cell_type": "code",
      "metadata": {
        "id": "Nf4kIFBUDIV-"
      },
      "source": [
        "x_treino.shape, y_treino.shape"
      ],
      "execution_count": null,
      "outputs": []
    },
    {
      "cell_type": "code",
      "metadata": {
        "id": "1ENZkvJ6DIV_"
      },
      "source": [
        "x_teste.shape, y_teste.shape"
      ],
      "execution_count": null,
      "outputs": []
    },
    {
      "cell_type": "code",
      "metadata": {
        "id": "pnlHWrMSDIV_"
      },
      "source": [
        "from sklearn.linear_model import LinearRegression\n",
        "reg_linear2 = LinearRegression()\n",
        "reg_linear2.fit(x_treino, y_treino)"
      ],
      "execution_count": null,
      "outputs": []
    },
    {
      "cell_type": "code",
      "metadata": {
        "id": "sf9TY-nmDIV_"
      },
      "source": [
        "# Intercepto (coeficiente linear)\n",
        "reg_linear2.intercept_"
      ],
      "execution_count": null,
      "outputs": []
    },
    {
      "cell_type": "code",
      "metadata": {
        "id": "yKxLXHwwDIWA"
      },
      "source": [
        "# Coeficiente Angular\n",
        "reg_linear2.coef_"
      ],
      "execution_count": null,
      "outputs": []
    },
    {
      "cell_type": "markdown",
      "source": [
        "**Equação: Valor = 681977,75 - 17263,75.LSTAT**"
      ],
      "metadata": {
        "id": "egv0y9u3pTN2"
      }
    },
    {
      "cell_type": "code",
      "metadata": {
        "id": "7rAbcYHrDIWA"
      },
      "source": [
        "# Coeficiente de Determinação dados de treino\n",
        "reg_linear2.score(x_treino, y_treino)"
      ],
      "execution_count": null,
      "outputs": []
    },
    {
      "cell_type": "code",
      "metadata": {
        "id": "01cMJImBDIWA"
      },
      "source": [
        "previsoes_treino = reg_linear2.predict(x_treino)\n",
        "previsoes_treino"
      ],
      "execution_count": null,
      "outputs": []
    },
    {
      "cell_type": "code",
      "source": [
        "plt.scatter(y=y_treino, x=x_treino, color='blue', s=10, alpha=0.9)\n",
        "X_plot = np.linspace(0, 40)\n",
        "plt.plot(X_plot, X_plot*reg_linear2.coef_ + reg_linear2.intercept_, color='r')\n",
        "plt.title('Reta de regressão')\n",
        "plt.ylabel('Valor Médio')\n",
        "plt.xlabel('Quantidade de Proprietários de Classe Média Baixa (%)')\n",
        "plt.show()"
      ],
      "metadata": {
        "id": "1k8tu9tSDIWA"
      },
      "execution_count": null,
      "outputs": []
    },
    {
      "cell_type": "code",
      "metadata": {
        "id": "0VULl4HSDIWB"
      },
      "source": [
        "previsoes_teste = reg_linear2.predict(x_teste)\n",
        "previsoes_teste"
      ],
      "execution_count": null,
      "outputs": []
    },
    {
      "cell_type": "code",
      "metadata": {
        "id": "A0e4uSPQDIWB"
      },
      "source": [
        "y_teste"
      ],
      "execution_count": null,
      "outputs": []
    },
    {
      "cell_type": "code",
      "metadata": {
        "id": "hBKuKJ8CDIWA"
      },
      "source": [
        "# Coeficiente de Determinação dados de teste\n",
        "reg_linear2.score(x_teste, y_teste)"
      ],
      "execution_count": null,
      "outputs": []
    },
    {
      "cell_type": "code",
      "metadata": {
        "id": "662tKSwpDIWB"
      },
      "source": [
        "plt.scatter(y=y_teste, x=x_teste, color='blue', s=10, alpha=0.9)\n",
        "X_plot = np.linspace(2, 35)\n",
        "plt.plot(X_plot, X_plot*reg_linear2.coef_ + reg_linear2.intercept_, color='r')\n",
        "plt.title('Reta de regressão')\n",
        "plt.ylabel('Valor Médio')\n",
        "plt.xlabel('Quantidade de Proprietários de Classe Média Baixa (%)')\n",
        "plt.show()"
      ],
      "execution_count": null,
      "outputs": []
    },
    {
      "cell_type": "code",
      "source": [
        "# Fazendo previsões para valores distintos\n",
        "valor_casa = reg_linear2.predict([[25]])\n",
        "valor_casa"
      ],
      "metadata": {
        "id": "2q9VCdUONwFp"
      },
      "execution_count": null,
      "outputs": []
    },
    {
      "cell_type": "markdown",
      "source": [
        "**Métricas de Desempenho**"
      ],
      "metadata": {
        "id": "UA65Y6G6DIWB"
      }
    },
    {
      "cell_type": "code",
      "metadata": {
        "id": "QV59JNCnDIWB"
      },
      "source": [
        "# Erro absoluto\n",
        "abs(y_teste - previsoes_teste).mean()"
      ],
      "execution_count": null,
      "outputs": []
    },
    {
      "cell_type": "code",
      "metadata": {
        "id": "MOv0MSHiDIWC"
      },
      "source": [
        "from sklearn.metrics import mean_absolute_error, mean_squared_error"
      ],
      "execution_count": null,
      "outputs": []
    },
    {
      "cell_type": "code",
      "metadata": {
        "id": "bc0dZQc7DIWC"
      },
      "source": [
        "# Erro médio Absoluto\n",
        "mean_absolute_error(y_teste, previsoes_teste)"
      ],
      "execution_count": null,
      "outputs": []
    },
    {
      "cell_type": "code",
      "metadata": {
        "id": "-I9Zi-ZVDIWC"
      },
      "source": [
        "# Erro quadrático médio\n",
        "mean_squared_error(y_teste, previsoes_teste)"
      ],
      "execution_count": null,
      "outputs": []
    },
    {
      "cell_type": "code",
      "metadata": {
        "id": "io-zNm8VDIWC"
      },
      "source": [
        "# Raiz do erro quadrático médio (RMSE)\n",
        "np.sqrt(mean_squared_error(y_teste, previsoes_teste))"
      ],
      "execution_count": null,
      "outputs": []
    },
    {
      "cell_type": "markdown",
      "source": [
        "### **Validação Cruzada**"
      ],
      "metadata": {
        "id": "BsXaKhiVIMGl"
      }
    },
    {
      "cell_type": "code",
      "source": [
        "from sklearn.model_selection import KFold\n",
        "from sklearn.model_selection import cross_val_score"
      ],
      "metadata": {
        "id": "lvBuy5bm_qok"
      },
      "execution_count": null,
      "outputs": []
    },
    {
      "cell_type": "code",
      "source": [
        "# Separando os dados em folds\n",
        "kfold = KFold(n_splits = 15, shuffle=True, random_state = 5)"
      ],
      "metadata": {
        "id": "SS_dyx4x_260"
      },
      "execution_count": null,
      "outputs": []
    },
    {
      "cell_type": "code",
      "source": [
        "# Criando o modelo\n",
        "from sklearn.linear_model import LinearRegression\n",
        "modelo = LinearRegression()\n",
        "resultado = cross_val_score(modelo, x2, y, cv = kfold)\n",
        "resultado"
      ],
      "metadata": {
        "id": "K0aqT7kPAf1L"
      },
      "execution_count": null,
      "outputs": []
    },
    {
      "cell_type": "code",
      "source": [
        "# Usamos a média e o desvio padrão\n",
        "print(\"Coef. determinação Médio: %.2f%%\" % (resultado.mean() * 100.0))"
      ],
      "metadata": {
        "id": "3Lq7dW7ALUqE"
      },
      "execution_count": null,
      "outputs": []
    },
    {
      "cell_type": "markdown",
      "source": [
        "## **REGRESSÃO LINEAR MÚLTIPLA**"
      ],
      "metadata": {
        "id": "LmzsbeX5w0lY"
      }
    },
    {
      "cell_type": "code",
      "metadata": {
        "id": "kgYpMcLwkZUE"
      },
      "source": [
        "from sklearn.linear_model import LinearRegression"
      ],
      "execution_count": null,
      "outputs": []
    },
    {
      "cell_type": "code",
      "source": [
        "df.head(2)"
      ],
      "metadata": {
        "id": "f1nrMVmEyqIC"
      },
      "execution_count": null,
      "outputs": []
    },
    {
      "cell_type": "code",
      "metadata": {
        "id": "aX8qGculivhJ"
      },
      "source": [
        "independente = df.iloc[:, 0:3].values\n",
        "independente"
      ],
      "execution_count": null,
      "outputs": []
    },
    {
      "cell_type": "code",
      "source": [
        "independente.shape"
      ],
      "metadata": {
        "id": "M7xlISgSzDMG"
      },
      "execution_count": null,
      "outputs": []
    },
    {
      "cell_type": "code",
      "metadata": {
        "id": "Qqq3fnIvjP3R"
      },
      "source": [
        "dependente = df.iloc[:, 3].values\n",
        "dependente"
      ],
      "execution_count": null,
      "outputs": []
    },
    {
      "cell_type": "code",
      "metadata": {
        "id": "a4AKtgVd9h02"
      },
      "source": [
        "from sklearn.model_selection import train_test_split\n",
        "x_treino, x_teste, y_treino, y_teste = train_test_split(independente, dependente, test_size = 0.3, random_state = 0)"
      ],
      "execution_count": null,
      "outputs": []
    },
    {
      "cell_type": "code",
      "metadata": {
        "id": "9fw4GK5g9kkj"
      },
      "source": [
        "x_treino.shape, x_teste.shape"
      ],
      "execution_count": null,
      "outputs": []
    },
    {
      "cell_type": "code",
      "metadata": {
        "id": "WUP3-e_okhcd"
      },
      "source": [
        "multipla = LinearRegression()\n",
        "multipla.fit(x_treino, y_treino)"
      ],
      "execution_count": null,
      "outputs": []
    },
    {
      "cell_type": "code",
      "metadata": {
        "id": "wTgjt31Ep3NI"
      },
      "source": [
        "multipla.intercept_"
      ],
      "execution_count": null,
      "outputs": []
    },
    {
      "cell_type": "code",
      "metadata": {
        "id": "9BgX7VTMuv1q"
      },
      "source": [
        "multipla.coef_"
      ],
      "execution_count": null,
      "outputs": []
    },
    {
      "cell_type": "code",
      "metadata": {
        "id": "8nn9ATOblAPt"
      },
      "source": [
        "print(\"Equação: Valor = {:.2f} + ({:.2f})*RM + ({:.2f})*LSTAT + ({:.2f})*PTRATIO\".format(multipla.intercept_, multipla.coef_[0], multipla.coef_[1], multipla.coef_[2]))"
      ],
      "execution_count": null,
      "outputs": []
    },
    {
      "cell_type": "code",
      "metadata": {
        "id": "4n_LXotMoJpM"
      },
      "source": [
        "# Coeficiente de Determinação\n",
        "multipla.score(x_treino, y_treino)"
      ],
      "execution_count": null,
      "outputs": []
    },
    {
      "cell_type": "markdown",
      "source": [
        "**TESTE**"
      ],
      "metadata": {
        "id": "FWKwy4jE18as"
      }
    },
    {
      "cell_type": "code",
      "source": [
        "previsoes = multipla.predict(x_teste)\n",
        "previsoes"
      ],
      "metadata": {
        "id": "vS3xum5A1-Hw"
      },
      "execution_count": null,
      "outputs": []
    },
    {
      "cell_type": "code",
      "source": [
        "y_teste"
      ],
      "metadata": {
        "id": "Ii_5SXfv2IWa"
      },
      "execution_count": null,
      "outputs": []
    },
    {
      "cell_type": "code",
      "source": [
        "# Coeficiente de Determinação\n",
        "multipla.score(x_teste, y_teste)"
      ],
      "metadata": {
        "id": "uyGfU-jg5n5A"
      },
      "execution_count": null,
      "outputs": []
    },
    {
      "cell_type": "code",
      "source": [
        "# Fazendo previsões para valores distintos\n",
        "valor_casa = multipla.predict([[6,20,12]])\n",
        "valor_casa"
      ],
      "metadata": {
        "id": "FS1Jm81s7E1t"
      },
      "execution_count": null,
      "outputs": []
    },
    {
      "cell_type": "markdown",
      "source": [
        "**MÉTRICAS**"
      ],
      "metadata": {
        "id": "sSpkaLa65QBw"
      }
    },
    {
      "cell_type": "code",
      "metadata": {
        "id": "VzYBRKey3Gx3"
      },
      "source": [
        "# Erro absoluto\n",
        "abs(y_teste - previsoes).mean()"
      ],
      "execution_count": null,
      "outputs": []
    },
    {
      "cell_type": "code",
      "metadata": {
        "id": "Xe7D9X8T3Gx4"
      },
      "source": [
        "from sklearn.metrics import mean_absolute_error, mean_squared_error"
      ],
      "execution_count": null,
      "outputs": []
    },
    {
      "cell_type": "code",
      "metadata": {
        "id": "IDgsagJZ3Gx4"
      },
      "source": [
        "# Erro médio Absoluto\n",
        "mean_absolute_error(y_teste, previsoes)"
      ],
      "execution_count": null,
      "outputs": []
    },
    {
      "cell_type": "code",
      "metadata": {
        "id": "9Ji4rWpd3Gx5"
      },
      "source": [
        "# Erro quadrático médio\n",
        "mean_squared_error(y_teste, previsoes)"
      ],
      "execution_count": null,
      "outputs": []
    },
    {
      "cell_type": "code",
      "metadata": {
        "id": "T28f1ngx3Gx5"
      },
      "source": [
        "# Raiz do erro quadrático médio\n",
        "np.sqrt(mean_squared_error(y_teste, previsoes))"
      ],
      "execution_count": null,
      "outputs": []
    },
    {
      "cell_type": "markdown",
      "source": [
        "### **Validação Cruzada**"
      ],
      "metadata": {
        "id": "gGC6-Oz98SHi"
      }
    },
    {
      "cell_type": "code",
      "source": [
        "from sklearn.model_selection import KFold\n",
        "from sklearn.model_selection import cross_val_score"
      ],
      "metadata": {
        "id": "a-BNcrFK8SHj"
      },
      "execution_count": null,
      "outputs": []
    },
    {
      "cell_type": "code",
      "source": [
        "# Separando os dados em folds\n",
        "kfold = KFold(n_splits = 15, shuffle=True, random_state = 5)"
      ],
      "metadata": {
        "id": "ajx802o98SHk"
      },
      "execution_count": null,
      "outputs": []
    },
    {
      "cell_type": "code",
      "source": [
        "# Criando o modelo\n",
        "from sklearn.linear_model import LinearRegression\n",
        "modelo = LinearRegression()\n",
        "resultado = cross_val_score(modelo, independente, dependente, cv = kfold)\n",
        "resultado"
      ],
      "metadata": {
        "id": "pHsOTmgU8SHl"
      },
      "execution_count": null,
      "outputs": []
    },
    {
      "cell_type": "code",
      "source": [
        "# Usamos a média e o desvio padrão\n",
        "print(\"Coeficiente de Determinação Médio: %.2f%%\" % (resultado.mean() * 100.0))"
      ],
      "metadata": {
        "id": "RdlkoLV38SHl"
      },
      "execution_count": null,
      "outputs": []
    },
    {
      "cell_type": "markdown",
      "source": [
        "**REGRESSÃO LINEAR SIMPLES:** R^2 = 0,57/0,60; RMSE = 99315,5; R^2 Validação Cruzada: 55,97%\n",
        "\n",
        "**REGRESSÃO LINEAR MÚLTIPLA:** R^2 = 0,73/0,68; RMSE = 96087,3; R^2 Validação Cruzada: 69,25%"
      ],
      "metadata": {
        "id": "WTK4cOLq93Uh"
      }
    },
    {
      "cell_type": "markdown",
      "source": [
        "## **REGRESSÃO POLINOMIAL**"
      ],
      "metadata": {
        "id": "l74FqlotBUSo"
      }
    },
    {
      "cell_type": "markdown",
      "source": [
        "https://scikit-learn.org/stable/modules/generated/sklearn.preprocessing.PolynomialFeatures.html "
      ],
      "metadata": {
        "id": "rxl3wSbjQzmC"
      }
    },
    {
      "cell_type": "markdown",
      "source": [
        "Valor médio (MEDV) em função do número de cômodos (RM)"
      ],
      "metadata": {
        "id": "s6Xb-47Gy2Zu"
      }
    },
    {
      "cell_type": "code",
      "source": [
        "df.head(2)"
      ],
      "metadata": {
        "id": "iW4QWMUdy2Zw",
        "colab": {
          "base_uri": "https://localhost:8080/",
          "height": 112
        },
        "outputId": "a2213841-13e8-4b2e-9cc7-fe88ef5dad23"
      },
      "execution_count": null,
      "outputs": [
        {
          "output_type": "execute_result",
          "data": {
            "text/html": [
              "\n",
              "  <div id=\"df-8e3e6bc5-2ede-4ba3-a50f-8db575321be9\">\n",
              "    <div class=\"colab-df-container\">\n",
              "      <div>\n",
              "<style scoped>\n",
              "    .dataframe tbody tr th:only-of-type {\n",
              "        vertical-align: middle;\n",
              "    }\n",
              "\n",
              "    .dataframe tbody tr th {\n",
              "        vertical-align: top;\n",
              "    }\n",
              "\n",
              "    .dataframe thead th {\n",
              "        text-align: right;\n",
              "    }\n",
              "</style>\n",
              "<table border=\"1\" class=\"dataframe\">\n",
              "  <thead>\n",
              "    <tr style=\"text-align: right;\">\n",
              "      <th></th>\n",
              "      <th>RM</th>\n",
              "      <th>LSTAT</th>\n",
              "      <th>PTRATIO</th>\n",
              "      <th>MEDV</th>\n",
              "    </tr>\n",
              "  </thead>\n",
              "  <tbody>\n",
              "    <tr>\n",
              "      <th>0</th>\n",
              "      <td>6.575</td>\n",
              "      <td>4.98</td>\n",
              "      <td>15.3</td>\n",
              "      <td>504000.0</td>\n",
              "    </tr>\n",
              "    <tr>\n",
              "      <th>1</th>\n",
              "      <td>6.421</td>\n",
              "      <td>9.14</td>\n",
              "      <td>17.8</td>\n",
              "      <td>453600.0</td>\n",
              "    </tr>\n",
              "  </tbody>\n",
              "</table>\n",
              "</div>\n",
              "      <button class=\"colab-df-convert\" onclick=\"convertToInteractive('df-8e3e6bc5-2ede-4ba3-a50f-8db575321be9')\"\n",
              "              title=\"Convert this dataframe to an interactive table.\"\n",
              "              style=\"display:none;\">\n",
              "        \n",
              "  <svg xmlns=\"http://www.w3.org/2000/svg\" height=\"24px\"viewBox=\"0 0 24 24\"\n",
              "       width=\"24px\">\n",
              "    <path d=\"M0 0h24v24H0V0z\" fill=\"none\"/>\n",
              "    <path d=\"M18.56 5.44l.94 2.06.94-2.06 2.06-.94-2.06-.94-.94-2.06-.94 2.06-2.06.94zm-11 1L8.5 8.5l.94-2.06 2.06-.94-2.06-.94L8.5 2.5l-.94 2.06-2.06.94zm10 10l.94 2.06.94-2.06 2.06-.94-2.06-.94-.94-2.06-.94 2.06-2.06.94z\"/><path d=\"M17.41 7.96l-1.37-1.37c-.4-.4-.92-.59-1.43-.59-.52 0-1.04.2-1.43.59L10.3 9.45l-7.72 7.72c-.78.78-.78 2.05 0 2.83L4 21.41c.39.39.9.59 1.41.59.51 0 1.02-.2 1.41-.59l7.78-7.78 2.81-2.81c.8-.78.8-2.07 0-2.86zM5.41 20L4 18.59l7.72-7.72 1.47 1.35L5.41 20z\"/>\n",
              "  </svg>\n",
              "      </button>\n",
              "      \n",
              "  <style>\n",
              "    .colab-df-container {\n",
              "      display:flex;\n",
              "      flex-wrap:wrap;\n",
              "      gap: 12px;\n",
              "    }\n",
              "\n",
              "    .colab-df-convert {\n",
              "      background-color: #E8F0FE;\n",
              "      border: none;\n",
              "      border-radius: 50%;\n",
              "      cursor: pointer;\n",
              "      display: none;\n",
              "      fill: #1967D2;\n",
              "      height: 32px;\n",
              "      padding: 0 0 0 0;\n",
              "      width: 32px;\n",
              "    }\n",
              "\n",
              "    .colab-df-convert:hover {\n",
              "      background-color: #E2EBFA;\n",
              "      box-shadow: 0px 1px 2px rgba(60, 64, 67, 0.3), 0px 1px 3px 1px rgba(60, 64, 67, 0.15);\n",
              "      fill: #174EA6;\n",
              "    }\n",
              "\n",
              "    [theme=dark] .colab-df-convert {\n",
              "      background-color: #3B4455;\n",
              "      fill: #D2E3FC;\n",
              "    }\n",
              "\n",
              "    [theme=dark] .colab-df-convert:hover {\n",
              "      background-color: #434B5C;\n",
              "      box-shadow: 0px 1px 3px 1px rgba(0, 0, 0, 0.15);\n",
              "      filter: drop-shadow(0px 1px 2px rgba(0, 0, 0, 0.3));\n",
              "      fill: #FFFFFF;\n",
              "    }\n",
              "  </style>\n",
              "\n",
              "      <script>\n",
              "        const buttonEl =\n",
              "          document.querySelector('#df-8e3e6bc5-2ede-4ba3-a50f-8db575321be9 button.colab-df-convert');\n",
              "        buttonEl.style.display =\n",
              "          google.colab.kernel.accessAllowed ? 'block' : 'none';\n",
              "\n",
              "        async function convertToInteractive(key) {\n",
              "          const element = document.querySelector('#df-8e3e6bc5-2ede-4ba3-a50f-8db575321be9');\n",
              "          const dataTable =\n",
              "            await google.colab.kernel.invokeFunction('convertToInteractive',\n",
              "                                                     [key], {});\n",
              "          if (!dataTable) return;\n",
              "\n",
              "          const docLinkHtml = 'Like what you see? Visit the ' +\n",
              "            '<a target=\"_blank\" href=https://colab.research.google.com/notebooks/data_table.ipynb>data table notebook</a>'\n",
              "            + ' to learn more about interactive tables.';\n",
              "          element.innerHTML = '';\n",
              "          dataTable['output_type'] = 'display_data';\n",
              "          await google.colab.output.renderOutput(dataTable, element);\n",
              "          const docLink = document.createElement('div');\n",
              "          docLink.innerHTML = docLinkHtml;\n",
              "          element.appendChild(docLink);\n",
              "        }\n",
              "      </script>\n",
              "    </div>\n",
              "  </div>\n",
              "  "
            ],
            "text/plain": [
              "      RM  LSTAT  PTRATIO      MEDV\n",
              "0  6.575   4.98     15.3  504000.0\n",
              "1  6.421   9.14     17.8  453600.0"
            ]
          },
          "metadata": {},
          "execution_count": 4
        }
      ]
    },
    {
      "cell_type": "code",
      "metadata": {
        "id": "iHwBH87Qy2Zx"
      },
      "source": [
        "x1 = df.iloc[:,0:1].values\n",
        "x1"
      ],
      "execution_count": null,
      "outputs": []
    },
    {
      "cell_type": "code",
      "metadata": {
        "id": "YcPCZ7B2y2Zx"
      },
      "source": [
        "y = df.iloc[:, 3].values\n",
        "y"
      ],
      "execution_count": null,
      "outputs": []
    },
    {
      "cell_type": "code",
      "metadata": {
        "id": "kN8BGPNuy2Zy"
      },
      "source": [
        "from sklearn.model_selection import train_test_split\n",
        "x_treino, x_teste, y_treino, y_teste = train_test_split(x1, y, test_size = 0.3, random_state = 0)"
      ],
      "execution_count": null,
      "outputs": []
    },
    {
      "cell_type": "code",
      "metadata": {
        "id": "LnZefisMy2Zz",
        "colab": {
          "base_uri": "https://localhost:8080/"
        },
        "outputId": "d132d049-41dd-4326-b5cc-a02aed0ccaa6"
      },
      "source": [
        "x_treino.shape, y_treino.shape"
      ],
      "execution_count": null,
      "outputs": [
        {
          "output_type": "execute_result",
          "data": {
            "text/plain": [
              "((342, 1), (342,))"
            ]
          },
          "metadata": {},
          "execution_count": 8
        }
      ]
    },
    {
      "cell_type": "code",
      "metadata": {
        "id": "4HZbiotXy2Zz",
        "colab": {
          "base_uri": "https://localhost:8080/"
        },
        "outputId": "75a0699e-d8e6-403d-ef7a-8d52220be42c"
      },
      "source": [
        "x_teste.shape, y_teste.shape"
      ],
      "execution_count": null,
      "outputs": [
        {
          "output_type": "execute_result",
          "data": {
            "text/plain": [
              "((147, 1), (147,))"
            ]
          },
          "metadata": {},
          "execution_count": 9
        }
      ]
    },
    {
      "cell_type": "code",
      "source": [
        "from sklearn.preprocessing import PolynomialFeatures\n",
        "from sklearn.linear_model import LinearRegression"
      ],
      "metadata": {
        "id": "fYmNDUC70sS-"
      },
      "execution_count": null,
      "outputs": []
    },
    {
      "cell_type": "code",
      "source": [
        "# Pré Processamento\n",
        "grau_polinomial =PolynomialFeatures(degree=2)"
      ],
      "metadata": {
        "id": "cJ40XdDp0wa9"
      },
      "execution_count": null,
      "outputs": []
    },
    {
      "cell_type": "code",
      "source": [
        "x_poly = grau_polinomial.fit_transform(x_treino)\n",
        "x_poly"
      ],
      "metadata": {
        "id": "eaKDcBBa09t8",
        "colab": {
          "base_uri": "https://localhost:8080/"
        },
        "outputId": "8204c563-5f48-4ef4-ce17-5b9c80abc4fc"
      },
      "execution_count": null,
      "outputs": [
        {
          "output_type": "execute_result",
          "data": {
            "text/plain": [
              "array([[ 1.      ,  6.266   , 39.262756],\n",
              "       [ 1.      ,  6.951   , 48.316401],\n",
              "       [ 1.      ,  6.619   , 43.811161],\n",
              "       ...,\n",
              "       [ 1.      ,  6.021   , 36.252441],\n",
              "       [ 1.      ,  6.03    , 36.3609  ],\n",
              "       [ 1.      ,  6.02    , 36.2404  ]])"
            ]
          },
          "metadata": {},
          "execution_count": 12
        }
      ]
    },
    {
      "cell_type": "code",
      "source": [
        "polinomial = LinearRegression()"
      ],
      "metadata": {
        "id": "c92sBlGh14g8"
      },
      "execution_count": null,
      "outputs": []
    },
    {
      "cell_type": "code",
      "source": [
        "polinomial.fit(x_poly, y_treino)"
      ],
      "metadata": {
        "id": "rmcVhyf62D2Z",
        "colab": {
          "base_uri": "https://localhost:8080/"
        },
        "outputId": "e7434aad-ec00-437a-f494-ada281033179"
      },
      "execution_count": null,
      "outputs": [
        {
          "output_type": "execute_result",
          "data": {
            "text/plain": [
              "LinearRegression()"
            ]
          },
          "metadata": {},
          "execution_count": 14
        }
      ]
    },
    {
      "cell_type": "code",
      "source": [
        "previsoes_treino = polinomial.predict(x_poly)"
      ],
      "metadata": {
        "id": "6LdCO7pn21oL"
      },
      "execution_count": null,
      "outputs": []
    },
    {
      "cell_type": "code",
      "source": [
        "polinomial.coef_"
      ],
      "metadata": {
        "id": "sxO5u0kuBmZZ",
        "colab": {
          "base_uri": "https://localhost:8080/"
        },
        "outputId": "bec1e97c-a507-40a6-c040-a6092d5f7e29"
      },
      "execution_count": null,
      "outputs": [
        {
          "output_type": "execute_result",
          "data": {
            "text/plain": [
              "array([      0.        , -568528.11104731,   60092.59048475])"
            ]
          },
          "metadata": {},
          "execution_count": 16
        }
      ]
    },
    {
      "cell_type": "code",
      "source": [
        "polinomial.intercept_"
      ],
      "metadata": {
        "id": "45PxFqQJBvJ-",
        "colab": {
          "base_uri": "https://localhost:8080/"
        },
        "outputId": "427725b0-f79d-4107-bf10-7198413162b0"
      },
      "execution_count": null,
      "outputs": [
        {
          "output_type": "execute_result",
          "data": {
            "text/plain": [
              "1640107.0085836346"
            ]
          },
          "metadata": {},
          "execution_count": 17
        }
      ]
    },
    {
      "cell_type": "markdown",
      "source": [
        "**Equação:**\n",
        "\n",
        "Valor = 1640107 - 568528.11*RM + 60092.59*RM^2"
      ],
      "metadata": {
        "id": "gip9Am_QCO5m"
      }
    },
    {
      "cell_type": "code",
      "source": [
        "numeros = np.linspace(3,9.84,342)\n",
        "numeros"
      ],
      "metadata": {
        "id": "90-1bKy_ErzH"
      },
      "execution_count": null,
      "outputs": []
    },
    {
      "cell_type": "code",
      "source": [
        "numeros.shape"
      ],
      "metadata": {
        "id": "xSHziSI6Ibdw",
        "colab": {
          "base_uri": "https://localhost:8080/"
        },
        "outputId": "ea341448-e166-4193-bd4b-cf7eaa65c675"
      },
      "execution_count": null,
      "outputs": [
        {
          "output_type": "execute_result",
          "data": {
            "text/plain": [
              "(342,)"
            ]
          },
          "metadata": {},
          "execution_count": 19
        }
      ]
    },
    {
      "cell_type": "code",
      "source": [
        "valor = 1640107 -568528.11*numeros + 60092.59*numeros**2"
      ],
      "metadata": {
        "id": "1z_fEA9NCMFu"
      },
      "execution_count": null,
      "outputs": []
    },
    {
      "cell_type": "code",
      "source": [
        "import matplotlib.pyplot as plt"
      ],
      "metadata": {
        "id": "bHC7KVx8BCrF"
      },
      "execution_count": null,
      "outputs": []
    },
    {
      "cell_type": "code",
      "source": [
        "plt.scatter(x_treino, y_treino, c = \"gray\")\n",
        "plt.xlabel(\"Quantidade Cômodos\")\n",
        "plt.ylabel(\"Valores das Casas\")\n",
        "plt.title(\"Previsão dos valores das casas: dados de treino\")\n",
        "plt.plot(numeros, valor);"
      ],
      "metadata": {
        "id": "73IUpLI63J37",
        "colab": {
          "base_uri": "https://localhost:8080/",
          "height": 295
        },
        "outputId": "8acca2e0-cf6c-4152-ae86-cc82bf163d25"
      },
      "execution_count": null,
      "outputs": [
        {
          "output_type": "display_data",
          "data": {
            "image/png": "[encoded data removed]",
            "text/plain": [
              "<Figure size 432x288 with 1 Axes>"
            ]
          },
          "metadata": {
            "needs_background": "light"
          }
        }
      ]
    },
    {
      "cell_type": "code",
      "source": [
        "# Fazendo previsões para valores distintos\n",
        "comodos = 6\n",
        "valor = 1640107 -568528.11*comodos + 60092.59*comodos**2\n",
        "valor"
      ],
      "metadata": {
        "id": "nqXZAgSpM5TL",
        "colab": {
          "base_uri": "https://localhost:8080/"
        },
        "outputId": "2a9762c9-aae9-4298-efe7-39fd5ca8b04c"
      },
      "execution_count": null,
      "outputs": [
        {
          "output_type": "execute_result",
          "data": {
            "text/plain": [
              "392271.5799999996"
            ]
          },
          "metadata": {},
          "execution_count": 24
        }
      ]
    },
    {
      "cell_type": "code",
      "source": [
        "# Coeficiente de Determinação dados de treino\n",
        "polinomial.score(x_poly, y_treino)"
      ],
      "metadata": {
        "id": "WrsObUUUQse7",
        "colab": {
          "base_uri": "https://localhost:8080/"
        },
        "outputId": "f79faec3-1530-4f59-c250-f5dbbe6f5490"
      },
      "execution_count": null,
      "outputs": [
        {
          "output_type": "execute_result",
          "data": {
            "text/plain": [
              "0.5864656525780776"
            ]
          },
          "metadata": {},
          "execution_count": 25
        }
      ]
    },
    {
      "cell_type": "markdown",
      "source": [
        "**TESTE**"
      ],
      "metadata": {
        "id": "YQM-rjYiKIx3"
      }
    },
    {
      "cell_type": "code",
      "source": [
        "numeros2 = np.linspace(3,8.88,147)\n",
        "numeros2"
      ],
      "metadata": {
        "id": "b26kMsIcKRfc",
        "colab": {
          "base_uri": "https://localhost:8080/"
        },
        "outputId": "d44854d2-1a7e-44cd-b9a0-77e729c1e91c"
      },
      "execution_count": null,
      "outputs": [
        {
          "output_type": "execute_result",
          "data": {
            "text/plain": [
              "array([3.        , 3.04027397, 3.08054795, 3.12082192, 3.16109589,\n",
              "       3.20136986, 3.24164384, 3.28191781, 3.32219178, 3.36246575,\n",
              "       3.40273973, 3.4430137 , 3.48328767, 3.52356164, 3.56383562,\n",
              "       3.60410959, 3.64438356, 3.68465753, 3.72493151, 3.76520548,\n",
              "       3.80547945, 3.84575342, 3.8860274 , 3.92630137, 3.96657534,\n",
              "       4.00684932, 4.04712329, 4.08739726, 4.12767123, 4.16794521,\n",
              "       4.20821918, 4.24849315, 4.28876712, 4.3290411 , 4.36931507,\n",
              "       4.40958904, 4.44986301, 4.49013699, 4.53041096, 4.57068493,\n",
              "       4.6109589 , 4.65123288, 4.69150685, 4.73178082, 4.77205479,\n",
              "       4.81232877, 4.85260274, 4.89287671, 4.93315068, 4.97342466,\n",
              "       5.01369863, 5.0539726 , 5.09424658, 5.13452055, 5.17479452,\n",
              "       5.21506849, 5.25534247, 5.29561644, 5.33589041, 5.37616438,\n",
              "       5.41643836, 5.45671233, 5.4969863 , 5.53726027, 5.57753425,\n",
              "       5.61780822, 5.65808219, 5.69835616, 5.73863014, 5.77890411,\n",
              "       5.81917808, 5.85945205, 5.89972603, 5.94      , 5.98027397,\n",
              "       6.02054795, 6.06082192, 6.10109589, 6.14136986, 6.18164384,\n",
              "       6.22191781, 6.26219178, 6.30246575, 6.34273973, 6.3830137 ,\n",
              "       6.42328767, 6.46356164, 6.50383562, 6.54410959, 6.58438356,\n",
              "       6.62465753, 6.66493151, 6.70520548, 6.74547945, 6.78575342,\n",
              "       6.8260274 , 6.86630137, 6.90657534, 6.94684932, 6.98712329,\n",
              "       7.02739726, 7.06767123, 7.10794521, 7.14821918, 7.18849315,\n",
              "       7.22876712, 7.2690411 , 7.30931507, 7.34958904, 7.38986301,\n",
              "       7.43013699, 7.47041096, 7.51068493, 7.5509589 , 7.59123288,\n",
              "       7.63150685, 7.67178082, 7.71205479, 7.75232877, 7.79260274,\n",
              "       7.83287671, 7.87315068, 7.91342466, 7.95369863, 7.9939726 ,\n",
              "       8.03424658, 8.07452055, 8.11479452, 8.15506849, 8.19534247,\n",
              "       8.23561644, 8.27589041, 8.31616438, 8.35643836, 8.39671233,\n",
              "       8.4369863 , 8.47726027, 8.51753425, 8.55780822, 8.59808219,\n",
              "       8.63835616, 8.67863014, 8.71890411, 8.75917808, 8.79945205,\n",
              "       8.83972603, 8.88      ])"
            ]
          },
          "metadata": {},
          "execution_count": 26
        }
      ]
    },
    {
      "cell_type": "code",
      "source": [
        "numeros2.shape"
      ],
      "metadata": {
        "id": "QwIONvPaKRfd",
        "colab": {
          "base_uri": "https://localhost:8080/"
        },
        "outputId": "93e88560-0753-4579-e2cf-b56cab992214"
      },
      "execution_count": null,
      "outputs": [
        {
          "output_type": "execute_result",
          "data": {
            "text/plain": [
              "(147,)"
            ]
          },
          "metadata": {},
          "execution_count": 27
        }
      ]
    },
    {
      "cell_type": "code",
      "source": [
        "valor2 = 1640107 -568528.11*numeros2 + 60092.59*numeros2**2"
      ],
      "metadata": {
        "id": "Jl8S1QHnKRfd"
      },
      "execution_count": null,
      "outputs": []
    },
    {
      "cell_type": "code",
      "source": [
        "import matplotlib.pyplot as plt"
      ],
      "metadata": {
        "id": "CwfK-zZLKRfe"
      },
      "execution_count": null,
      "outputs": []
    },
    {
      "cell_type": "code",
      "source": [
        "plt.scatter(x_teste, y_teste, c = \"gray\")\n",
        "plt.xlabel(\"Quantidade Cômodos\")\n",
        "plt.ylabel(\"Valor Casas\")\n",
        "plt.title(\"Previsão dos valores das casas: dados de teste\")\n",
        "plt.plot(numeros2, valor2);"
      ],
      "metadata": {
        "id": "dtf0r1GcKRfe",
        "colab": {
          "base_uri": "https://localhost:8080/",
          "height": 295
        },
        "outputId": "20df57ba-6d41-49b0-e1b6-c9056d962708"
      },
      "execution_count": null,
      "outputs": [
        {
          "output_type": "display_data",
          "data": {
            "image/png": "[encoded data removed]",
            "text/plain": [
              "<Figure size 432x288 with 1 Axes>"
            ]
          },
          "metadata": {
            "needs_background": "light"
          }
        }
      ]
    },
    {
      "cell_type": "code",
      "source": [
        "x_poly_teste = grau_polinomial.fit_transform(x_teste)\n",
        "x_poly_teste"
      ],
      "metadata": {
        "id": "hoH-9JjWKdAe"
      },
      "execution_count": null,
      "outputs": []
    },
    {
      "cell_type": "code",
      "source": [
        "polinomial_teste = LinearRegression()"
      ],
      "metadata": {
        "id": "NJv-sQdBKdAf"
      },
      "execution_count": null,
      "outputs": []
    },
    {
      "cell_type": "code",
      "source": [
        "polinomial_teste.fit(x_poly_teste, y_teste)"
      ],
      "metadata": {
        "id": "mb-o1YtPKRfZ",
        "colab": {
          "base_uri": "https://localhost:8080/"
        },
        "outputId": "00612fda-f778-4eb4-8cd8-d9a87e2b5b5f"
      },
      "execution_count": null,
      "outputs": [
        {
          "output_type": "execute_result",
          "data": {
            "text/plain": [
              "LinearRegression()"
            ]
          },
          "metadata": {},
          "execution_count": 33
        }
      ]
    },
    {
      "cell_type": "code",
      "source": [
        "# Coeficiente de Determinação dados de teste\n",
        "polinomial.score(x_poly_teste, y_teste)"
      ],
      "metadata": {
        "id": "N4VHnrmARbfA",
        "colab": {
          "base_uri": "https://localhost:8080/"
        },
        "outputId": "45552ab7-ea82-4c64-aa25-4ac5364ca8ba"
      },
      "execution_count": null,
      "outputs": [
        {
          "output_type": "execute_result",
          "data": {
            "text/plain": [
              "0.5391879530755566"
            ]
          },
          "metadata": {},
          "execution_count": 34
        }
      ]
    },
    {
      "cell_type": "code",
      "source": [
        "previsoes_teste = polinomial_teste.predict(x_poly_teste)"
      ],
      "metadata": {
        "id": "8PngvKX2KRfa"
      },
      "execution_count": null,
      "outputs": []
    },
    {
      "cell_type": "markdown",
      "source": [
        "**MÉTRICAS**"
      ],
      "metadata": {
        "id": "bLfbXwUV2tZJ"
      }
    },
    {
      "cell_type": "code",
      "metadata": {
        "id": "PnDu4Kht7qFI"
      },
      "source": [
        "from sklearn.metrics import mean_absolute_error, mean_squared_error"
      ],
      "execution_count": null,
      "outputs": []
    },
    {
      "cell_type": "code",
      "metadata": {
        "id": "1aC34FoV7qFJ",
        "colab": {
          "base_uri": "https://localhost:8080/"
        },
        "outputId": "62a8f0f6-98d3-430c-81ee-431e7d3bfb2a"
      },
      "source": [
        "# Erro médio Absoluto\n",
        "mean_absolute_error(y_teste, previsoes_teste)"
      ],
      "execution_count": null,
      "outputs": [
        {
          "output_type": "execute_result",
          "data": {
            "text/plain": [
              "88894.00551287511"
            ]
          },
          "metadata": {},
          "execution_count": 37
        }
      ]
    },
    {
      "cell_type": "code",
      "metadata": {
        "id": "O-Q6xhUc7qFJ",
        "colab": {
          "base_uri": "https://localhost:8080/"
        },
        "outputId": "c606a24e-8920-42f3-80fa-d20ea1ec2cbc"
      },
      "source": [
        "# Erro quadrático médio\n",
        "mean_squared_error(y_teste, previsoes_teste)"
      ],
      "execution_count": null,
      "outputs": [
        {
          "output_type": "execute_result",
          "data": {
            "text/plain": [
              "13149352560.413319"
            ]
          },
          "metadata": {},
          "execution_count": 38
        }
      ]
    },
    {
      "cell_type": "code",
      "metadata": {
        "id": "bRpWUvWg7qFK",
        "colab": {
          "base_uri": "https://localhost:8080/"
        },
        "outputId": "8646045c-bcd7-4cd5-c15b-8667c91333e9"
      },
      "source": [
        "# Raiz do erro quadrático médio (RMSE)\n",
        "np.sqrt(mean_squared_error(y_teste, previsoes_teste))"
      ],
      "execution_count": null,
      "outputs": [
        {
          "output_type": "execute_result",
          "data": {
            "text/plain": [
              "114670.6264063004"
            ]
          },
          "metadata": {},
          "execution_count": 39
        }
      ]
    },
    {
      "cell_type": "markdown",
      "source": [
        "**RESULTADOS:**\n",
        "\n",
        "**REGRESSÃO LINEAR SIMPLES:** R^2 = 0,57/0,60; RMSE = 99315,5; R^2 Validação Cruzada: 55,97%\n",
        "\n",
        "**REGRESSÃO LINEAR MÚLTIPLA:** R^2 = 0,73/0,68; RMSE = 96087,3; R^2 Validação Cruzada: 69,25%\n",
        "\n",
        "**REGRESSÃO POLINOMIAL:** R^2 = 0,59/0,54; RMSE = 114670,6."
      ],
      "metadata": {
        "id": "N2mEiK4bR-5v"
      }
    },
    {
      "cell_type": "markdown",
      "source": [
        "## **REGRESSÃO POR VETORES DE SUPORTE**"
      ],
      "metadata": {
        "id": "WX2KnLCzsq7u"
      }
    },
    {
      "cell_type": "markdown",
      "source": [
        "https://scikit-learn.org/stable/modules/generated/sklearn.svm.SVR.html "
      ],
      "metadata": {
        "id": "X5x2joIiP457"
      }
    },
    {
      "cell_type": "code",
      "source": [
        "df.head(2)"
      ],
      "metadata": {
        "id": "YUF38EvVtCOS",
        "colab": {
          "base_uri": "https://localhost:8080/",
          "height": 112
        },
        "outputId": "fe756413-ab87-4096-c74c-5ad8911763d9"
      },
      "execution_count": null,
      "outputs": [
        {
          "output_type": "execute_result",
          "data": {
            "text/html": [
              "\n",
              "  <div id=\"df-c9b8fbd8-4cf1-4fe3-8509-9c23081c568b\">\n",
              "    <div class=\"colab-df-container\">\n",
              "      <div>\n",
              "<style scoped>\n",
              "    .dataframe tbody tr th:only-of-type {\n",
              "        vertical-align: middle;\n",
              "    }\n",
              "\n",
              "    .dataframe tbody tr th {\n",
              "        vertical-align: top;\n",
              "    }\n",
              "\n",
              "    .dataframe thead th {\n",
              "        text-align: right;\n",
              "    }\n",
              "</style>\n",
              "<table border=\"1\" class=\"dataframe\">\n",
              "  <thead>\n",
              "    <tr style=\"text-align: right;\">\n",
              "      <th></th>\n",
              "      <th>RM</th>\n",
              "      <th>LSTAT</th>\n",
              "      <th>PTRATIO</th>\n",
              "      <th>MEDV</th>\n",
              "    </tr>\n",
              "  </thead>\n",
              "  <tbody>\n",
              "    <tr>\n",
              "      <th>0</th>\n",
              "      <td>6.575</td>\n",
              "      <td>4.98</td>\n",
              "      <td>15.3</td>\n",
              "      <td>504000.0</td>\n",
              "    </tr>\n",
              "    <tr>\n",
              "      <th>1</th>\n",
              "      <td>6.421</td>\n",
              "      <td>9.14</td>\n",
              "      <td>17.8</td>\n",
              "      <td>453600.0</td>\n",
              "    </tr>\n",
              "  </tbody>\n",
              "</table>\n",
              "</div>\n",
              "      <button class=\"colab-df-convert\" onclick=\"convertToInteractive('df-c9b8fbd8-4cf1-4fe3-8509-9c23081c568b')\"\n",
              "              title=\"Convert this dataframe to an interactive table.\"\n",
              "              style=\"display:none;\">\n",
              "        \n",
              "  <svg xmlns=\"http://www.w3.org/2000/svg\" height=\"24px\"viewBox=\"0 0 24 24\"\n",
              "       width=\"24px\">\n",
              "    <path d=\"M0 0h24v24H0V0z\" fill=\"none\"/>\n",
              "    <path d=\"M18.56 5.44l.94 2.06.94-2.06 2.06-.94-2.06-.94-.94-2.06-.94 2.06-2.06.94zm-11 1L8.5 8.5l.94-2.06 2.06-.94-2.06-.94L8.5 2.5l-.94 2.06-2.06.94zm10 10l.94 2.06.94-2.06 2.06-.94-2.06-.94-.94-2.06-.94 2.06-2.06.94z\"/><path d=\"M17.41 7.96l-1.37-1.37c-.4-.4-.92-.59-1.43-.59-.52 0-1.04.2-1.43.59L10.3 9.45l-7.72 7.72c-.78.78-.78 2.05 0 2.83L4 21.41c.39.39.9.59 1.41.59.51 0 1.02-.2 1.41-.59l7.78-7.78 2.81-2.81c.8-.78.8-2.07 0-2.86zM5.41 20L4 18.59l7.72-7.72 1.47 1.35L5.41 20z\"/>\n",
              "  </svg>\n",
              "      </button>\n",
              "      \n",
              "  <style>\n",
              "    .colab-df-container {\n",
              "      display:flex;\n",
              "      flex-wrap:wrap;\n",
              "      gap: 12px;\n",
              "    }\n",
              "\n",
              "    .colab-df-convert {\n",
              "      background-color: #E8F0FE;\n",
              "      border: none;\n",
              "      border-radius: 50%;\n",
              "      cursor: pointer;\n",
              "      display: none;\n",
              "      fill: #1967D2;\n",
              "      height: 32px;\n",
              "      padding: 0 0 0 0;\n",
              "      width: 32px;\n",
              "    }\n",
              "\n",
              "    .colab-df-convert:hover {\n",
              "      background-color: #E2EBFA;\n",
              "      box-shadow: 0px 1px 2px rgba(60, 64, 67, 0.3), 0px 1px 3px 1px rgba(60, 64, 67, 0.15);\n",
              "      fill: #174EA6;\n",
              "    }\n",
              "\n",
              "    [theme=dark] .colab-df-convert {\n",
              "      background-color: #3B4455;\n",
              "      fill: #D2E3FC;\n",
              "    }\n",
              "\n",
              "    [theme=dark] .colab-df-convert:hover {\n",
              "      background-color: #434B5C;\n",
              "      box-shadow: 0px 1px 3px 1px rgba(0, 0, 0, 0.15);\n",
              "      filter: drop-shadow(0px 1px 2px rgba(0, 0, 0, 0.3));\n",
              "      fill: #FFFFFF;\n",
              "    }\n",
              "  </style>\n",
              "\n",
              "      <script>\n",
              "        const buttonEl =\n",
              "          document.querySelector('#df-c9b8fbd8-4cf1-4fe3-8509-9c23081c568b button.colab-df-convert');\n",
              "        buttonEl.style.display =\n",
              "          google.colab.kernel.accessAllowed ? 'block' : 'none';\n",
              "\n",
              "        async function convertToInteractive(key) {\n",
              "          const element = document.querySelector('#df-c9b8fbd8-4cf1-4fe3-8509-9c23081c568b');\n",
              "          const dataTable =\n",
              "            await google.colab.kernel.invokeFunction('convertToInteractive',\n",
              "                                                     [key], {});\n",
              "          if (!dataTable) return;\n",
              "\n",
              "          const docLinkHtml = 'Like what you see? Visit the ' +\n",
              "            '<a target=\"_blank\" href=https://colab.research.google.com/notebooks/data_table.ipynb>data table notebook</a>'\n",
              "            + ' to learn more about interactive tables.';\n",
              "          element.innerHTML = '';\n",
              "          dataTable['output_type'] = 'display_data';\n",
              "          await google.colab.output.renderOutput(dataTable, element);\n",
              "          const docLink = document.createElement('div');\n",
              "          docLink.innerHTML = docLinkHtml;\n",
              "          element.appendChild(docLink);\n",
              "        }\n",
              "      </script>\n",
              "    </div>\n",
              "  </div>\n",
              "  "
            ],
            "text/plain": [
              "      RM  LSTAT  PTRATIO      MEDV\n",
              "0  6.575   4.98     15.3  504000.0\n",
              "1  6.421   9.14     17.8  453600.0"
            ]
          },
          "metadata": {},
          "execution_count": 4
        }
      ]
    },
    {
      "cell_type": "code",
      "metadata": {
        "id": "m1BCYoD6udBc",
        "colab": {
          "base_uri": "https://localhost:8080/"
        },
        "outputId": "62eb5306-044c-4339-ef30-17180c9f2dae"
      },
      "source": [
        "independente = df.iloc[:, 0:3].values\n",
        "independente"
      ],
      "execution_count": null,
      "outputs": [
        {
          "output_type": "execute_result",
          "data": {
            "text/plain": [
              "array([[ 6.575,  4.98 , 15.3  ],\n",
              "       [ 6.421,  9.14 , 17.8  ],\n",
              "       [ 7.185,  4.03 , 17.8  ],\n",
              "       ...,\n",
              "       [ 6.976,  5.64 , 21.   ],\n",
              "       [ 6.794,  6.48 , 21.   ],\n",
              "       [ 6.03 ,  7.88 , 21.   ]])"
            ]
          },
          "metadata": {},
          "execution_count": 5
        }
      ]
    },
    {
      "cell_type": "code",
      "source": [
        "independente.shape"
      ],
      "metadata": {
        "id": "UrL64jazudBe",
        "colab": {
          "base_uri": "https://localhost:8080/"
        },
        "outputId": "536c30be-a405-4d4c-998c-42de28b407c1"
      },
      "execution_count": null,
      "outputs": [
        {
          "output_type": "execute_result",
          "data": {
            "text/plain": [
              "(489, 3)"
            ]
          },
          "metadata": {},
          "execution_count": 6
        }
      ]
    },
    {
      "cell_type": "code",
      "metadata": {
        "id": "BZsXvQGQudBf"
      },
      "source": [
        "dependente = df.iloc[:, 3].values\n",
        "dependente"
      ],
      "execution_count": null,
      "outputs": []
    },
    {
      "cell_type": "code",
      "metadata": {
        "id": "pJmPpACbudBf"
      },
      "source": [
        "from sklearn.model_selection import train_test_split\n",
        "x_treino, x_teste, y_treino, y_teste = train_test_split(independente, dependente, test_size = 0.3, random_state = 0)"
      ],
      "execution_count": null,
      "outputs": []
    },
    {
      "cell_type": "code",
      "metadata": {
        "id": "qEOTgfCnudBg",
        "colab": {
          "base_uri": "https://localhost:8080/"
        },
        "outputId": "9f3abbd4-ab5f-4900-fb6f-e7d02f7c0ace"
      },
      "source": [
        "x_treino.shape, x_teste.shape"
      ],
      "execution_count": null,
      "outputs": [
        {
          "output_type": "execute_result",
          "data": {
            "text/plain": [
              "((342, 3), (147, 3))"
            ]
          },
          "metadata": {},
          "execution_count": 9
        }
      ]
    },
    {
      "cell_type": "code",
      "metadata": {
        "id": "ZmVCGt-BtGVO",
        "colab": {
          "base_uri": "https://localhost:8080/"
        },
        "outputId": "9b792b5f-6d96-4eba-aaa7-cca7380fa9c5"
      },
      "source": [
        "# kernel = rbf, linear, polinomial (poly)\n",
        "from sklearn.svm import SVR\n",
        "SVR = SVR(kernel='rbf')\n",
        "SVR.fit(x_treino,y_treino)"
      ],
      "execution_count": null,
      "outputs": [
        {
          "output_type": "execute_result",
          "data": {
            "text/plain": [
              "SVR()"
            ]
          },
          "metadata": {},
          "execution_count": 16
        }
      ]
    },
    {
      "cell_type": "code",
      "metadata": {
        "id": "809lWfiEuMiV",
        "colab": {
          "base_uri": "https://localhost:8080/"
        },
        "outputId": "00cecb1e-1b4e-4879-8e61-47166eafc7be"
      },
      "source": [
        "SVR.score(x_treino, y_treino)"
      ],
      "execution_count": null,
      "outputs": [
        {
          "output_type": "execute_result",
          "data": {
            "text/plain": [
              "-0.006148700884580638"
            ]
          },
          "metadata": {},
          "execution_count": 17
        }
      ]
    },
    {
      "cell_type": "code",
      "metadata": {
        "id": "ZCcstZ8uuUq8",
        "colab": {
          "base_uri": "https://localhost:8080/"
        },
        "outputId": "268b98a2-c1b8-4ad9-9c8b-4b214557dc90"
      },
      "source": [
        "SVR.score(x_teste, y_teste)"
      ],
      "execution_count": null,
      "outputs": [
        {
          "output_type": "execute_result",
          "data": {
            "text/plain": [
              "-0.0029977270958452262"
            ]
          },
          "metadata": {},
          "execution_count": 18
        }
      ]
    },
    {
      "cell_type": "markdown",
      "source": [
        "**Padronização de escala**"
      ],
      "metadata": {
        "id": "i0tdnZNhxRDj"
      }
    },
    {
      "cell_type": "code",
      "source": [
        "from sklearn.preprocessing import StandardScaler\n",
        "x_scaler = StandardScaler()\n",
        "x_treino_scaler = x_scaler.fit_transform(x_treino)"
      ],
      "metadata": {
        "id": "vIgPmXt8xRtk"
      },
      "execution_count": null,
      "outputs": []
    },
    {
      "cell_type": "code",
      "source": [
        "x_treino_scaler"
      ],
      "metadata": {
        "id": "fc4OD6JdyVks",
        "colab": {
          "base_uri": "https://localhost:8080/"
        },
        "outputId": "85506437-acc8-46e8-c1e3-7bc1410e8e87"
      },
      "execution_count": null,
      "outputs": [
        {
          "output_type": "execute_result",
          "data": {
            "text/plain": [
              "array([[ 0.05327517, -0.70150711, -0.05467118],\n",
              "       [ 1.12799963, -0.44487061, -0.52922816],\n",
              "       [ 0.60711128, -0.79792304,  0.230063  ],\n",
              "       ...,\n",
              "       [-0.33111532, -0.36121561, -0.33940537],\n",
              "       [-0.31699486,  0.84398345, -0.29194967],\n",
              "       [-0.33268427, -0.38815536, -0.90887374]])"
            ]
          },
          "metadata": {},
          "execution_count": 21
        }
      ]
    },
    {
      "cell_type": "code",
      "source": [
        "y_scaler = StandardScaler()\n",
        "y_treino_scaler = y_scaler.fit_transform(y_treino.reshape(-1,1))"
      ],
      "metadata": {
        "id": "wyKhCzqexRy0"
      },
      "execution_count": null,
      "outputs": []
    },
    {
      "cell_type": "code",
      "source": [
        "y_treino_scaler"
      ],
      "metadata": {
        "id": "uyOhdquuyb2D",
        "colab": {
          "base_uri": "https://localhost:8080/"
        },
        "outputId": "30e35c96-f582-41a9-d311-0589bf9fa6b3"
      },
      "execution_count": null,
      "outputs": [
        {
          "output_type": "execute_result",
          "data": {
            "text/plain": [
              "array([[-1.05925606e-02],\n",
              "       [ 6.46900118e-01],\n",
              "       [ 2.85923746e-01],\n",
              "       [-1.13728667e-01],\n",
              "       [ 1.44111599e-01],\n",
              "       [-7.84113359e-01],\n",
              "       [-1.24822584e+00],\n",
              "       [-2.81324840e-01],\n",
              "       [-1.39512694e-01],\n",
              "       [-1.01616960e+00],\n",
              "       [ 2.00056152e+00],\n",
              "       [ 1.21414870e+00],\n",
              "       [ 1.27860877e+00],\n",
              "       [-1.52404707e-01],\n",
              "       [ 9.04740384e-01],\n",
              "       [ 2.29945267e-03],\n",
              "       [-2.81324840e-01],\n",
              "       [ 2.73031732e-01],\n",
              "       [-2.81324840e-01],\n",
              "       [ 2.73031732e-01],\n",
              "       [ 4.27735892e-01],\n",
              "       [ 2.60139719e-01],\n",
              "       [-1.06773765e+00],\n",
              "       [-1.17087376e+00],\n",
              "       [ 3.49603506e+00],\n",
              "       [ 9.04740384e-01],\n",
              "       [-2.07331469e+00],\n",
              "       [ 1.69895626e-01],\n",
              "       [ 4.27735892e-01],\n",
              "       [ 2.76119030e+00],\n",
              "       [-3.45784907e-01],\n",
              "       [ 2.73031732e-01],\n",
              "       [-1.48028208e+00],\n",
              "       [ 1.57003612e-01],\n",
              "       [-1.91080747e-01],\n",
              "       [-1.01616960e+00],\n",
              "       [ 3.37491799e-01],\n",
              "       [-2.34845740e-02],\n",
              "       [ 1.91031742e+00],\n",
              "       [ 3.37491799e-01],\n",
              "       [-5.26273093e-01],\n",
              "       [ 6.67595192e-02],\n",
              "       [-8.74357452e-01],\n",
              "       [-2.94216853e-01],\n",
              "       [-1.11930571e+00],\n",
              "       [-3.84460947e-01],\n",
              "       [-9.90385572e-01],\n",
              "       [ 6.21116092e-01],\n",
              "       [-1.69944630e+00],\n",
              "       [ 1.67826118e+00],\n",
              "       [-1.82836644e+00],\n",
              "       [-5.39165106e-01],\n",
              "       [-7.84113359e-01],\n",
              "       [ 2.60139719e-01],\n",
              "       [ 1.38174488e+00],\n",
              "       [-1.15798175e+00],\n",
              "       [-4.10244973e-01],\n",
              "       [ 4.01951865e-01],\n",
              "       [-3.07108867e-01],\n",
              "       [-9.77493559e-01],\n",
              "       [-2.15066677e+00],\n",
              "       [ 2.33575386e+00],\n",
              "       [-2.94216853e-01],\n",
              "       [-6.21606139e-02],\n",
              "       [ 1.82787639e-01],\n",
              "       [-1.06773765e+00],\n",
              "       [ 4.09754926e-02],\n",
              "       [ 1.95679652e-01],\n",
              "       [-3.71568933e-01],\n",
              "       [ 7.50036225e-01],\n",
              "       [ 1.42042092e+00],\n",
              "       [ 1.82787639e-01],\n",
              "       [-5.52057120e-01],\n",
              "       [ 1.49777300e+00],\n",
              "       [ 3.11707772e-01],\n",
              "       [ 1.02076850e+00],\n",
              "       [-7.71221346e-01],\n",
              "       [ 1.95679652e-01],\n",
              "       [-2.03972760e-01],\n",
              "       [-1.08062967e+00],\n",
              "       [-1.33846993e+00],\n",
              "       [ 1.31219586e-01],\n",
              "       [-4.23136987e-01],\n",
              "       [-1.10641369e+00],\n",
              "       [ 4.27735892e-01],\n",
              "       [ 4.27735892e-01],\n",
              "       [-1.05484564e+00],\n",
              "       [-6.21606139e-02],\n",
              "       [ 2.19394172e+00],\n",
              "       [ 6.34008105e-01],\n",
              "       [-7.32545306e-01],\n",
              "       [-3.32892893e-01],\n",
              "       [ 3.50383812e-01],\n",
              "       [ 3.76167839e-01],\n",
              "       [ 1.74272125e+00],\n",
              "       [ 9.25435458e-02],\n",
              "       [-4.36029000e-01],\n",
              "       [-9.51709532e-01],\n",
              "       [-4.10244973e-01],\n",
              "       [-2.42648800e-01],\n",
              "       [-1.31268591e+00],\n",
              "       [ 2.05212957e+00],\n",
              "       [-2.16864774e-01],\n",
              "       [-8.61465439e-01],\n",
              "       [ 4.53519919e-01],\n",
              "       [ 1.85874937e+00],\n",
              "       [ 2.21463679e-01],\n",
              "       [-5.90733160e-01],\n",
              "       [-6.21606139e-02],\n",
              "       [-3.58676920e-01],\n",
              "       [ 2.85923746e-01],\n",
              "       [-8.79446405e-02],\n",
              "       [ 2.80834793e-02],\n",
              "       [ 8.01604278e-01],\n",
              "       [-8.35681413e-01],\n",
              "       [ 2.98035453e+00],\n",
              "       [-8.87249466e-01],\n",
              "       [-1.39512694e-01],\n",
              "       [-1.78188734e-01],\n",
              "       [-1.10641369e+00],\n",
              "       [-3.45784907e-01],\n",
              "       [-3.32892893e-01],\n",
              "       [-1.08062967e+00],\n",
              "       [ 1.69895626e-01],\n",
              "       [-2.03972760e-01],\n",
              "       [-4.48921013e-01],\n",
              "       [ 1.57003612e-01],\n",
              "       [-1.39512694e-01],\n",
              "       [ 7.50036225e-01],\n",
              "       [-7.19653293e-01],\n",
              "       [ 9.56308438e-01],\n",
              "       [ 2.29945267e-03],\n",
              "       [-3.07108867e-01],\n",
              "       [ 6.67595192e-02],\n",
              "       [-1.26620680e-01],\n",
              "       [ 4.09754926e-02],\n",
              "       [-7.84113359e-01],\n",
              "       [ 1.08522857e+00],\n",
              "       [ 1.29150078e+00],\n",
              "       [-9.51709532e-01],\n",
              "       [ 1.44111599e-01],\n",
              "       [-5.52057120e-01],\n",
              "       [-1.72523033e+00],\n",
              "       [-1.23533383e+00],\n",
              "       [ 1.70404521e+00],\n",
              "       [ 4.09754926e-02],\n",
              "       [-2.29756787e-01],\n",
              "       [-1.78188734e-01],\n",
              "       [-8.79446405e-02],\n",
              "       [ 1.82787639e-01],\n",
              "       [-1.65296720e-01],\n",
              "       [ 1.05435559e-01],\n",
              "       [-1.45449805e+00],\n",
              "       [-6.29409200e-01],\n",
              "       [ 4.40627905e-01],\n",
              "       [ 1.31219586e-01],\n",
              "       [ 1.57003612e-01],\n",
              "       [ 2.85923746e-01],\n",
              "       [-3.63765873e-02],\n",
              "       [ 2.29945267e-03],\n",
              "       [-8.09897386e-01],\n",
              "       [-8.22789399e-01],\n",
              "       [ 1.82787639e-01],\n",
              "       [ 2.85923746e-01],\n",
              "       [-2.94216853e-01],\n",
              "       [-5.00489066e-01],\n",
              "       [-5.00489066e-01],\n",
              "       [-4.10244973e-01],\n",
              "       [-7.50526272e-02],\n",
              "       [-1.13728667e-01],\n",
              "       [-3.07108867e-01],\n",
              "       [-5.77841146e-01],\n",
              "       [ 2.87721842e+00],\n",
              "       [-1.15798175e+00],\n",
              "       [-4.48921013e-01],\n",
              "       [ 8.40280318e-01],\n",
              "       [ 1.72982924e+00],\n",
              "       [ 9.43416424e-01],\n",
              "       [-1.54474214e+00],\n",
              "       [ 1.51066501e+00],\n",
              "       [ 1.08522857e+00],\n",
              "       [-3.63765873e-02],\n",
              "       [ 2.01345353e+00],\n",
              "       [-1.78188734e-01],\n",
              "       [-1.13728667e-01],\n",
              "       [ 1.70404521e+00],\n",
              "       [-1.66077026e+00],\n",
              "       [ 1.51914660e-02],\n",
              "       [-2.03972760e-01],\n",
              "       [ 8.66064344e-01],\n",
              "       [-1.40293000e+00],\n",
              "       [ 1.33017682e+00],\n",
              "       [-9.77493559e-01],\n",
              "       [ 8.14496291e-01],\n",
              "       [ 1.82787639e-01],\n",
              "       [ 2.81275835e+00],\n",
              "       [-3.58676920e-01],\n",
              "       [-1.39003798e+00],\n",
              "       [ 1.05435559e-01],\n",
              "       [ 1.48488098e+00],\n",
              "       [-2.16864774e-01],\n",
              "       [-3.32892893e-01],\n",
              "       [ 2.08571666e-01],\n",
              "       [ 6.34008105e-01],\n",
              "       [ 3.05770661e+00],\n",
              "       [-2.55540814e-01],\n",
              "       [ 2.08571666e-01],\n",
              "       [-1.55763416e+00],\n",
              "       [-1.69944630e+00],\n",
              "       [-1.28690188e+00],\n",
              "       [-5.64949133e-01],\n",
              "       [ 3.37491799e-01],\n",
              "       [ 6.67595192e-02],\n",
              "       [-1.86704248e+00],\n",
              "       [-3.20000880e-01],\n",
              "       [ 1.89742541e+00],\n",
              "       [-9.25925506e-01],\n",
              "       [ 3.89059852e-01],\n",
              "       [ 2.98815759e-01],\n",
              "       [ 3.50383812e-01],\n",
              "       [-1.28690188e+00],\n",
              "       [ 2.85143439e+00],\n",
              "       [ 4.27735892e-01],\n",
              "       [-7.06761279e-01],\n",
              "       [ 1.51914660e-02],\n",
              "       [ 2.09080561e+00],\n",
              "       [-1.44160604e+00],\n",
              "       [ 1.44111599e-01],\n",
              "       [-1.39512694e-01],\n",
              "       [ 1.95679652e-01],\n",
              "       [ 8.66064344e-01],\n",
              "       [-1.06773765e+00],\n",
              "       [ 2.47247706e-01],\n",
              "       [-1.00836654e-01],\n",
              "       [-5.00489066e-01],\n",
              "       [-9.38817519e-01],\n",
              "       [-3.97352960e-01],\n",
              "       [-8.48573426e-01],\n",
              "       [ 2.60139719e-01],\n",
              "       [ 8.78956358e-01],\n",
              "       [ 2.98815759e-01],\n",
              "       [-5.00489066e-01],\n",
              "       [-7.84113359e-01],\n",
              "       [-5.39165106e-01],\n",
              "       [ 6.08224078e-01],\n",
              "       [-1.01616960e+00],\n",
              "       [-2.68432827e-01],\n",
              "       [-1.15798175e+00],\n",
              "       [ 4.09754926e-02],\n",
              "       [ 3.50383812e-01],\n",
              "       [-7.50526272e-02],\n",
              "       [ 2.29945267e-03],\n",
              "       [ 2.85923746e-01],\n",
              "       [-1.78188734e-01],\n",
              "       [-8.35681413e-01],\n",
              "       [-4.23136987e-01],\n",
              "       [-3.32892893e-01],\n",
              "       [-5.13381080e-01],\n",
              "       [-1.86704248e+00],\n",
              "       [ 4.09754926e-02],\n",
              "       [ 4.01951865e-01],\n",
              "       [ 1.47198897e+00],\n",
              "       [-3.07108867e-01],\n",
              "       [-8.61465439e-01],\n",
              "       [ 6.08224078e-01],\n",
              "       [ 1.27860877e+00],\n",
              "       [-2.94216853e-01],\n",
              "       [ 1.16258065e+00],\n",
              "       [-1.01616960e+00],\n",
              "       [-8.74357452e-01],\n",
              "       [ 4.66411932e-01],\n",
              "       [-2.81324840e-01],\n",
              "       [-2.15066677e+00],\n",
              "       [-2.68432827e-01],\n",
              "       [ 1.35596085e+00],\n",
              "       [-7.19653293e-01],\n",
              "       [ 3.89059852e-01],\n",
              "       [-1.26111785e+00],\n",
              "       [ 2.21463679e-01],\n",
              "       [-1.67366228e+00],\n",
              "       [-1.27400987e+00],\n",
              "       [-4.74705040e-01],\n",
              "       [ 4.09754926e-02],\n",
              "       [-4.23136987e-01],\n",
              "       [ 1.04655253e+00],\n",
              "       [-1.84125845e+00],\n",
              "       [ 2.73031732e-01],\n",
              "       [-2.68432827e-01],\n",
              "       [ 1.02076850e+00],\n",
              "       [-2.16864774e-01],\n",
              "       [-9.25925506e-01],\n",
              "       [-1.09352168e+00],\n",
              "       [-7.06761279e-01],\n",
              "       [ 1.97477749e+00],\n",
              "       [-6.42301213e-01],\n",
              "       [ 9.43416424e-01],\n",
              "       [-1.44160604e+00],\n",
              "       [-1.86704248e+00],\n",
              "       [-1.91080747e-01],\n",
              "       [-9.13033492e-01],\n",
              "       [ 6.98468171e-01],\n",
              "       [ 1.04655253e+00],\n",
              "       [ 1.87164138e+00],\n",
              "       [ 1.48488098e+00],\n",
              "       [ 6.34008105e-01],\n",
              "       [-2.29756787e-01],\n",
              "       [-9.77493559e-01],\n",
              "       [-5.77841146e-01],\n",
              "       [ 3.45735902e+00],\n",
              "       [ 4.01951865e-01],\n",
              "       [-4.36029000e-01],\n",
              "       [-9.64601546e-01],\n",
              "       [ 1.33017682e+00],\n",
              "       [ 1.44111599e-01],\n",
              "       [ 1.22704072e+00],\n",
              "       [-1.00327759e+00],\n",
              "       [ 7.96515325e-02],\n",
              "       [ 3.63275825e-01],\n",
              "       [-1.75101436e+00],\n",
              "       [ 1.05944454e+00],\n",
              "       [-2.03972760e-01],\n",
              "       [ 1.17547266e+00],\n",
              "       [ 1.70404521e+00],\n",
              "       [ 3.76167839e-01],\n",
              "       [-6.93869266e-01],\n",
              "       [ 2.47247706e-01],\n",
              "       [-1.89282650e+00],\n",
              "       [ 3.24599785e-01],\n",
              "       [ 6.67595192e-02],\n",
              "       [ 1.47198897e+00],\n",
              "       [ 3.50383812e-01],\n",
              "       [ 7.96515325e-02],\n",
              "       [-2.34845740e-02],\n",
              "       [-3.58676920e-01],\n",
              "       [-1.00327759e+00],\n",
              "       [ 3.11707772e-01],\n",
              "       [ 1.56223306e+00],\n",
              "       [-1.26620680e-01],\n",
              "       [ 1.66536917e+00],\n",
              "       [-3.20000880e-01],\n",
              "       [-6.55193226e-01],\n",
              "       [ 1.95679652e-01]])"
            ]
          },
          "metadata": {},
          "execution_count": 27
        }
      ]
    },
    {
      "cell_type": "code",
      "source": [
        "x_teste_scaler = x_scaler.transform(x_teste)\n",
        "x_teste_scaler"
      ],
      "metadata": {
        "id": "IsHYG6i7ygdg"
      },
      "execution_count": null,
      "outputs": []
    },
    {
      "cell_type": "code",
      "source": [
        "y_teste_scaler = y_scaler.transform(y_teste.reshape(-1,1))\n",
        "y_teste_scaler"
      ],
      "metadata": {
        "id": "P5QgpoYoy_Vq"
      },
      "execution_count": null,
      "outputs": []
    },
    {
      "cell_type": "code",
      "source": [
        "from sklearn.svm import SVR\n",
        "SVR2 = SVR(kernel='rbf')\n",
        "SVR2.fit(x_treino_scaler, y_treino_scaler.ravel())\n",
        "\n",
        "# .ravel() é para retornar matriz 1D"
      ],
      "metadata": {
        "id": "oyhO5h_8zZVJ",
        "colab": {
          "base_uri": "https://localhost:8080/"
        },
        "outputId": "9af5cc61-1599-4d3a-fd92-f5f86ff065f6"
      },
      "execution_count": null,
      "outputs": [
        {
          "output_type": "execute_result",
          "data": {
            "text/plain": [
              "SVR()"
            ]
          },
          "metadata": {},
          "execution_count": 39
        }
      ]
    },
    {
      "cell_type": "code",
      "source": [
        "SVR2.score(x_treino_scaler, y_treino_scaler)"
      ],
      "metadata": {
        "id": "-CfJcin_z0ZS",
        "colab": {
          "base_uri": "https://localhost:8080/"
        },
        "outputId": "71ff4764-689b-4bf1-f72b-e5a1b39453ae"
      },
      "execution_count": null,
      "outputs": [
        {
          "output_type": "execute_result",
          "data": {
            "text/plain": [
              "0.8714780218682298"
            ]
          },
          "metadata": {},
          "execution_count": 40
        }
      ]
    },
    {
      "cell_type": "markdown",
      "source": [
        "**TESTE**"
      ],
      "metadata": {
        "id": "6fHv3HCV0c4U"
      }
    },
    {
      "cell_type": "code",
      "source": [
        "SVR2.score(x_teste_scaler, y_teste_scaler)"
      ],
      "metadata": {
        "id": "UkLzgWpV0cDv",
        "colab": {
          "base_uri": "https://localhost:8080/"
        },
        "outputId": "be17d7a6-c6c4-4397-f2f7-0cc535428548"
      },
      "execution_count": null,
      "outputs": [
        {
          "output_type": "execute_result",
          "data": {
            "text/plain": [
              "0.8141963480712318"
            ]
          },
          "metadata": {},
          "execution_count": 41
        }
      ]
    },
    {
      "cell_type": "code",
      "source": [
        "previsoes_teste = SVR2.predict(x_teste_scaler)\n",
        "previsoes_teste"
      ],
      "metadata": {
        "id": "tIHtC0NF038o"
      },
      "execution_count": null,
      "outputs": []
    },
    {
      "cell_type": "code",
      "source": [
        "y_teste_scaler"
      ],
      "metadata": {
        "id": "he5RYWCs1Cvl"
      },
      "execution_count": null,
      "outputs": []
    },
    {
      "cell_type": "markdown",
      "source": [
        "**Revertendo a transformação**"
      ],
      "metadata": {
        "id": "qXiWO2g21N4C"
      }
    },
    {
      "cell_type": "code",
      "source": [
        "y_teste_inverse = y_scaler.inverse_transform(y_teste_scaler)\n",
        "previsoes_inverse = y_scaler.inverse_transform(previsoes_teste.reshape(-1, 1))"
      ],
      "metadata": {
        "id": "YxYKJhda1QOQ"
      },
      "execution_count": null,
      "outputs": []
    },
    {
      "cell_type": "code",
      "source": [
        "y_teste_inverse"
      ],
      "metadata": {
        "id": "h5UWcx7U2O4R"
      },
      "execution_count": null,
      "outputs": []
    },
    {
      "cell_type": "code",
      "source": [
        "previsoes_inverse"
      ],
      "metadata": {
        "id": "gzk4dY8b2RaH"
      },
      "execution_count": null,
      "outputs": []
    },
    {
      "cell_type": "markdown",
      "source": [
        "**MÉTRICAS**"
      ],
      "metadata": {
        "id": "LIuZtYzy244V"
      }
    },
    {
      "cell_type": "code",
      "metadata": {
        "id": "xQObOvjP244W"
      },
      "source": [
        "from sklearn.metrics import mean_absolute_error, mean_squared_error"
      ],
      "execution_count": null,
      "outputs": []
    },
    {
      "cell_type": "code",
      "metadata": {
        "id": "4_JGDXQ_244X",
        "colab": {
          "base_uri": "https://localhost:8080/"
        },
        "outputId": "260af89d-74f7-46f3-e644-f6a9731a67c2"
      },
      "source": [
        "# Erro médio Absoluto\n",
        "mean_absolute_error(y_teste_inverse, previsoes_inverse)"
      ],
      "execution_count": null,
      "outputs": [
        {
          "output_type": "execute_result",
          "data": {
            "text/plain": [
              "54733.899498823375"
            ]
          },
          "metadata": {},
          "execution_count": 49
        }
      ]
    },
    {
      "cell_type": "code",
      "metadata": {
        "id": "FGawDh_o244Y",
        "colab": {
          "base_uri": "https://localhost:8080/"
        },
        "outputId": "fbc496d2-79d1-44ce-c0ed-ca6653f07b77"
      },
      "source": [
        "# Erro quadrático médio\n",
        "mean_squared_error(y_teste_inverse, previsoes_inverse)"
      ],
      "execution_count": null,
      "outputs": [
        {
          "output_type": "execute_result",
          "data": {
            "text/plain": [
              "5390892216.930902"
            ]
          },
          "metadata": {},
          "execution_count": 50
        }
      ]
    },
    {
      "cell_type": "code",
      "metadata": {
        "id": "5EwUUep7244Z",
        "colab": {
          "base_uri": "https://localhost:8080/"
        },
        "outputId": "421b5f41-def6-4758-9ef3-a158a568152c"
      },
      "source": [
        "# Raiz do erro quadrático médio (RMSE)\n",
        "np.sqrt(mean_squared_error(y_teste_inverse, previsoes_inverse))"
      ],
      "execution_count": null,
      "outputs": [
        {
          "output_type": "execute_result",
          "data": {
            "text/plain": [
              "73422.6955166514"
            ]
          },
          "metadata": {},
          "execution_count": 51
        }
      ]
    },
    {
      "cell_type": "markdown",
      "source": [
        "### **Validação Cruzada**"
      ],
      "metadata": {
        "id": "rHDzUmOb35hE"
      }
    },
    {
      "cell_type": "markdown",
      "source": [
        "**Padronização de escala**"
      ],
      "metadata": {
        "id": "ebxViZwY3_mH"
      }
    },
    {
      "cell_type": "code",
      "source": [
        "from sklearn.preprocessing import StandardScaler\n",
        "x = StandardScaler()\n",
        "independente_scaler = x.fit_transform(independente)"
      ],
      "metadata": {
        "id": "AIAuGipc3_mI"
      },
      "execution_count": null,
      "outputs": []
    },
    {
      "cell_type": "code",
      "source": [
        "independente_scaler"
      ],
      "metadata": {
        "id": "RO4FhcYt3_mI",
        "colab": {
          "base_uri": "https://localhost:8080/"
        },
        "outputId": "0d152dcd-30b5-480c-f482-08b3d89f4f7e"
      },
      "execution_count": null,
      "outputs": [
        {
          "output_type": "execute_result",
          "data": {
            "text/plain": [
              "array([[ 0.52055395, -1.1250769 , -1.5250831 ],\n",
              "       [ 0.28104837, -0.53706982, -0.33974768],\n",
              "       [ 1.46924486, -1.25935736, -0.33974768],\n",
              "       ...,\n",
              "       [ 1.14420158, -1.03178731,  1.17748167],\n",
              "       [ 0.86114953, -0.91305511,  1.17748167],\n",
              "       [-0.32704695, -0.71516812,  1.17748167]])"
            ]
          },
          "metadata": {},
          "execution_count": 53
        }
      ]
    },
    {
      "cell_type": "code",
      "source": [
        "y = StandardScaler()\n",
        "dependente_scaler = y.fit_transform(dependente.reshape(-1,1))"
      ],
      "metadata": {
        "id": "y5khxbi53_mJ"
      },
      "execution_count": null,
      "outputs": []
    },
    {
      "cell_type": "code",
      "source": [
        "from sklearn.model_selection import KFold\n",
        "from sklearn.model_selection import cross_val_score"
      ],
      "metadata": {
        "id": "VFsyFWtC3gLe"
      },
      "execution_count": null,
      "outputs": []
    },
    {
      "cell_type": "code",
      "source": [
        "# Separando os dados em folds\n",
        "kfold = KFold(n_splits = 15, shuffle=True, random_state = 5)"
      ],
      "metadata": {
        "id": "AwKcmfAS3gLg"
      },
      "execution_count": null,
      "outputs": []
    },
    {
      "cell_type": "code",
      "source": [
        "# Criando o modelo\n",
        "from sklearn.svm import SVR\n",
        "modelo = SVR(kernel='rbf')\n",
        "resultado = cross_val_score(modelo, independente_scaler, dependente_scaler.ravel(), cv = kfold)\n",
        "resultado"
      ],
      "metadata": {
        "id": "i8R3DHwF3gLg",
        "colab": {
          "base_uri": "https://localhost:8080/"
        },
        "outputId": "23de34be-1575-49a4-8923-c557c62f34cc"
      },
      "execution_count": null,
      "outputs": [
        {
          "output_type": "execute_result",
          "data": {
            "text/plain": [
              "array([0.92812888, 0.84684121, 0.77550142, 0.84579676, 0.87130224,\n",
              "       0.73027848, 0.8773257 , 0.8323081 , 0.81165058, 0.86738849,\n",
              "       0.91428868, 0.65473478, 0.78365184, 0.83876782, 0.77741225])"
            ]
          },
          "metadata": {},
          "execution_count": 57
        }
      ]
    },
    {
      "cell_type": "code",
      "source": [
        "# Usamos a média e o desvio padrão\n",
        "print(\"Coeficiente de Determinação médio: %.2f%%\" % (resultado.mean() * 100.0))"
      ],
      "metadata": {
        "id": "6xzv5UHd3gLh",
        "colab": {
          "base_uri": "https://localhost:8080/"
        },
        "outputId": "ee712667-90ca-407a-cf80-72de804e5e33"
      },
      "execution_count": null,
      "outputs": [
        {
          "output_type": "stream",
          "name": "stdout",
          "text": [
            "Coeficiente de Determinação médio: 82.37%\n"
          ]
        }
      ]
    },
    {
      "cell_type": "markdown",
      "source": [
        "**RESULTADOS:**\n",
        "\n",
        "**REGRESSÃO LINEAR SIMPLES:** R^2 = 0,57/0,60; RMSE = 99315,5; R^2 Validação Cruzada: 55,97%\n",
        "\n",
        "**REGRESSÃO LINEAR MÚLTIPLA:** R^2 = 0,73/0,68; RMSE = 96087,3; R^2 Validação Cruzada: 69,25%\n",
        "\n",
        "**REGRESSÃO POLINOMIAL:** R^2 = 0,59/0,54; RMSE = 114670,6.\n",
        "\n",
        "**REGRESSÃO SVR:** R^2 = 0,87/0,81; RMSE = 73422,7. R^2 Validação Cruzada: 82,37%."
      ],
      "metadata": {
        "id": "9uo9IM_V2nph"
      }
    },
    {
      "cell_type": "markdown",
      "source": [
        "## **REGRESSÃO COM ÁRVORE DE DECISÃO**"
      ],
      "metadata": {
        "id": "N3OZHJFl2npi"
      }
    },
    {
      "cell_type": "markdown",
      "source": [
        "https://scikit-learn.org/stable/modules/tree.html#regression "
      ],
      "metadata": {
        "id": "0tAem7qwPVhF"
      }
    },
    {
      "cell_type": "code",
      "source": [
        "df.head(2)"
      ],
      "metadata": {
        "id": "ka5_F-RwHkLb",
        "colab": {
          "base_uri": "https://localhost:8080/",
          "height": 112
        },
        "outputId": "4f4e5c72-fdd6-49ed-b53b-49f2a295cfad"
      },
      "execution_count": null,
      "outputs": [
        {
          "output_type": "execute_result",
          "data": {
            "text/html": [
              "\n",
              "  <div id=\"df-c477ffdd-f616-4d25-94d2-29029e946350\">\n",
              "    <div class=\"colab-df-container\">\n",
              "      <div>\n",
              "<style scoped>\n",
              "    .dataframe tbody tr th:only-of-type {\n",
              "        vertical-align: middle;\n",
              "    }\n",
              "\n",
              "    .dataframe tbody tr th {\n",
              "        vertical-align: top;\n",
              "    }\n",
              "\n",
              "    .dataframe thead th {\n",
              "        text-align: right;\n",
              "    }\n",
              "</style>\n",
              "<table border=\"1\" class=\"dataframe\">\n",
              "  <thead>\n",
              "    <tr style=\"text-align: right;\">\n",
              "      <th></th>\n",
              "      <th>RM</th>\n",
              "      <th>LSTAT</th>\n",
              "      <th>PTRATIO</th>\n",
              "      <th>MEDV</th>\n",
              "    </tr>\n",
              "  </thead>\n",
              "  <tbody>\n",
              "    <tr>\n",
              "      <th>0</th>\n",
              "      <td>6.575</td>\n",
              "      <td>4.98</td>\n",
              "      <td>15.3</td>\n",
              "      <td>504000.0</td>\n",
              "    </tr>\n",
              "    <tr>\n",
              "      <th>1</th>\n",
              "      <td>6.421</td>\n",
              "      <td>9.14</td>\n",
              "      <td>17.8</td>\n",
              "      <td>453600.0</td>\n",
              "    </tr>\n",
              "  </tbody>\n",
              "</table>\n",
              "</div>\n",
              "      <button class=\"colab-df-convert\" onclick=\"convertToInteractive('df-c477ffdd-f616-4d25-94d2-29029e946350')\"\n",
              "              title=\"Convert this dataframe to an interactive table.\"\n",
              "              style=\"display:none;\">\n",
              "        \n",
              "  <svg xmlns=\"http://www.w3.org/2000/svg\" height=\"24px\"viewBox=\"0 0 24 24\"\n",
              "       width=\"24px\">\n",
              "    <path d=\"M0 0h24v24H0V0z\" fill=\"none\"/>\n",
              "    <path d=\"M18.56 5.44l.94 2.06.94-2.06 2.06-.94-2.06-.94-.94-2.06-.94 2.06-2.06.94zm-11 1L8.5 8.5l.94-2.06 2.06-.94-2.06-.94L8.5 2.5l-.94 2.06-2.06.94zm10 10l.94 2.06.94-2.06 2.06-.94-2.06-.94-.94-2.06-.94 2.06-2.06.94z\"/><path d=\"M17.41 7.96l-1.37-1.37c-.4-.4-.92-.59-1.43-.59-.52 0-1.04.2-1.43.59L10.3 9.45l-7.72 7.72c-.78.78-.78 2.05 0 2.83L4 21.41c.39.39.9.59 1.41.59.51 0 1.02-.2 1.41-.59l7.78-7.78 2.81-2.81c.8-.78.8-2.07 0-2.86zM5.41 20L4 18.59l7.72-7.72 1.47 1.35L5.41 20z\"/>\n",
              "  </svg>\n",
              "      </button>\n",
              "      \n",
              "  <style>\n",
              "    .colab-df-container {\n",
              "      display:flex;\n",
              "      flex-wrap:wrap;\n",
              "      gap: 12px;\n",
              "    }\n",
              "\n",
              "    .colab-df-convert {\n",
              "      background-color: #E8F0FE;\n",
              "      border: none;\n",
              "      border-radius: 50%;\n",
              "      cursor: pointer;\n",
              "      display: none;\n",
              "      fill: #1967D2;\n",
              "      height: 32px;\n",
              "      padding: 0 0 0 0;\n",
              "      width: 32px;\n",
              "    }\n",
              "\n",
              "    .colab-df-convert:hover {\n",
              "      background-color: #E2EBFA;\n",
              "      box-shadow: 0px 1px 2px rgba(60, 64, 67, 0.3), 0px 1px 3px 1px rgba(60, 64, 67, 0.15);\n",
              "      fill: #174EA6;\n",
              "    }\n",
              "\n",
              "    [theme=dark] .colab-df-convert {\n",
              "      background-color: #3B4455;\n",
              "      fill: #D2E3FC;\n",
              "    }\n",
              "\n",
              "    [theme=dark] .colab-df-convert:hover {\n",
              "      background-color: #434B5C;\n",
              "      box-shadow: 0px 1px 3px 1px rgba(0, 0, 0, 0.15);\n",
              "      filter: drop-shadow(0px 1px 2px rgba(0, 0, 0, 0.3));\n",
              "      fill: #FFFFFF;\n",
              "    }\n",
              "  </style>\n",
              "\n",
              "      <script>\n",
              "        const buttonEl =\n",
              "          document.querySelector('#df-c477ffdd-f616-4d25-94d2-29029e946350 button.colab-df-convert');\n",
              "        buttonEl.style.display =\n",
              "          google.colab.kernel.accessAllowed ? 'block' : 'none';\n",
              "\n",
              "        async function convertToInteractive(key) {\n",
              "          const element = document.querySelector('#df-c477ffdd-f616-4d25-94d2-29029e946350');\n",
              "          const dataTable =\n",
              "            await google.colab.kernel.invokeFunction('convertToInteractive',\n",
              "                                                     [key], {});\n",
              "          if (!dataTable) return;\n",
              "\n",
              "          const docLinkHtml = 'Like what you see? Visit the ' +\n",
              "            '<a target=\"_blank\" href=https://colab.research.google.com/notebooks/data_table.ipynb>data table notebook</a>'\n",
              "            + ' to learn more about interactive tables.';\n",
              "          element.innerHTML = '';\n",
              "          dataTable['output_type'] = 'display_data';\n",
              "          await google.colab.output.renderOutput(dataTable, element);\n",
              "          const docLink = document.createElement('div');\n",
              "          docLink.innerHTML = docLinkHtml;\n",
              "          element.appendChild(docLink);\n",
              "        }\n",
              "      </script>\n",
              "    </div>\n",
              "  </div>\n",
              "  "
            ],
            "text/plain": [
              "      RM  LSTAT  PTRATIO      MEDV\n",
              "0  6.575   4.98     15.3  504000.0\n",
              "1  6.421   9.14     17.8  453600.0"
            ]
          },
          "metadata": {},
          "execution_count": 59
        }
      ]
    },
    {
      "cell_type": "code",
      "metadata": {
        "id": "PSvXJHP3HkLc",
        "colab": {
          "base_uri": "https://localhost:8080/"
        },
        "outputId": "380cac3d-0175-4a08-aa63-243577445309"
      },
      "source": [
        "independente = df.iloc[:, 0:3].values\n",
        "independente"
      ],
      "execution_count": null,
      "outputs": [
        {
          "output_type": "execute_result",
          "data": {
            "text/plain": [
              "array([[ 6.575,  4.98 , 15.3  ],\n",
              "       [ 6.421,  9.14 , 17.8  ],\n",
              "       [ 7.185,  4.03 , 17.8  ],\n",
              "       ...,\n",
              "       [ 6.976,  5.64 , 21.   ],\n",
              "       [ 6.794,  6.48 , 21.   ],\n",
              "       [ 6.03 ,  7.88 , 21.   ]])"
            ]
          },
          "metadata": {},
          "execution_count": 60
        }
      ]
    },
    {
      "cell_type": "code",
      "source": [
        "independente.shape"
      ],
      "metadata": {
        "id": "x3JRhqbFHkLd",
        "colab": {
          "base_uri": "https://localhost:8080/"
        },
        "outputId": "2f87a92b-204e-4e81-f40e-3fb70e26f605"
      },
      "execution_count": null,
      "outputs": [
        {
          "output_type": "execute_result",
          "data": {
            "text/plain": [
              "(489, 3)"
            ]
          },
          "metadata": {},
          "execution_count": 61
        }
      ]
    },
    {
      "cell_type": "code",
      "metadata": {
        "id": "enBgBJlRHkLd",
        "colab": {
          "base_uri": "https://localhost:8080/"
        },
        "outputId": "75a7a3dc-4be3-40b1-c36a-ec0fc8768462"
      },
      "source": [
        "dependente = df.iloc[:, 3].values\n",
        "dependente"
      ],
      "execution_count": null,
      "outputs": [
        {
          "output_type": "execute_result",
          "data": {
            "text/plain": [
              "array([ 504000.,  453600.,  728700.,  701400.,  760200.,  602700.,\n",
              "        480900.,  569100.,  346500.,  396900.,  315000.,  396900.,\n",
              "        455700.,  428400.,  382200.,  417900.,  485100.,  367500.,\n",
              "        424200.,  382200.,  285600.,  411600.,  319200.,  304500.,\n",
              "        327600.,  291900.,  348600.,  310800.,  386400.,  441000.,\n",
              "        266700.,  304500.,  277200.,  275100.,  283500.,  396900.,\n",
              "        420000.,  441000.,  518700.,  646800.,  732900.,  558600.,\n",
              "        531300.,  518700.,  445200.,  405300.,  420000.,  348600.,\n",
              "        302400.,  407400.,  413700.,  430500.,  525000.,  491400.,\n",
              "        396900.,  743400.,  518700.,  663600.,  489300.,  411600.,\n",
              "        392700.,  336000.,  466200.,  525000.,  693000.,  493500.,\n",
              "        407400.,  462000.,  365400.,  438900.,  508200.,  455700.,\n",
              "        478800.,  491400.,  506100.,  449400.,  420000.,  436800.,\n",
              "        445200.,  426300.,  588000.,  501900.,  520800.,  480900.,\n",
              "        501900.,  558600.,  472500.,  466200.,  495600.,  602700.,\n",
              "        474600.,  462000.,  480900.,  525000.,  432600.,  596400.,\n",
              "        449400.,  812700.,  919800.,  697200.,  577500.,  556500.,\n",
              "        390600.,  405300.,  422100.,  409500.,  409500.,  428400.,\n",
              "        415800.,  407400.,  455700.,  478800.,  394800.,  392700.,\n",
              "        388500.,  384300.,  445200.,  403200.,  428400.,  405300.,\n",
              "        462000.,  426300.,  430500.,  363300.,  394800.,  449400.,\n",
              "        329700.,  340200.,  378000.,  300300.,  403200.,  411600.,\n",
              "        483000.,  386400.,  327600.,  380100.,  365400.,  359100.,\n",
              "        279300.,  373800.,  294000.,  302400.,  281400.,  327600.,\n",
              "        247800.,  289800.,  327600.,  306600.,  373800.,  323400.,\n",
              "        451500.,  411600.,  321300.,  407400.,  357000.,  327600.,\n",
              "        275100.,  867300.,  510300.,  489300.,  567000.,  476700.,\n",
              "        525000.,  499800.,  499800.,  468300.,  365400.,  401100.,\n",
              "        485100.,  495600.,  474600.,  617400.,  487200.,  516600.,\n",
              "        627900.,  781200.,  835800.,  760200.,  795900.,  682500.,\n",
              "        554400.,  621600.,  672000.,  625800.,  732900.,  777000.,\n",
              "        640500.,  764400.,  653100.,  611100.,  699300.,  636300.,\n",
              "        726600.,  732900.,  690900.,  506100.,  888300., 1018500.,\n",
              "        474600.,  512400.,  472500.,  512400.,  420000.,  455700.,\n",
              "        405300.,  470400.,  590100.,  497700.,  525000.,  489300.,\n",
              "        602700.,  451500.,  483000.,  560700.,  455700.,  577500.,\n",
              "        632100.,  940800.,  789600.,  663600.,  980700.,  661500.,\n",
              "        510300.,  665700.,  875700., 1014300.,  609000.,  504000.,\n",
              "        527100.,  661500.,  497700.,  489300.,  462000.,  422100.,\n",
              "        466200.,  497700.,  369600.,  388500.,  510300.,  430500.,\n",
              "        514500.,  550200.,  512400.,  520800.,  621600.,  898800.,\n",
              "        459900.,  438900.,  924000.,  756000.,  632100.,  709800.,\n",
              "        905100., 1024800.,  651000.,  766500.,  478800.,  644700.,\n",
              "        913500.,  434700.,  443100.,  529200.,  512400.,  739200.,\n",
              "        680400.,  672000.,  697200.,  695100.,  611100.,  737100.,\n",
              "        953400.,  743400.,  966000.,  676200.,  462000.,  422100.,\n",
              "        487200.,  468300.,  520800.,  598500.,  783300.,  585900.,\n",
              "        501900.,  455700.,  600600.,  569100.,  426300.,  472500.,\n",
              "        609000.,  520800.,  462000.,  554400.,  695100.,  758100.,\n",
              "        596400.,  701400.,  592200.,  478800.,  426300.,  338100.,\n",
              "        464100.,  407400.,  453600.,  499800.,  340200.,  373800.,\n",
              "        415800.,  485100.,  441000.,  499800.,  485100.,  428400.,\n",
              "        388500.,  525000.,  516600.,  483000.,  466200.,  405300.,\n",
              "        474600.,  415800.,  359100.,  407400.,  466200.,  434700.,\n",
              "        443100.,  409500.,  388500.,  432600.,  399000.,  392700.,\n",
              "        686700.,  346500.,  501900.,  655200.,  367500.,  361200.,\n",
              "        485100.,  514500.,  558600.,  480900.,  506100.,  390600.,\n",
              "        632100.,  382200.,  432600.,  373800.,  455700.,  476700.,\n",
              "        474600.,  525000.,  417900.,  436800.,  352800.,  577500.,\n",
              "        459900.,  485100.,  289800.,  289800.,  315000.,  291900.,\n",
              "        279300.,  275100.,  214200.,  218400.,  228900.,  237300.,\n",
              "        258300.,  184800.,  151200.,  220500.,  155400.,  214200.,\n",
              "        241500.,  317100.,  487200.,  203700.,  289800.,  266700.,\n",
              "        275100.,  262500.,  178500.,  105000.,  132300.,  117600.,\n",
              "        151200.,  254100.,  174300.,  178500.,  105000.,  249900.,\n",
              "        585900.,  361200.,  577500.,  315000.,  361200.,  375900.,\n",
              "        342300.,  147000.,  151200.,  157500.,  218400.,  184800.,\n",
              "        176400.,  350700.,  298200.,  436800.,  281400.,  245700.,\n",
              "        174300.,  214200.,  228900.,  231000.,  199500.,  304500.,\n",
              "        296100.,  338100.,  300300.,  245700.,  281400.,  201600.,\n",
              "        182700.,  176400.,  268800.,  220500.,  359100.,  386400.,\n",
              "        323400.,  226800.,  247800.,  312900.,  264600.,  296100.,\n",
              "        273000.,  281400.,  319200.,  338100.,  373800.,  312900.,\n",
              "        296100.,  266700.,  283500.,  312900.,  420000.,  344400.,\n",
              "        371700.,  409500.,  424200.,  449400.,  417900.,  399000.,\n",
              "        401100.,  401100.,  422100.,  417900.,  411600.,  487200.,\n",
              "        625800.,  289800.,  279300.,  350700.,  252000.,  306600.,\n",
              "        449400.,  483000.,  497700.,  525000.,  457800.,  432600.,\n",
              "        445200.,  401100.,  432600.,  319200.,  147000.,  170100.,\n",
              "        285600.,  422100.,  457800.,  514500.,  485100.,  413700.,\n",
              "        384300.,  445200.,  367500.,  352800.,  470400.,  432600.,\n",
              "        501900.,  462000.,  249900.])"
            ]
          },
          "metadata": {},
          "execution_count": 62
        }
      ]
    },
    {
      "cell_type": "code",
      "source": [
        "dependente.shape"
      ],
      "metadata": {
        "id": "ChyvkvdhHy3l",
        "colab": {
          "base_uri": "https://localhost:8080/"
        },
        "outputId": "d9f0be16-0535-46b4-9456-ac2c69ab83e3"
      },
      "execution_count": null,
      "outputs": [
        {
          "output_type": "execute_result",
          "data": {
            "text/plain": [
              "(489,)"
            ]
          },
          "metadata": {},
          "execution_count": 63
        }
      ]
    },
    {
      "cell_type": "code",
      "metadata": {
        "id": "F66i09NYHkLe"
      },
      "source": [
        "from sklearn.model_selection import train_test_split\n",
        "x_treino, x_teste, y_treino, y_teste = train_test_split(independente, dependente, test_size = 0.3, random_state = 0)"
      ],
      "execution_count": null,
      "outputs": []
    },
    {
      "cell_type": "code",
      "metadata": {
        "id": "T59uRIMSHkLe",
        "colab": {
          "base_uri": "https://localhost:8080/"
        },
        "outputId": "622ce02f-5d55-4b78-a068-f12455fbd4bb"
      },
      "source": [
        "x_treino.shape, x_teste.shape"
      ],
      "execution_count": null,
      "outputs": [
        {
          "output_type": "execute_result",
          "data": {
            "text/plain": [
              "((342, 3), (147, 3))"
            ]
          },
          "metadata": {},
          "execution_count": 65
        }
      ]
    },
    {
      "cell_type": "code",
      "source": [
        "y_treino.shape, y_teste.shape"
      ],
      "metadata": {
        "id": "AGQ6_Yp8H8Jk",
        "colab": {
          "base_uri": "https://localhost:8080/"
        },
        "outputId": "95989006-8040-45e2-daea-cb6a81169145"
      },
      "execution_count": null,
      "outputs": [
        {
          "output_type": "execute_result",
          "data": {
            "text/plain": [
              "((342,), (147,))"
            ]
          },
          "metadata": {},
          "execution_count": 66
        }
      ]
    },
    {
      "cell_type": "code",
      "metadata": {
        "id": "xekvfhT7hWgM",
        "colab": {
          "base_uri": "https://localhost:8080/"
        },
        "outputId": "cdb3824c-e754-4eca-9c90-6871566189a5"
      },
      "source": [
        "from sklearn.tree import DecisionTreeRegressor\n",
        "arvore = DecisionTreeRegressor(max_depth=5, random_state=10)\n",
        "arvore.fit(x_treino, y_treino)"
      ],
      "execution_count": null,
      "outputs": [
        {
          "output_type": "execute_result",
          "data": {
            "text/plain": [
              "DecisionTreeRegressor(max_depth=5, random_state=10)"
            ]
          },
          "metadata": {},
          "execution_count": 82
        }
      ]
    },
    {
      "cell_type": "code",
      "metadata": {
        "id": "9N8PKjeLhnwm",
        "colab": {
          "base_uri": "https://localhost:8080/"
        },
        "outputId": "09a40624-5799-465b-e520-a1486fc54a14"
      },
      "source": [
        "arvore.score(x_treino, y_treino)"
      ],
      "execution_count": null,
      "outputs": [
        {
          "output_type": "execute_result",
          "data": {
            "text/plain": [
              "0.9050951127606555"
            ]
          },
          "metadata": {},
          "execution_count": 83
        }
      ]
    },
    {
      "cell_type": "markdown",
      "source": [
        "**TESTE**"
      ],
      "metadata": {
        "id": "-4H1NHKAMTMx"
      }
    },
    {
      "cell_type": "code",
      "metadata": {
        "id": "fnRicPdUhtEV",
        "colab": {
          "base_uri": "https://localhost:8080/"
        },
        "outputId": "f19c49e3-f941-4c67-eafc-205f4680a95e"
      },
      "source": [
        "arvore.score(x_teste, y_teste)"
      ],
      "execution_count": null,
      "outputs": [
        {
          "output_type": "execute_result",
          "data": {
            "text/plain": [
              "0.8256951550328737"
            ]
          },
          "metadata": {},
          "execution_count": 84
        }
      ]
    },
    {
      "cell_type": "code",
      "metadata": {
        "id": "iUUoAtpBh3gv"
      },
      "source": [
        "previsoes_teste = arvore.predict(x_teste)\n",
        "previsoes_teste"
      ],
      "execution_count": null,
      "outputs": []
    },
    {
      "cell_type": "code",
      "metadata": {
        "id": "AbwmfJgLh8wk"
      },
      "source": [
        "y_teste"
      ],
      "execution_count": null,
      "outputs": []
    },
    {
      "cell_type": "markdown",
      "source": [
        "**MÉTRICAS**"
      ],
      "metadata": {
        "id": "lKWJ-81bMyZP"
      }
    },
    {
      "cell_type": "code",
      "metadata": {
        "id": "eAErxalxMyZQ"
      },
      "source": [
        "from sklearn.metrics import mean_absolute_error, mean_squared_error"
      ],
      "execution_count": null,
      "outputs": []
    },
    {
      "cell_type": "code",
      "metadata": {
        "id": "o7shpq0eMyZR",
        "colab": {
          "base_uri": "https://localhost:8080/"
        },
        "outputId": "440531b3-06aa-41f7-a3d7-021542e38bee"
      },
      "source": [
        "# Erro médio Absoluto\n",
        "mean_absolute_error(y_teste, previsoes_teste)"
      ],
      "execution_count": null,
      "outputs": [
        {
          "output_type": "execute_result",
          "data": {
            "text/plain": [
              "52954.00426293284"
            ]
          },
          "metadata": {},
          "execution_count": 89
        }
      ]
    },
    {
      "cell_type": "code",
      "metadata": {
        "id": "UCxNMPjvMyZS",
        "colab": {
          "base_uri": "https://localhost:8080/"
        },
        "outputId": "9e427f16-6eaa-4690-8804-077beaa623c3"
      },
      "source": [
        "# Erro quadrático médio\n",
        "mean_squared_error(y_teste, previsoes_teste)"
      ],
      "execution_count": null,
      "outputs": [
        {
          "output_type": "execute_result",
          "data": {
            "text/plain": [
              "5057266756.343771"
            ]
          },
          "metadata": {},
          "execution_count": 90
        }
      ]
    },
    {
      "cell_type": "code",
      "metadata": {
        "id": "-i_NBmScMyZS",
        "colab": {
          "base_uri": "https://localhost:8080/"
        },
        "outputId": "13238b82-ba41-43b5-890f-a1fe0cd9c068"
      },
      "source": [
        "# Raiz do erro quadrático médio (RMSE)\n",
        "np.sqrt(mean_squared_error(y_teste, previsoes_teste))"
      ],
      "execution_count": null,
      "outputs": [
        {
          "output_type": "execute_result",
          "data": {
            "text/plain": [
              "71114.46235713077"
            ]
          },
          "metadata": {},
          "execution_count": 91
        }
      ]
    },
    {
      "cell_type": "markdown",
      "source": [
        "### **Validação Cruzada**"
      ],
      "metadata": {
        "id": "KlGC2Y7eNJIH"
      }
    },
    {
      "cell_type": "code",
      "source": [
        "from sklearn.model_selection import KFold\n",
        "from sklearn.model_selection import cross_val_score"
      ],
      "metadata": {
        "id": "_uZCiCebNJII"
      },
      "execution_count": null,
      "outputs": []
    },
    {
      "cell_type": "code",
      "source": [
        "# Separando os dados em folds\n",
        "kfold = KFold(n_splits = 15, shuffle=True, random_state = 5)"
      ],
      "metadata": {
        "id": "dzXlSwOHNJIJ"
      },
      "execution_count": null,
      "outputs": []
    },
    {
      "cell_type": "code",
      "source": [
        "# Criando o modelo\n",
        "from sklearn.tree import DecisionTreeRegressor\n",
        "modelo = DecisionTreeRegressor(max_depth=5, random_state=10)\n",
        "resultado = cross_val_score(modelo, independente, dependente, cv = kfold)\n",
        "resultado"
      ],
      "metadata": {
        "id": "JOzI7g_kNJIJ",
        "colab": {
          "base_uri": "https://localhost:8080/"
        },
        "outputId": "de682c61-5b1a-4f7b-ed4f-905962d9bda3"
      },
      "execution_count": null,
      "outputs": [
        {
          "output_type": "execute_result",
          "data": {
            "text/plain": [
              "array([0.9107871 , 0.91994845, 0.70416127, 0.79571349, 0.64537243,\n",
              "       0.62424022, 0.83188854, 0.77916943, 0.74608406, 0.45125985,\n",
              "       0.92525406, 0.72678715, 0.72120525, 0.84170908, 0.56581873])"
            ]
          },
          "metadata": {},
          "execution_count": 94
        }
      ]
    },
    {
      "cell_type": "code",
      "source": [
        "# Usamos a média e o desvio padrão\n",
        "print(\"Coeficiente de Determinação Médio: %.2f%%\" % (resultado.mean() * 100.0))"
      ],
      "metadata": {
        "id": "k9_kKBtYNJIK",
        "colab": {
          "base_uri": "https://localhost:8080/"
        },
        "outputId": "a8ef3c7d-7dd1-4cdf-c747-abc8a8b5f014"
      },
      "execution_count": null,
      "outputs": [
        {
          "output_type": "stream",
          "name": "stdout",
          "text": [
            "Coeficiente de Determinação Médio: 74.60%\n"
          ]
        }
      ]
    },
    {
      "cell_type": "markdown",
      "source": [
        "**RESULTADOS:**\n",
        "\n",
        "**REGRESSÃO LINEAR SIMPLES:** R^2 = 0,57/0,60; RMSE = 99315,5; R^2 Validação Cruzada: 55,97%\n",
        "\n",
        "**REGRESSÃO LINEAR MÚLTIPLA:** R^2 = 0,73/0,68; RMSE = 96087,3; R^2 Validação Cruzada: 69,25%\n",
        "\n",
        "**REGRESSÃO POLINOMIAL:** R^2 = 0,59/0,54; RMSE = 114670,6.\n",
        "\n",
        "**REGRESSÃO SVR:** R^2 = 0,87/0,81; RMSE = 73422,7. R^2 Validação Cruzada: 82,37%.\n",
        "\n",
        "**REGRESSÃO ÁRVORE DE DECISÃO:** R^2 = 0,91/0,83; RMSE = 71114,5. R^2 Validação Cruzada: 74,60%."
      ],
      "metadata": {
        "id": "T-iYcZo4NJIL"
      }
    },
    {
      "cell_type": "markdown",
      "source": [
        "## **REGRESSÃO COM RANDOM FOREST**"
      ],
      "metadata": {
        "id": "em7docfu_mvB"
      }
    },
    {
      "cell_type": "markdown",
      "source": [
        "https://scikit-learn.org/stable/modules/generated/sklearn.ensemble.RandomForestRegressor.html "
      ],
      "metadata": {
        "id": "XxohwrvT_xVI"
      }
    },
    {
      "cell_type": "code",
      "source": [
        "df.head(2)"
      ],
      "metadata": {
        "id": "BreuwClMAqSa",
        "colab": {
          "base_uri": "https://localhost:8080/",
          "height": 112
        },
        "outputId": "b7105e80-b12d-44dd-b615-b987c0ae5eff"
      },
      "execution_count": null,
      "outputs": [
        {
          "output_type": "execute_result",
          "data": {
            "text/html": [
              "\n",
              "  <div id=\"df-29475a65-0953-4259-a2e9-a4a86b4794af\">\n",
              "    <div class=\"colab-df-container\">\n",
              "      <div>\n",
              "<style scoped>\n",
              "    .dataframe tbody tr th:only-of-type {\n",
              "        vertical-align: middle;\n",
              "    }\n",
              "\n",
              "    .dataframe tbody tr th {\n",
              "        vertical-align: top;\n",
              "    }\n",
              "\n",
              "    .dataframe thead th {\n",
              "        text-align: right;\n",
              "    }\n",
              "</style>\n",
              "<table border=\"1\" class=\"dataframe\">\n",
              "  <thead>\n",
              "    <tr style=\"text-align: right;\">\n",
              "      <th></th>\n",
              "      <th>RM</th>\n",
              "      <th>LSTAT</th>\n",
              "      <th>PTRATIO</th>\n",
              "      <th>MEDV</th>\n",
              "    </tr>\n",
              "  </thead>\n",
              "  <tbody>\n",
              "    <tr>\n",
              "      <th>0</th>\n",
              "      <td>6.575</td>\n",
              "      <td>4.98</td>\n",
              "      <td>15.3</td>\n",
              "      <td>504000.0</td>\n",
              "    </tr>\n",
              "    <tr>\n",
              "      <th>1</th>\n",
              "      <td>6.421</td>\n",
              "      <td>9.14</td>\n",
              "      <td>17.8</td>\n",
              "      <td>453600.0</td>\n",
              "    </tr>\n",
              "  </tbody>\n",
              "</table>\n",
              "</div>\n",
              "      <button class=\"colab-df-convert\" onclick=\"convertToInteractive('df-29475a65-0953-4259-a2e9-a4a86b4794af')\"\n",
              "              title=\"Convert this dataframe to an interactive table.\"\n",
              "              style=\"display:none;\">\n",
              "        \n",
              "  <svg xmlns=\"http://www.w3.org/2000/svg\" height=\"24px\"viewBox=\"0 0 24 24\"\n",
              "       width=\"24px\">\n",
              "    <path d=\"M0 0h24v24H0V0z\" fill=\"none\"/>\n",
              "    <path d=\"M18.56 5.44l.94 2.06.94-2.06 2.06-.94-2.06-.94-.94-2.06-.94 2.06-2.06.94zm-11 1L8.5 8.5l.94-2.06 2.06-.94-2.06-.94L8.5 2.5l-.94 2.06-2.06.94zm10 10l.94 2.06.94-2.06 2.06-.94-2.06-.94-.94-2.06-.94 2.06-2.06.94z\"/><path d=\"M17.41 7.96l-1.37-1.37c-.4-.4-.92-.59-1.43-.59-.52 0-1.04.2-1.43.59L10.3 9.45l-7.72 7.72c-.78.78-.78 2.05 0 2.83L4 21.41c.39.39.9.59 1.41.59.51 0 1.02-.2 1.41-.59l7.78-7.78 2.81-2.81c.8-.78.8-2.07 0-2.86zM5.41 20L4 18.59l7.72-7.72 1.47 1.35L5.41 20z\"/>\n",
              "  </svg>\n",
              "      </button>\n",
              "      \n",
              "  <style>\n",
              "    .colab-df-container {\n",
              "      display:flex;\n",
              "      flex-wrap:wrap;\n",
              "      gap: 12px;\n",
              "    }\n",
              "\n",
              "    .colab-df-convert {\n",
              "      background-color: #E8F0FE;\n",
              "      border: none;\n",
              "      border-radius: 50%;\n",
              "      cursor: pointer;\n",
              "      display: none;\n",
              "      fill: #1967D2;\n",
              "      height: 32px;\n",
              "      padding: 0 0 0 0;\n",
              "      width: 32px;\n",
              "    }\n",
              "\n",
              "    .colab-df-convert:hover {\n",
              "      background-color: #E2EBFA;\n",
              "      box-shadow: 0px 1px 2px rgba(60, 64, 67, 0.3), 0px 1px 3px 1px rgba(60, 64, 67, 0.15);\n",
              "      fill: #174EA6;\n",
              "    }\n",
              "\n",
              "    [theme=dark] .colab-df-convert {\n",
              "      background-color: #3B4455;\n",
              "      fill: #D2E3FC;\n",
              "    }\n",
              "\n",
              "    [theme=dark] .colab-df-convert:hover {\n",
              "      background-color: #434B5C;\n",
              "      box-shadow: 0px 1px 3px 1px rgba(0, 0, 0, 0.15);\n",
              "      filter: drop-shadow(0px 1px 2px rgba(0, 0, 0, 0.3));\n",
              "      fill: #FFFFFF;\n",
              "    }\n",
              "  </style>\n",
              "\n",
              "      <script>\n",
              "        const buttonEl =\n",
              "          document.querySelector('#df-29475a65-0953-4259-a2e9-a4a86b4794af button.colab-df-convert');\n",
              "        buttonEl.style.display =\n",
              "          google.colab.kernel.accessAllowed ? 'block' : 'none';\n",
              "\n",
              "        async function convertToInteractive(key) {\n",
              "          const element = document.querySelector('#df-29475a65-0953-4259-a2e9-a4a86b4794af');\n",
              "          const dataTable =\n",
              "            await google.colab.kernel.invokeFunction('convertToInteractive',\n",
              "                                                     [key], {});\n",
              "          if (!dataTable) return;\n",
              "\n",
              "          const docLinkHtml = 'Like what you see? Visit the ' +\n",
              "            '<a target=\"_blank\" href=https://colab.research.google.com/notebooks/data_table.ipynb>data table notebook</a>'\n",
              "            + ' to learn more about interactive tables.';\n",
              "          element.innerHTML = '';\n",
              "          dataTable['output_type'] = 'display_data';\n",
              "          await google.colab.output.renderOutput(dataTable, element);\n",
              "          const docLink = document.createElement('div');\n",
              "          docLink.innerHTML = docLinkHtml;\n",
              "          element.appendChild(docLink);\n",
              "        }\n",
              "      </script>\n",
              "    </div>\n",
              "  </div>\n",
              "  "
            ],
            "text/plain": [
              "      RM  LSTAT  PTRATIO      MEDV\n",
              "0  6.575   4.98     15.3  504000.0\n",
              "1  6.421   9.14     17.8  453600.0"
            ]
          },
          "metadata": {},
          "execution_count": 96
        }
      ]
    },
    {
      "cell_type": "code",
      "metadata": {
        "id": "L9IfgWrjAqSb",
        "colab": {
          "base_uri": "https://localhost:8080/"
        },
        "outputId": "750b5084-d0c4-491b-d4e0-2fdce507012d"
      },
      "source": [
        "independente = df.iloc[:, 0:3].values\n",
        "independente"
      ],
      "execution_count": null,
      "outputs": [
        {
          "output_type": "execute_result",
          "data": {
            "text/plain": [
              "array([[ 6.575,  4.98 , 15.3  ],\n",
              "       [ 6.421,  9.14 , 17.8  ],\n",
              "       [ 7.185,  4.03 , 17.8  ],\n",
              "       ...,\n",
              "       [ 6.976,  5.64 , 21.   ],\n",
              "       [ 6.794,  6.48 , 21.   ],\n",
              "       [ 6.03 ,  7.88 , 21.   ]])"
            ]
          },
          "metadata": {},
          "execution_count": 97
        }
      ]
    },
    {
      "cell_type": "code",
      "source": [
        "independente.shape"
      ],
      "metadata": {
        "id": "fzFtVk9JAqSc",
        "colab": {
          "base_uri": "https://localhost:8080/"
        },
        "outputId": "e71c5fb3-145f-4da4-c5d1-078a82932d0d"
      },
      "execution_count": null,
      "outputs": [
        {
          "output_type": "execute_result",
          "data": {
            "text/plain": [
              "(489, 3)"
            ]
          },
          "metadata": {},
          "execution_count": 98
        }
      ]
    },
    {
      "cell_type": "code",
      "metadata": {
        "id": "dPZbKG7yAqSd"
      },
      "source": [
        "dependente = df.iloc[:, 3].values\n",
        "dependente"
      ],
      "execution_count": null,
      "outputs": []
    },
    {
      "cell_type": "code",
      "source": [
        "dependente.shape"
      ],
      "metadata": {
        "id": "mKrN8FpVAqSe",
        "colab": {
          "base_uri": "https://localhost:8080/"
        },
        "outputId": "c1d81108-8bf2-4fce-ec46-a682cb5944af"
      },
      "execution_count": null,
      "outputs": [
        {
          "output_type": "execute_result",
          "data": {
            "text/plain": [
              "(489,)"
            ]
          },
          "metadata": {},
          "execution_count": 100
        }
      ]
    },
    {
      "cell_type": "code",
      "metadata": {
        "id": "FBV-LWNCAqSe"
      },
      "source": [
        "from sklearn.model_selection import train_test_split\n",
        "x_treino, x_teste, y_treino, y_teste = train_test_split(independente, dependente, test_size = 0.3, random_state = 0)"
      ],
      "execution_count": null,
      "outputs": []
    },
    {
      "cell_type": "code",
      "metadata": {
        "id": "smtq2nvRAqSf",
        "colab": {
          "base_uri": "https://localhost:8080/"
        },
        "outputId": "8df593ad-024c-447e-a361-16449a607c18"
      },
      "source": [
        "x_treino.shape, x_teste.shape"
      ],
      "execution_count": null,
      "outputs": [
        {
          "output_type": "execute_result",
          "data": {
            "text/plain": [
              "((342, 3), (147, 3))"
            ]
          },
          "metadata": {},
          "execution_count": 102
        }
      ]
    },
    {
      "cell_type": "code",
      "source": [
        "y_treino.shape, y_teste.shape"
      ],
      "metadata": {
        "id": "cmGJ3PJVAqSf",
        "colab": {
          "base_uri": "https://localhost:8080/"
        },
        "outputId": "865c0a5a-16b0-4015-e179-b1576fce81cb"
      },
      "execution_count": null,
      "outputs": [
        {
          "output_type": "execute_result",
          "data": {
            "text/plain": [
              "((342,), (147,))"
            ]
          },
          "metadata": {},
          "execution_count": 103
        }
      ]
    },
    {
      "cell_type": "code",
      "source": [
        "from sklearn.ensemble import RandomForestRegressor"
      ],
      "metadata": {
        "id": "jq-8R7XpB9f3"
      },
      "execution_count": null,
      "outputs": []
    },
    {
      "cell_type": "code",
      "metadata": {
        "id": "6dN6ggkVBHH4",
        "colab": {
          "base_uri": "https://localhost:8080/"
        },
        "outputId": "0a4e5001-4157-4aeb-c04a-89444d9700f5"
      },
      "source": [
        "random = RandomForestRegressor(n_estimators=60, criterion='squared_error', max_depth=5, random_state = 10)\n",
        "random.fit(x_treino, y_treino)"
      ],
      "execution_count": null,
      "outputs": [
        {
          "output_type": "execute_result",
          "data": {
            "text/plain": [
              "RandomForestRegressor(max_depth=5, n_estimators=60, random_state=10)"
            ]
          },
          "metadata": {},
          "execution_count": 124
        }
      ]
    },
    {
      "cell_type": "code",
      "metadata": {
        "id": "RtbJdyMVBHH6",
        "colab": {
          "base_uri": "https://localhost:8080/"
        },
        "outputId": "3697c31d-dd98-415a-9a97-72fe0349f5d9"
      },
      "source": [
        "random.score(x_treino, y_treino)"
      ],
      "execution_count": null,
      "outputs": [
        {
          "output_type": "execute_result",
          "data": {
            "text/plain": [
              "0.9160346630571496"
            ]
          },
          "metadata": {},
          "execution_count": 125
        }
      ]
    },
    {
      "cell_type": "markdown",
      "source": [
        "**TESTE**"
      ],
      "metadata": {
        "id": "l6-F9ZQxBHH7"
      }
    },
    {
      "cell_type": "code",
      "metadata": {
        "id": "gBApN-jaBHH7",
        "colab": {
          "base_uri": "https://localhost:8080/"
        },
        "outputId": "4922af12-a018-46df-821a-c1cc5f03b04b"
      },
      "source": [
        "random.score(x_teste, y_teste)"
      ],
      "execution_count": null,
      "outputs": [
        {
          "output_type": "execute_result",
          "data": {
            "text/plain": [
              "0.8465287311346861"
            ]
          },
          "metadata": {},
          "execution_count": 126
        }
      ]
    },
    {
      "cell_type": "code",
      "metadata": {
        "id": "Y51B43YTBHH8",
        "colab": {
          "base_uri": "https://localhost:8080/"
        },
        "outputId": "41c15dc9-b9dc-422c-b078-6be13afcac95"
      },
      "source": [
        "previsoes_teste = random.predict(x_teste)\n",
        "previsoes_teste"
      ],
      "execution_count": null,
      "outputs": [
        {
          "output_type": "execute_result",
          "data": {
            "text/plain": [
              "array([429790.1184383 , 626425.24570752, 319291.        , 369687.79212278,\n",
              "       504007.08094948, 275038.77411657, 325784.08333333, 419935.2164072 ,\n",
              "       461145.73252911, 407252.93004329, 250872.39578869, 342808.74084789,\n",
              "       454388.83705035, 207628.59742739, 523389.0588747 , 343148.06749092,\n",
              "       436277.53376586, 519168.2986373 , 400302.89135561, 591299.21535976,\n",
              "       617998.62691853, 737021.36549068, 207628.59742739, 433990.65598718,\n",
              "       378602.16484354, 911394.60227273, 690510.8130319 , 913862.10227273,\n",
              "       420589.43787112, 423405.52420844, 326646.08924392, 380183.19387172,\n",
              "       436732.30908567, 687715.29521126, 434483.34195931, 890163.5       ,\n",
              "       529306.19369936, 231323.99610428, 491146.52058414, 505014.08035269,\n",
              "       256106.89211222, 382749.3212387 , 424659.14608592, 488901.56840275,\n",
              "       401002.16125623, 406066.93224785, 503825.27539393, 325390.61402888,\n",
              "       856473.33333333, 421515.20723289, 693269.282585  , 434272.60667474,\n",
              "       558379.53436472, 316642.23814568, 704727.75862718, 559192.52730616,\n",
              "       406381.82428563, 255624.64565925, 499926.87134093, 434776.96144387,\n",
              "       350186.15081671, 252268.73513548, 397698.16566116, 395614.03953968,\n",
              "       422428.75850028, 403891.91271646, 215210.54948682, 536654.00753288,\n",
              "       513785.13928472, 231304.24860448, 226660.48953562, 506670.72458346,\n",
              "       395125.7769061 , 543662.57239953, 275306.51893325, 431116.8198088 ,\n",
              "       570520.49683611, 393268.04999836, 507023.08035269, 406706.26103402,\n",
              "       415351.88929453, 874444.89393939, 425271.9440792 , 495109.99472626,\n",
              "       439513.78598415, 636495.70382195, 518540.17318236, 501934.72576814,\n",
              "       435186.16291764, 383141.14474298, 437706.83676213, 337449.78967305,\n",
              "       342595.6557225 , 322769.55301827, 493263.68220267, 490961.56658345,\n",
              "       467182.03657619, 528960.62498931, 421062.66200905, 326988.53155981,\n",
              "       281513.13062458, 236128.37464226, 562609.43078304, 433978.58208801,\n",
              "       314112.48178357, 193514.86427076, 349790.34214059, 433491.88899808,\n",
              "       339670.59266029, 516730.73014701, 697931.48894037, 436275.0191512 ,\n",
              "       427014.54921195, 721186.58817263, 531410.16874628, 500166.75121957,\n",
              "       308105.74716421, 395349.88572404, 399564.00212267, 904881.22727273,\n",
              "       661378.51444098, 400723.4271665 , 277889.32967213, 347781.03519667,\n",
              "       505675.25459512, 327241.80296897, 382693.05841105, 401231.22468894,\n",
              "       515552.49641257, 502511.41704835, 395016.5269061 , 504886.30791679,\n",
              "       726845.82742031, 426300.02784886, 502202.59857516, 423282.75332   ,\n",
              "       330773.53422856, 444149.40854915, 398754.79378933, 340082.09234034,\n",
              "       427722.1077759 , 263330.18749778, 450733.48014822, 425419.73608318,\n",
              "       205745.15505495, 314653.07147901, 649863.69856727])"
            ]
          },
          "metadata": {},
          "execution_count": 127
        }
      ]
    },
    {
      "cell_type": "code",
      "metadata": {
        "id": "B48-pZ7eBHH9",
        "colab": {
          "base_uri": "https://localhost:8080/"
        },
        "outputId": "28cf9dd9-656f-4ae5-beec-11643f447635"
      },
      "source": [
        "y_teste"
      ],
      "execution_count": null,
      "outputs": [
        {
          "output_type": "execute_result",
          "data": {
            "text/plain": [
              "array([ 417900.,  632100.,  281400.,  577500.,  474600.,  359100.,\n",
              "        247800.,  474600.,  449400.,  411600.,  214200.,  214200.,\n",
              "        428400.,  375900.,  577500.,  327600.,  420000.,  489300.,\n",
              "        470400.,  640500.,  651000.,  690900.,  147000.,  441000.,\n",
              "        367500.,  966000.,  756000.,  888300.,  455700.,  445200.,\n",
              "        323400.,  455700.,  430500.,  867300.,  445200.,  875700.,\n",
              "        415800.,  268800.,  590100.,  497700.,  231000.,  315000.,\n",
              "        388500.,  449400.,  413700.,  352800.,  453600.,  306600.,\n",
              "        898800.,  514500.,  743400.,  474600.,  600600.,  304500.,\n",
              "        661500.,  489300.,  422100.,  184800.,  525000.,  249900.,\n",
              "        407400.,  361200.,  428400.,  392700.,  428400.,  472500.,\n",
              "        258300.,  550200.,  346500.,  199500.,  302400.,  611100.,\n",
              "        396900.,  585900.,  279300.,  483000.,  462000.,  218400.,\n",
              "        518700.,  420000.,  392700.,  980700.,  455700.,  514500.,\n",
              "        480900.,  520800.,  485100.,  525000.,  390600.,  569100.,\n",
              "        359100.,  346500.,  283500.,  344400.,  459900.,  464100.,\n",
              "        432600.,  617400.,  449400.,  289800.,  174300.,  275100.,\n",
              "        661500.,  411600.,  275100.,  132300.,  357000.,  483000.,\n",
              "        285600.,  493500.,  701400.,  405300.,  338100.,  743400.,\n",
              "        682500.,  466200.,  176400.,  373800.,  394800., 1014300.,\n",
              "        636300.,  228900.,  262500.,  350700.,  567000.,  417900.,\n",
              "        407400.,  415800.,  525000.,  506100.,  348600.,  474600.,\n",
              "        760200.,  485100.,  602700.,  432600.,  380100.,  438900.,\n",
              "        430500.,  319200.,  365400.,  285600.,  474600.,  382200.,\n",
              "        176400.,  312900.,  693000.])"
            ]
          },
          "metadata": {},
          "execution_count": 128
        }
      ]
    },
    {
      "cell_type": "markdown",
      "source": [
        "**MÉTRICAS**"
      ],
      "metadata": {
        "id": "l1m3gPLhBHH9"
      }
    },
    {
      "cell_type": "code",
      "metadata": {
        "id": "x-D_BJZ-BHH9"
      },
      "source": [
        "from sklearn.metrics import mean_absolute_error, mean_squared_error"
      ],
      "execution_count": null,
      "outputs": []
    },
    {
      "cell_type": "code",
      "metadata": {
        "id": "wvRaZ50aBHH-",
        "colab": {
          "base_uri": "https://localhost:8080/"
        },
        "outputId": "9c6e9d3c-7ede-41b8-8f64-f5b63af0d3bf"
      },
      "source": [
        "# Erro médio Absoluto\n",
        "mean_absolute_error(y_teste, previsoes_teste)"
      ],
      "execution_count": null,
      "outputs": [
        {
          "output_type": "execute_result",
          "data": {
            "text/plain": [
              "49730.29595322481"
            ]
          },
          "metadata": {},
          "execution_count": 130
        }
      ]
    },
    {
      "cell_type": "code",
      "metadata": {
        "id": "Fjju8AAbBHH_",
        "colab": {
          "base_uri": "https://localhost:8080/"
        },
        "outputId": "fcf1cf89-250d-480e-93d1-c33196d4d47e"
      },
      "source": [
        "# Erro quadrático médio\n",
        "mean_squared_error(y_teste, previsoes_teste)"
      ],
      "execution_count": null,
      "outputs": [
        {
          "output_type": "execute_result",
          "data": {
            "text/plain": [
              "4452803054.515374"
            ]
          },
          "metadata": {},
          "execution_count": 131
        }
      ]
    },
    {
      "cell_type": "code",
      "metadata": {
        "id": "L_4yAmxxBHH_",
        "colab": {
          "base_uri": "https://localhost:8080/"
        },
        "outputId": "e7662369-13aa-42c0-d318-4055c35fd4de"
      },
      "source": [
        "# Raiz do erro quadrático médio (RMSE)\n",
        "np.sqrt(mean_squared_error(y_teste, previsoes_teste))"
      ],
      "execution_count": null,
      "outputs": [
        {
          "output_type": "execute_result",
          "data": {
            "text/plain": [
              "66729.326795011"
            ]
          },
          "metadata": {},
          "execution_count": 132
        }
      ]
    },
    {
      "cell_type": "markdown",
      "source": [
        "### **Validação Cruzada**"
      ],
      "metadata": {
        "id": "mLyVoeblBHIA"
      }
    },
    {
      "cell_type": "code",
      "source": [
        "from sklearn.model_selection import KFold\n",
        "from sklearn.model_selection import cross_val_score"
      ],
      "metadata": {
        "id": "TQiW7o6mBHIA"
      },
      "execution_count": null,
      "outputs": []
    },
    {
      "cell_type": "code",
      "source": [
        "# Separando os dados em folds\n",
        "kfold = KFold(n_splits = 15, shuffle=True, random_state = 5)"
      ],
      "metadata": {
        "id": "u6c0cLchBHIB"
      },
      "execution_count": null,
      "outputs": []
    },
    {
      "cell_type": "code",
      "source": [
        "# Criando o modelo\n",
        "from sklearn.ensemble import RandomForestRegressor\n",
        "modelo = RandomForestRegressor(n_estimators=60, criterion='squared_error', max_depth=5, random_state = 10)\n",
        "resultado = cross_val_score(modelo, independente, dependente, cv = kfold)\n",
        "resultado"
      ],
      "metadata": {
        "id": "bfcTtlMtBHIB",
        "colab": {
          "base_uri": "https://localhost:8080/"
        },
        "outputId": "38a5bc16-7010-4596-c963-360415d46cf9"
      },
      "execution_count": null,
      "outputs": [
        {
          "output_type": "execute_result",
          "data": {
            "text/plain": [
              "array([0.9390087 , 0.9048205 , 0.78576987, 0.78178487, 0.80471035,\n",
              "       0.73189206, 0.88019637, 0.85442545, 0.7796746 , 0.82002933,\n",
              "       0.93538902, 0.72717569, 0.80683864, 0.8863317 , 0.78974059])"
            ]
          },
          "metadata": {},
          "execution_count": 135
        }
      ]
    },
    {
      "cell_type": "code",
      "source": [
        "# Usamos a média e o desvio padrão\n",
        "print(\"Coeficiente de Determinação Médio: %.2f%%\" % (resultado.mean() * 100.0))"
      ],
      "metadata": {
        "id": "k8dR6MeCBHIC",
        "colab": {
          "base_uri": "https://localhost:8080/"
        },
        "outputId": "a460b720-5ef2-42e3-e998-4e755a922fed"
      },
      "execution_count": null,
      "outputs": [
        {
          "output_type": "stream",
          "name": "stdout",
          "text": [
            "Coeficiente de Determinação Médio: 82.85%\n"
          ]
        }
      ]
    },
    {
      "cell_type": "markdown",
      "source": [
        "**RESULTADOS:**\n",
        "\n",
        "**REGRESSÃO LINEAR SIMPLES:** R^2 = 0,57/0,60; RMSE = 99315,5; R^2 Validação Cruzada: 55,97%\n",
        "\n",
        "**REGRESSÃO LINEAR MÚLTIPLA:** R^2 = 0,73/0,68; RMSE = 96087,3; R^2 Validação Cruzada: 69,25%\n",
        "\n",
        "**REGRESSÃO POLINOMIAL:** R^2 = 0,59/0,54; RMSE = 114670,6.\n",
        "\n",
        "**REGRESSÃO SVR:** R^2 = 0,87/0,81; RMSE = 73422,7. R^2 Validação Cruzada: 82,37%.\n",
        "\n",
        "**REGRESSÃO ÁRVORE DE DECISÃO:** R^2 = 0,91/0,83; RMSE = 71114,5. R^2 Validação Cruzada: 74,60%.\n",
        "\n",
        "**REGRESSÃO COM RANDOM FOREST:** R^2 = 0,92/0,85; RMSE = 66729,3. R^2 Validação Cruzada: 82,85%."
      ],
      "metadata": {
        "id": "-5fEdSH-BHIC"
      }
    },
    {
      "cell_type": "markdown",
      "source": [
        "## **REGRESSÃO COM XGBOOST**"
      ],
      "metadata": {
        "id": "texm7_wzD3ZN"
      }
    },
    {
      "cell_type": "markdown",
      "source": [
        "https://xgboost.readthedocs.io/en/latest/python/python_api.html#xgboost.XGBRegressor "
      ],
      "metadata": {
        "id": "9bFhbBKgEnmc"
      }
    },
    {
      "cell_type": "code",
      "source": [
        "df.head(2)"
      ],
      "metadata": {
        "id": "S1kDY4K6LZ3o",
        "colab": {
          "base_uri": "https://localhost:8080/",
          "height": 112
        },
        "outputId": "d3610d6d-1aec-4103-e6db-a1058eb1f83c"
      },
      "execution_count": null,
      "outputs": [
        {
          "output_type": "execute_result",
          "data": {
            "text/html": [
              "\n",
              "  <div id=\"df-8277ccd0-4127-4479-8d20-d90d4a2cc561\">\n",
              "    <div class=\"colab-df-container\">\n",
              "      <div>\n",
              "<style scoped>\n",
              "    .dataframe tbody tr th:only-of-type {\n",
              "        vertical-align: middle;\n",
              "    }\n",
              "\n",
              "    .dataframe tbody tr th {\n",
              "        vertical-align: top;\n",
              "    }\n",
              "\n",
              "    .dataframe thead th {\n",
              "        text-align: right;\n",
              "    }\n",
              "</style>\n",
              "<table border=\"1\" class=\"dataframe\">\n",
              "  <thead>\n",
              "    <tr style=\"text-align: right;\">\n",
              "      <th></th>\n",
              "      <th>RM</th>\n",
              "      <th>LSTAT</th>\n",
              "      <th>PTRATIO</th>\n",
              "      <th>MEDV</th>\n",
              "    </tr>\n",
              "  </thead>\n",
              "  <tbody>\n",
              "    <tr>\n",
              "      <th>0</th>\n",
              "      <td>6.575</td>\n",
              "      <td>4.98</td>\n",
              "      <td>15.3</td>\n",
              "      <td>504000.0</td>\n",
              "    </tr>\n",
              "    <tr>\n",
              "      <th>1</th>\n",
              "      <td>6.421</td>\n",
              "      <td>9.14</td>\n",
              "      <td>17.8</td>\n",
              "      <td>453600.0</td>\n",
              "    </tr>\n",
              "  </tbody>\n",
              "</table>\n",
              "</div>\n",
              "      <button class=\"colab-df-convert\" onclick=\"convertToInteractive('df-8277ccd0-4127-4479-8d20-d90d4a2cc561')\"\n",
              "              title=\"Convert this dataframe to an interactive table.\"\n",
              "              style=\"display:none;\">\n",
              "        \n",
              "  <svg xmlns=\"http://www.w3.org/2000/svg\" height=\"24px\"viewBox=\"0 0 24 24\"\n",
              "       width=\"24px\">\n",
              "    <path d=\"M0 0h24v24H0V0z\" fill=\"none\"/>\n",
              "    <path d=\"M18.56 5.44l.94 2.06.94-2.06 2.06-.94-2.06-.94-.94-2.06-.94 2.06-2.06.94zm-11 1L8.5 8.5l.94-2.06 2.06-.94-2.06-.94L8.5 2.5l-.94 2.06-2.06.94zm10 10l.94 2.06.94-2.06 2.06-.94-2.06-.94-.94-2.06-.94 2.06-2.06.94z\"/><path d=\"M17.41 7.96l-1.37-1.37c-.4-.4-.92-.59-1.43-.59-.52 0-1.04.2-1.43.59L10.3 9.45l-7.72 7.72c-.78.78-.78 2.05 0 2.83L4 21.41c.39.39.9.59 1.41.59.51 0 1.02-.2 1.41-.59l7.78-7.78 2.81-2.81c.8-.78.8-2.07 0-2.86zM5.41 20L4 18.59l7.72-7.72 1.47 1.35L5.41 20z\"/>\n",
              "  </svg>\n",
              "      </button>\n",
              "      \n",
              "  <style>\n",
              "    .colab-df-container {\n",
              "      display:flex;\n",
              "      flex-wrap:wrap;\n",
              "      gap: 12px;\n",
              "    }\n",
              "\n",
              "    .colab-df-convert {\n",
              "      background-color: #E8F0FE;\n",
              "      border: none;\n",
              "      border-radius: 50%;\n",
              "      cursor: pointer;\n",
              "      display: none;\n",
              "      fill: #1967D2;\n",
              "      height: 32px;\n",
              "      padding: 0 0 0 0;\n",
              "      width: 32px;\n",
              "    }\n",
              "\n",
              "    .colab-df-convert:hover {\n",
              "      background-color: #E2EBFA;\n",
              "      box-shadow: 0px 1px 2px rgba(60, 64, 67, 0.3), 0px 1px 3px 1px rgba(60, 64, 67, 0.15);\n",
              "      fill: #174EA6;\n",
              "    }\n",
              "\n",
              "    [theme=dark] .colab-df-convert {\n",
              "      background-color: #3B4455;\n",
              "      fill: #D2E3FC;\n",
              "    }\n",
              "\n",
              "    [theme=dark] .colab-df-convert:hover {\n",
              "      background-color: #434B5C;\n",
              "      box-shadow: 0px 1px 3px 1px rgba(0, 0, 0, 0.15);\n",
              "      filter: drop-shadow(0px 1px 2px rgba(0, 0, 0, 0.3));\n",
              "      fill: #FFFFFF;\n",
              "    }\n",
              "  </style>\n",
              "\n",
              "      <script>\n",
              "        const buttonEl =\n",
              "          document.querySelector('#df-8277ccd0-4127-4479-8d20-d90d4a2cc561 button.colab-df-convert');\n",
              "        buttonEl.style.display =\n",
              "          google.colab.kernel.accessAllowed ? 'block' : 'none';\n",
              "\n",
              "        async function convertToInteractive(key) {\n",
              "          const element = document.querySelector('#df-8277ccd0-4127-4479-8d20-d90d4a2cc561');\n",
              "          const dataTable =\n",
              "            await google.colab.kernel.invokeFunction('convertToInteractive',\n",
              "                                                     [key], {});\n",
              "          if (!dataTable) return;\n",
              "\n",
              "          const docLinkHtml = 'Like what you see? Visit the ' +\n",
              "            '<a target=\"_blank\" href=https://colab.research.google.com/notebooks/data_table.ipynb>data table notebook</a>'\n",
              "            + ' to learn more about interactive tables.';\n",
              "          element.innerHTML = '';\n",
              "          dataTable['output_type'] = 'display_data';\n",
              "          await google.colab.output.renderOutput(dataTable, element);\n",
              "          const docLink = document.createElement('div');\n",
              "          docLink.innerHTML = docLinkHtml;\n",
              "          element.appendChild(docLink);\n",
              "        }\n",
              "      </script>\n",
              "    </div>\n",
              "  </div>\n",
              "  "
            ],
            "text/plain": [
              "      RM  LSTAT  PTRATIO      MEDV\n",
              "0  6.575   4.98     15.3  504000.0\n",
              "1  6.421   9.14     17.8  453600.0"
            ]
          },
          "metadata": {},
          "execution_count": 137
        }
      ]
    },
    {
      "cell_type": "code",
      "metadata": {
        "id": "gJxxUoJfLZ3q",
        "colab": {
          "base_uri": "https://localhost:8080/"
        },
        "outputId": "7721f825-78ae-4255-92da-cd4ef457d080"
      },
      "source": [
        "independente = df.iloc[:, 0:3].values\n",
        "independente"
      ],
      "execution_count": null,
      "outputs": [
        {
          "output_type": "execute_result",
          "data": {
            "text/plain": [
              "array([[ 6.575,  4.98 , 15.3  ],\n",
              "       [ 6.421,  9.14 , 17.8  ],\n",
              "       [ 7.185,  4.03 , 17.8  ],\n",
              "       ...,\n",
              "       [ 6.976,  5.64 , 21.   ],\n",
              "       [ 6.794,  6.48 , 21.   ],\n",
              "       [ 6.03 ,  7.88 , 21.   ]])"
            ]
          },
          "metadata": {},
          "execution_count": 138
        }
      ]
    },
    {
      "cell_type": "code",
      "source": [
        "independente.shape"
      ],
      "metadata": {
        "id": "X748p6-1LZ3r",
        "colab": {
          "base_uri": "https://localhost:8080/"
        },
        "outputId": "7e474144-b08e-4f76-de7c-f8e371ab48bc"
      },
      "execution_count": null,
      "outputs": [
        {
          "output_type": "execute_result",
          "data": {
            "text/plain": [
              "(489, 3)"
            ]
          },
          "metadata": {},
          "execution_count": 139
        }
      ]
    },
    {
      "cell_type": "code",
      "metadata": {
        "id": "T6PtTe5SLZ3r"
      },
      "source": [
        "dependente = df.iloc[:, 3].values"
      ],
      "execution_count": null,
      "outputs": []
    },
    {
      "cell_type": "code",
      "source": [
        "dependente.shape"
      ],
      "metadata": {
        "id": "IVvAP3tJLZ3s",
        "colab": {
          "base_uri": "https://localhost:8080/"
        },
        "outputId": "efbb01cd-e5ed-4bb7-debc-39f5dd71e3b4"
      },
      "execution_count": null,
      "outputs": [
        {
          "output_type": "execute_result",
          "data": {
            "text/plain": [
              "(489,)"
            ]
          },
          "metadata": {},
          "execution_count": 141
        }
      ]
    },
    {
      "cell_type": "code",
      "metadata": {
        "id": "-R3GlRD8LZ3s"
      },
      "source": [
        "from sklearn.model_selection import train_test_split\n",
        "x_treino, x_teste, y_treino, y_teste = train_test_split(independente, dependente, test_size = 0.3, random_state = 0)"
      ],
      "execution_count": null,
      "outputs": []
    },
    {
      "cell_type": "code",
      "metadata": {
        "id": "2ZOzrZh1LZ3t",
        "colab": {
          "base_uri": "https://localhost:8080/"
        },
        "outputId": "fe8062ed-59c3-4c68-a38a-a596e6bfa38a"
      },
      "source": [
        "x_treino.shape, x_teste.shape"
      ],
      "execution_count": null,
      "outputs": [
        {
          "output_type": "execute_result",
          "data": {
            "text/plain": [
              "((342, 3), (147, 3))"
            ]
          },
          "metadata": {},
          "execution_count": 143
        }
      ]
    },
    {
      "cell_type": "code",
      "source": [
        "from xgboost import XGBRegressor"
      ],
      "metadata": {
        "id": "gXsNjojnEoyA"
      },
      "execution_count": null,
      "outputs": []
    },
    {
      "cell_type": "code",
      "metadata": {
        "id": "ggIQN7N9LZ3v",
        "colab": {
          "base_uri": "https://localhost:8080/"
        },
        "outputId": "fd727ff3-19cf-4c86-e9c0-2747f76cb95c"
      },
      "source": [
        "xgboost = XGBRegressor(n_estimators=180, max_depth=3, learning_rate=0.05, objective=\"reg:squarederror\", random_state=10)\n",
        "xgboost.fit(x_treino, y_treino)"
      ],
      "execution_count": null,
      "outputs": [
        {
          "output_type": "execute_result",
          "data": {
            "text/plain": [
              "XGBRegressor(learning_rate=0.05, n_estimators=180, objective='reg:squarederror',\n",
              "             random_state=10)"
            ]
          },
          "metadata": {},
          "execution_count": 351
        }
      ]
    },
    {
      "cell_type": "code",
      "metadata": {
        "id": "qGniar4pLZ3v",
        "colab": {
          "base_uri": "https://localhost:8080/"
        },
        "outputId": "e667d301-0212-433a-a100-8bcf50def0b4"
      },
      "source": [
        "xgboost.score(x_treino, y_treino)"
      ],
      "execution_count": null,
      "outputs": [
        {
          "output_type": "execute_result",
          "data": {
            "text/plain": [
              "0.9269256727642161"
            ]
          },
          "metadata": {},
          "execution_count": 352
        }
      ]
    },
    {
      "cell_type": "markdown",
      "source": [
        "**TESTE**"
      ],
      "metadata": {
        "id": "Ag0SWRYdLZ3w"
      }
    },
    {
      "cell_type": "code",
      "metadata": {
        "id": "gPggEGb0LZ3w",
        "colab": {
          "base_uri": "https://localhost:8080/"
        },
        "outputId": "41226565-7edd-4f2e-8ae6-87556aab9a81"
      },
      "source": [
        "xgboost.score(x_teste, y_teste)"
      ],
      "execution_count": null,
      "outputs": [
        {
          "output_type": "execute_result",
          "data": {
            "text/plain": [
              "0.8416164650842644"
            ]
          },
          "metadata": {},
          "execution_count": 353
        }
      ]
    },
    {
      "cell_type": "code",
      "metadata": {
        "id": "LZ7WLVF4LZ3x"
      },
      "source": [
        "previsoes_teste = xgboost.predict(x_teste)"
      ],
      "execution_count": null,
      "outputs": []
    },
    {
      "cell_type": "code",
      "source": [
        "# Fazendo previsões para valores distintos\n",
        "valor_casa = xgboost.predict([[6,20,12]])\n",
        "valor_casa"
      ],
      "metadata": {
        "colab": {
          "base_uri": "https://localhost:8080/"
        },
        "id": "qXY1DEm2TPrs",
        "outputId": "5ab4c525-6521-428a-bf06-3525a04f0e43"
      },
      "execution_count": null,
      "outputs": [
        {
          "output_type": "execute_result",
          "data": {
            "text/plain": [
              "array([368061.16], dtype=float32)"
            ]
          },
          "metadata": {},
          "execution_count": 355
        }
      ]
    },
    {
      "cell_type": "markdown",
      "source": [
        "**MÉTRICAS**"
      ],
      "metadata": {
        "id": "eupiQ6n9LZ3y"
      }
    },
    {
      "cell_type": "code",
      "metadata": {
        "id": "mNFhiP0nLZ3z"
      },
      "source": [
        "from sklearn.metrics import mean_absolute_error, mean_squared_error"
      ],
      "execution_count": null,
      "outputs": []
    },
    {
      "cell_type": "code",
      "metadata": {
        "id": "ptcF4Z3QLZ3z",
        "colab": {
          "base_uri": "https://localhost:8080/"
        },
        "outputId": "80197b3e-ba36-410a-fd6a-046258677637"
      },
      "source": [
        "# Erro médio Absoluto\n",
        "mean_absolute_error(y_teste, previsoes_teste)"
      ],
      "execution_count": null,
      "outputs": [
        {
          "output_type": "execute_result",
          "data": {
            "text/plain": [
              "51063.76605017007"
            ]
          },
          "metadata": {},
          "execution_count": 356
        }
      ]
    },
    {
      "cell_type": "code",
      "metadata": {
        "id": "UW9rH3WyLZ30",
        "colab": {
          "base_uri": "https://localhost:8080/"
        },
        "outputId": "8bbbcf2b-abc9-4dbe-b74e-212d7f46edcc"
      },
      "source": [
        "# Raiz do erro quadrático médio (RMSE)\n",
        "np.sqrt(mean_squared_error(y_teste, previsoes_teste))"
      ],
      "execution_count": null,
      "outputs": [
        {
          "output_type": "execute_result",
          "data": {
            "text/plain": [
              "67788.84234677578"
            ]
          },
          "metadata": {},
          "execution_count": 357
        }
      ]
    },
    {
      "cell_type": "markdown",
      "source": [
        "### **Validação Cruzada**"
      ],
      "metadata": {
        "id": "mopLhYaKLZ31"
      }
    },
    {
      "cell_type": "code",
      "source": [
        "from sklearn.model_selection import KFold\n",
        "from sklearn.model_selection import cross_val_score"
      ],
      "metadata": {
        "id": "EW9FdkEELZ31"
      },
      "execution_count": null,
      "outputs": []
    },
    {
      "cell_type": "code",
      "source": [
        "# Separando os dados em folds\n",
        "kfold = KFold(n_splits = 15, shuffle=True, random_state = 5)"
      ],
      "metadata": {
        "id": "-duD4L-4LZ32"
      },
      "execution_count": null,
      "outputs": []
    },
    {
      "cell_type": "code",
      "source": [
        "# Criando o modelo\n",
        "from xgboost import XGBRegressor\n",
        "modelo = XGBRegressor(n_estimators=180, max_depth=3, learning_rate=0.05, objective = \"reg:squarederror\")\n",
        "resultado = cross_val_score(modelo, independente, dependente, cv = kfold)\n",
        "resultado"
      ],
      "metadata": {
        "id": "KTJuA6GpLZ32",
        "colab": {
          "base_uri": "https://localhost:8080/"
        },
        "outputId": "fe621e8a-a05e-4705-c034-479e35240ee1"
      },
      "execution_count": null,
      "outputs": [
        {
          "output_type": "execute_result",
          "data": {
            "text/plain": [
              "array([0.95352272, 0.90664315, 0.77445699, 0.79897621, 0.83737888,\n",
              "       0.71638268, 0.90830893, 0.83769017, 0.83258437, 0.84008661,\n",
              "       0.9032208 , 0.71795708, 0.76351618, 0.89191949, 0.79971926])"
            ]
          },
          "metadata": {},
          "execution_count": 360
        }
      ]
    },
    {
      "cell_type": "code",
      "source": [
        "# Usamos a média e o desvio padrão\n",
        "print(\"Coeficiente de determinação Médio: %.2f%%\" % (resultado.mean() * 100.0))"
      ],
      "metadata": {
        "id": "6OLrwVIQLZ33",
        "colab": {
          "base_uri": "https://localhost:8080/"
        },
        "outputId": "b71259c3-fe1d-4f2e-c682-74d5978a8627"
      },
      "execution_count": null,
      "outputs": [
        {
          "output_type": "stream",
          "name": "stdout",
          "text": [
            "Coeficiente de determinação Médio: 83.22%\n"
          ]
        }
      ]
    },
    {
      "cell_type": "markdown",
      "source": [
        "**RESULTADOS:**\n",
        "\n",
        "**REGRESSÃO LINEAR SIMPLES:** R^2 = 0,57/0,60; RMSE = 99315,5; R^2 Validação Cruzada: 55,97%\n",
        "\n",
        "**REGRESSÃO LINEAR MÚLTIPLA:** R^2 = 0,73/0,68; RMSE = 96087,3; R^2 Validação Cruzada: 69,25%\n",
        "\n",
        "**REGRESSÃO POLINOMIAL:** R^2 = 0,59/0,54; RMSE = 114670,6.\n",
        "\n",
        "**REGRESSÃO SVR:** R^2 = 0,87/0,81; RMSE = 73422,7. R^2 Validação Cruzada: 82,37%.\n",
        "\n",
        "**REGRESSÃO ÁRVORE DE DECISÃO:** R^2 = 0,91/0,83; RMSE = 71114,5. R^2 Validação Cruzada: 74,60%.\n",
        "\n",
        "**REGRESSÃO COM RANDOM FOREST:** R^2 = 0,92/0,85; RMSE = 66729,3. R^2 Validação Cruzada: 82,85%.\n",
        "\n",
        "**REGRESSÃO COM XGBOOST:** R^2 = 0,93/0,84; RMSE = 67788,8. R^2 Validação Cruzada: 83,22%."
      ],
      "metadata": {
        "id": "y4gwkctLLZ33"
      }
    },
    {
      "cell_type": "markdown",
      "source": [
        "## **REGRESSÃO COM LIGHT GBM**"
      ],
      "metadata": {
        "id": "5Ml9LC8_P_Us"
      }
    },
    {
      "cell_type": "markdown",
      "source": [
        "https://lightgbm.readthedocs.io/en/latest/pythonapi/lightgbm.LGBMRegressor.html "
      ],
      "metadata": {
        "id": "sLqV3RvmQHiI"
      }
    },
    {
      "cell_type": "code",
      "source": [
        "# Instalação do Algoritmo\n",
        "!pip install lightgbm"
      ],
      "metadata": {
        "id": "hqvRU7h6Q9oc",
        "colab": {
          "base_uri": "https://localhost:8080/"
        },
        "outputId": "b5f85a50-182d-4154-cb3e-5e233280e5be"
      },
      "execution_count": null,
      "outputs": [
        {
          "output_type": "stream",
          "name": "stdout",
          "text": [
            "Requirement already satisfied: lightgbm in /usr/local/lib/python3.7/dist-packages (2.2.3)\n",
            "Requirement already satisfied: numpy in /usr/local/lib/python3.7/dist-packages (from lightgbm) (1.19.5)\n",
            "Requirement already satisfied: scipy in /usr/local/lib/python3.7/dist-packages (from lightgbm) (1.4.1)\n",
            "Requirement already satisfied: scikit-learn in /usr/local/lib/python3.7/dist-packages (from lightgbm) (1.0.2)\n",
            "Requirement already satisfied: threadpoolctl>=2.0.0 in /usr/local/lib/python3.7/dist-packages (from scikit-learn->lightgbm) (3.1.0)\n",
            "Requirement already satisfied: joblib>=0.11 in /usr/local/lib/python3.7/dist-packages (from scikit-learn->lightgbm) (1.1.0)\n"
          ]
        }
      ]
    },
    {
      "cell_type": "code",
      "source": [
        "df.head(2)"
      ],
      "metadata": {
        "id": "TmOsSq05QgB0",
        "colab": {
          "base_uri": "https://localhost:8080/",
          "height": 112
        },
        "outputId": "734b68c2-a884-4ebb-f3f7-67fa5ca0dd96"
      },
      "execution_count": null,
      "outputs": [
        {
          "output_type": "execute_result",
          "data": {
            "text/html": [
              "\n",
              "  <div id=\"df-003b0df6-2d90-48ea-b07f-09647e7cbb94\">\n",
              "    <div class=\"colab-df-container\">\n",
              "      <div>\n",
              "<style scoped>\n",
              "    .dataframe tbody tr th:only-of-type {\n",
              "        vertical-align: middle;\n",
              "    }\n",
              "\n",
              "    .dataframe tbody tr th {\n",
              "        vertical-align: top;\n",
              "    }\n",
              "\n",
              "    .dataframe thead th {\n",
              "        text-align: right;\n",
              "    }\n",
              "</style>\n",
              "<table border=\"1\" class=\"dataframe\">\n",
              "  <thead>\n",
              "    <tr style=\"text-align: right;\">\n",
              "      <th></th>\n",
              "      <th>RM</th>\n",
              "      <th>LSTAT</th>\n",
              "      <th>PTRATIO</th>\n",
              "      <th>MEDV</th>\n",
              "    </tr>\n",
              "  </thead>\n",
              "  <tbody>\n",
              "    <tr>\n",
              "      <th>0</th>\n",
              "      <td>6.575</td>\n",
              "      <td>4.98</td>\n",
              "      <td>15.3</td>\n",
              "      <td>504000.0</td>\n",
              "    </tr>\n",
              "    <tr>\n",
              "      <th>1</th>\n",
              "      <td>6.421</td>\n",
              "      <td>9.14</td>\n",
              "      <td>17.8</td>\n",
              "      <td>453600.0</td>\n",
              "    </tr>\n",
              "  </tbody>\n",
              "</table>\n",
              "</div>\n",
              "      <button class=\"colab-df-convert\" onclick=\"convertToInteractive('df-003b0df6-2d90-48ea-b07f-09647e7cbb94')\"\n",
              "              title=\"Convert this dataframe to an interactive table.\"\n",
              "              style=\"display:none;\">\n",
              "        \n",
              "  <svg xmlns=\"http://www.w3.org/2000/svg\" height=\"24px\"viewBox=\"0 0 24 24\"\n",
              "       width=\"24px\">\n",
              "    <path d=\"M0 0h24v24H0V0z\" fill=\"none\"/>\n",
              "    <path d=\"M18.56 5.44l.94 2.06.94-2.06 2.06-.94-2.06-.94-.94-2.06-.94 2.06-2.06.94zm-11 1L8.5 8.5l.94-2.06 2.06-.94-2.06-.94L8.5 2.5l-.94 2.06-2.06.94zm10 10l.94 2.06.94-2.06 2.06-.94-2.06-.94-.94-2.06-.94 2.06-2.06.94z\"/><path d=\"M17.41 7.96l-1.37-1.37c-.4-.4-.92-.59-1.43-.59-.52 0-1.04.2-1.43.59L10.3 9.45l-7.72 7.72c-.78.78-.78 2.05 0 2.83L4 21.41c.39.39.9.59 1.41.59.51 0 1.02-.2 1.41-.59l7.78-7.78 2.81-2.81c.8-.78.8-2.07 0-2.86zM5.41 20L4 18.59l7.72-7.72 1.47 1.35L5.41 20z\"/>\n",
              "  </svg>\n",
              "      </button>\n",
              "      \n",
              "  <style>\n",
              "    .colab-df-container {\n",
              "      display:flex;\n",
              "      flex-wrap:wrap;\n",
              "      gap: 12px;\n",
              "    }\n",
              "\n",
              "    .colab-df-convert {\n",
              "      background-color: #E8F0FE;\n",
              "      border: none;\n",
              "      border-radius: 50%;\n",
              "      cursor: pointer;\n",
              "      display: none;\n",
              "      fill: #1967D2;\n",
              "      height: 32px;\n",
              "      padding: 0 0 0 0;\n",
              "      width: 32px;\n",
              "    }\n",
              "\n",
              "    .colab-df-convert:hover {\n",
              "      background-color: #E2EBFA;\n",
              "      box-shadow: 0px 1px 2px rgba(60, 64, 67, 0.3), 0px 1px 3px 1px rgba(60, 64, 67, 0.15);\n",
              "      fill: #174EA6;\n",
              "    }\n",
              "\n",
              "    [theme=dark] .colab-df-convert {\n",
              "      background-color: #3B4455;\n",
              "      fill: #D2E3FC;\n",
              "    }\n",
              "\n",
              "    [theme=dark] .colab-df-convert:hover {\n",
              "      background-color: #434B5C;\n",
              "      box-shadow: 0px 1px 3px 1px rgba(0, 0, 0, 0.15);\n",
              "      filter: drop-shadow(0px 1px 2px rgba(0, 0, 0, 0.3));\n",
              "      fill: #FFFFFF;\n",
              "    }\n",
              "  </style>\n",
              "\n",
              "      <script>\n",
              "        const buttonEl =\n",
              "          document.querySelector('#df-003b0df6-2d90-48ea-b07f-09647e7cbb94 button.colab-df-convert');\n",
              "        buttonEl.style.display =\n",
              "          google.colab.kernel.accessAllowed ? 'block' : 'none';\n",
              "\n",
              "        async function convertToInteractive(key) {\n",
              "          const element = document.querySelector('#df-003b0df6-2d90-48ea-b07f-09647e7cbb94');\n",
              "          const dataTable =\n",
              "            await google.colab.kernel.invokeFunction('convertToInteractive',\n",
              "                                                     [key], {});\n",
              "          if (!dataTable) return;\n",
              "\n",
              "          const docLinkHtml = 'Like what you see? Visit the ' +\n",
              "            '<a target=\"_blank\" href=https://colab.research.google.com/notebooks/data_table.ipynb>data table notebook</a>'\n",
              "            + ' to learn more about interactive tables.';\n",
              "          element.innerHTML = '';\n",
              "          dataTable['output_type'] = 'display_data';\n",
              "          await google.colab.output.renderOutput(dataTable, element);\n",
              "          const docLink = document.createElement('div');\n",
              "          docLink.innerHTML = docLinkHtml;\n",
              "          element.appendChild(docLink);\n",
              "        }\n",
              "      </script>\n",
              "    </div>\n",
              "  </div>\n",
              "  "
            ],
            "text/plain": [
              "      RM  LSTAT  PTRATIO      MEDV\n",
              "0  6.575   4.98     15.3  504000.0\n",
              "1  6.421   9.14     17.8  453600.0"
            ]
          },
          "metadata": {},
          "execution_count": 206
        }
      ]
    },
    {
      "cell_type": "code",
      "metadata": {
        "id": "zyubjorGQgB2",
        "colab": {
          "base_uri": "https://localhost:8080/"
        },
        "outputId": "daa4130d-00c7-42c8-8519-b4cb09bea4db"
      },
      "source": [
        "independente = df.iloc[:, 0:3].values\n",
        "independente"
      ],
      "execution_count": null,
      "outputs": [
        {
          "output_type": "execute_result",
          "data": {
            "text/plain": [
              "array([[ 6.575,  4.98 , 15.3  ],\n",
              "       [ 6.421,  9.14 , 17.8  ],\n",
              "       [ 7.185,  4.03 , 17.8  ],\n",
              "       ...,\n",
              "       [ 6.976,  5.64 , 21.   ],\n",
              "       [ 6.794,  6.48 , 21.   ],\n",
              "       [ 6.03 ,  7.88 , 21.   ]])"
            ]
          },
          "metadata": {},
          "execution_count": 207
        }
      ]
    },
    {
      "cell_type": "code",
      "source": [
        "independente.shape"
      ],
      "metadata": {
        "id": "r08QXJHHQgB2",
        "colab": {
          "base_uri": "https://localhost:8080/"
        },
        "outputId": "f8898270-9245-4611-8126-5ef1198fed52"
      },
      "execution_count": null,
      "outputs": [
        {
          "output_type": "execute_result",
          "data": {
            "text/plain": [
              "(489, 3)"
            ]
          },
          "metadata": {},
          "execution_count": 209
        }
      ]
    },
    {
      "cell_type": "code",
      "metadata": {
        "id": "mWxdToSwQgB3"
      },
      "source": [
        "dependente = df.iloc[:, 3].values"
      ],
      "execution_count": null,
      "outputs": []
    },
    {
      "cell_type": "code",
      "source": [
        "dependente.shape"
      ],
      "metadata": {
        "id": "G6Rvs0KHQgB4",
        "colab": {
          "base_uri": "https://localhost:8080/"
        },
        "outputId": "e825ce14-d5a9-4704-fe4b-7b868b3f7cdc"
      },
      "execution_count": null,
      "outputs": [
        {
          "output_type": "execute_result",
          "data": {
            "text/plain": [
              "(489,)"
            ]
          },
          "metadata": {},
          "execution_count": 210
        }
      ]
    },
    {
      "cell_type": "code",
      "metadata": {
        "id": "uaWSEem8QgB4"
      },
      "source": [
        "from sklearn.model_selection import train_test_split\n",
        "x_treino, x_teste, y_treino, y_teste = train_test_split(independente, dependente, test_size = 0.3, random_state = 0)"
      ],
      "execution_count": null,
      "outputs": []
    },
    {
      "cell_type": "code",
      "metadata": {
        "id": "dgMg2ZJ2QgB5",
        "colab": {
          "base_uri": "https://localhost:8080/"
        },
        "outputId": "bf338c0c-262a-4e08-de39-bb107751b263"
      },
      "source": [
        "x_treino.shape, x_teste.shape"
      ],
      "execution_count": null,
      "outputs": [
        {
          "output_type": "execute_result",
          "data": {
            "text/plain": [
              "((342, 3), (147, 3))"
            ]
          },
          "metadata": {},
          "execution_count": 212
        }
      ]
    },
    {
      "cell_type": "code",
      "source": [
        "import lightgbm as lgb"
      ],
      "metadata": {
        "id": "q4V61kANQgB5"
      },
      "execution_count": null,
      "outputs": []
    },
    {
      "cell_type": "code",
      "metadata": {
        "id": "Sk8UBLYrQgB6",
        "colab": {
          "base_uri": "https://localhost:8080/"
        },
        "outputId": "407696bf-ae9f-4784-aecc-e41b1555393c"
      },
      "source": [
        "lgbm = lgb.LGBMRegressor(num_leaves=50, max_depth=3, learning_rate=0.1, n_estimators=50, random_state=10)\n",
        "lgbm.fit(x_treino, y_treino)"
      ],
      "execution_count": null,
      "outputs": [
        {
          "output_type": "execute_result",
          "data": {
            "text/plain": [
              "LGBMRegressor(max_depth=3, n_estimators=50, num_leaves=50, random_state=10)"
            ]
          },
          "metadata": {},
          "execution_count": 340
        }
      ]
    },
    {
      "cell_type": "code",
      "metadata": {
        "id": "-fk3JlxnQgB6",
        "colab": {
          "base_uri": "https://localhost:8080/"
        },
        "outputId": "7fb81c5a-f0b9-4e5e-e20e-bf5c8bde7769"
      },
      "source": [
        "lgbm.score(x_treino, y_treino)"
      ],
      "execution_count": null,
      "outputs": [
        {
          "output_type": "execute_result",
          "data": {
            "text/plain": [
              "0.8814914688459106"
            ]
          },
          "metadata": {},
          "execution_count": 341
        }
      ]
    },
    {
      "cell_type": "markdown",
      "source": [
        "**TESTE**"
      ],
      "metadata": {
        "id": "6vaV_m3fQgB7"
      }
    },
    {
      "cell_type": "code",
      "metadata": {
        "id": "0e_-0p0EQgB7",
        "colab": {
          "base_uri": "https://localhost:8080/"
        },
        "outputId": "8fa5f6ae-739a-4b8f-a1f6-5f2a3be54e77"
      },
      "source": [
        "lgbm.score(x_teste, y_teste)"
      ],
      "execution_count": null,
      "outputs": [
        {
          "output_type": "execute_result",
          "data": {
            "text/plain": [
              "0.821790912114666"
            ]
          },
          "metadata": {},
          "execution_count": 342
        }
      ]
    },
    {
      "cell_type": "code",
      "metadata": {
        "id": "SuRMp_IuQgB8"
      },
      "source": [
        "previsoes_teste = lgbm.predict(x_teste)"
      ],
      "execution_count": null,
      "outputs": []
    },
    {
      "cell_type": "code",
      "source": [
        "# Fazendo previsões para valores distintos\n",
        "valor_casa = lgbm.predict([[8,12,25]])\n",
        "valor_casa"
      ],
      "metadata": {
        "colab": {
          "base_uri": "https://localhost:8080/"
        },
        "id": "vHgIjE5hTYEW",
        "outputId": "59b2cb5e-4170-4255-bf3c-0a8c55585064"
      },
      "execution_count": null,
      "outputs": [
        {
          "output_type": "execute_result",
          "data": {
            "text/plain": [
              "array([473777.6547499])"
            ]
          },
          "metadata": {},
          "execution_count": 344
        }
      ]
    },
    {
      "cell_type": "markdown",
      "source": [
        "**MÉTRICAS**"
      ],
      "metadata": {
        "id": "TB4eq5DYQgB8"
      }
    },
    {
      "cell_type": "code",
      "metadata": {
        "id": "bUuxOSjGQgB9"
      },
      "source": [
        "from sklearn.metrics import mean_absolute_error, mean_squared_error"
      ],
      "execution_count": null,
      "outputs": []
    },
    {
      "cell_type": "code",
      "metadata": {
        "id": "oD4PttzoQgB9",
        "colab": {
          "base_uri": "https://localhost:8080/"
        },
        "outputId": "154d43cf-f75e-4cf8-b19a-0cb527175060"
      },
      "source": [
        "# Erro médio Absoluto\n",
        "mean_absolute_error(y_teste, previsoes_teste)"
      ],
      "execution_count": null,
      "outputs": [
        {
          "output_type": "execute_result",
          "data": {
            "text/plain": [
              "55114.09314449551"
            ]
          },
          "metadata": {},
          "execution_count": 345
        }
      ]
    },
    {
      "cell_type": "code",
      "metadata": {
        "id": "Dql6Ds3rQgB-",
        "colab": {
          "base_uri": "https://localhost:8080/"
        },
        "outputId": "16c1e22d-5f0e-42c3-df84-2292a0f4a17d"
      },
      "source": [
        "# Raiz do erro quadrático médio (RMSE)\n",
        "np.sqrt(mean_squared_error(y_teste, previsoes_teste))"
      ],
      "execution_count": null,
      "outputs": [
        {
          "output_type": "execute_result",
          "data": {
            "text/plain": [
              "71906.49585704789"
            ]
          },
          "metadata": {},
          "execution_count": 346
        }
      ]
    },
    {
      "cell_type": "markdown",
      "source": [
        "### **Validação Cruzada**"
      ],
      "metadata": {
        "id": "HiSSyx4qQgB_"
      }
    },
    {
      "cell_type": "code",
      "source": [
        "from sklearn.model_selection import KFold\n",
        "from sklearn.model_selection import cross_val_score"
      ],
      "metadata": {
        "id": "qoP8WdOAQgB_"
      },
      "execution_count": null,
      "outputs": []
    },
    {
      "cell_type": "code",
      "source": [
        "# Separando os dados em folds\n",
        "kfold = KFold(n_splits = 15, shuffle=True, random_state = 5)"
      ],
      "metadata": {
        "id": "OiBBJQ5oQgCA"
      },
      "execution_count": null,
      "outputs": []
    },
    {
      "cell_type": "code",
      "source": [
        "# Criando o modelo\n",
        "import lightgbm as lgb\n",
        "modelo = lgb.LGBMRegressor(num_leaves=50, max_depth=3, learning_rate=0.1, n_estimators=50)\n",
        "resultado = cross_val_score(modelo, independente, dependente, cv = kfold)\n",
        "resultado"
      ],
      "metadata": {
        "id": "yzpxQlPpQgCA",
        "colab": {
          "base_uri": "https://localhost:8080/"
        },
        "outputId": "607a1c9b-fd69-4114-e44d-5aed6e1a0940"
      },
      "execution_count": null,
      "outputs": [
        {
          "output_type": "execute_result",
          "data": {
            "text/plain": [
              "array([0.92885902, 0.87411091, 0.79183715, 0.82557057, 0.84077803,\n",
              "       0.69153561, 0.8972966 , 0.853766  , 0.78817415, 0.84598833,\n",
              "       0.9151854 , 0.680427  , 0.7801631 , 0.86306132, 0.78006315])"
            ]
          },
          "metadata": {},
          "execution_count": 348
        }
      ]
    },
    {
      "cell_type": "code",
      "source": [
        "# Usamos a média e o desvio padrão\n",
        "print(\"Coeficiente de Determinação Médio: %.2f%%\" % (resultado.mean() * 100.0))"
      ],
      "metadata": {
        "id": "eDE7L7RBQgCB",
        "colab": {
          "base_uri": "https://localhost:8080/"
        },
        "outputId": "10ca6d63-fb32-4b2c-cd5e-c19e58e66cef"
      },
      "execution_count": null,
      "outputs": [
        {
          "output_type": "stream",
          "name": "stdout",
          "text": [
            "Coeficiente de Determinação Médio: 82.38%\n"
          ]
        }
      ]
    },
    {
      "cell_type": "markdown",
      "source": [
        "**RESULTADOS:**\n",
        "\n",
        "**REGRESSÃO LINEAR SIMPLES:** R^2 = 0,57/0,60; RMSE = 99315,5; R^2 Validação Cruzada: 55,97%\n",
        "\n",
        "**REGRESSÃO LINEAR MÚLTIPLA:** R^2 = 0,73/0,68; RMSE = 96087,3; R^2 Validação Cruzada: 69,25%\n",
        "\n",
        "**REGRESSÃO POLINOMIAL:** R^2 = 0,59/0,54; RMSE = 114670,6.\n",
        "\n",
        "**REGRESSÃO SVR:** R^2 = 0,87/0,81; RMSE = 73422,7. R^2 Validação Cruzada: 82,37%.\n",
        "\n",
        "**REGRESSÃO ÁRVORE DE DECISÃO:** R^2 = 0,91/0,83; RMSE = 71114,5. R^2 Validação Cruzada: 74,60%.\n",
        "\n",
        "**REGRESSÃO COM RANDOM FOREST:** R^2 = 0,92/0,85; RMSE = 66729,3. R^2 Validação Cruzada: 82,85%.\n",
        "\n",
        "**REGRESSÃO COM XGBOOST:** R^2 = 0,93/0,84; RMSE = 67788,8. R^2 Validação Cruzada: 83,22%.\n",
        "\n",
        "**REGRESSÃO COM LIGHT GBM:** R^2 = 0,88/0,82; RMSE = 71906,4. R^2 Validação Cruzada: 82,38%."
      ],
      "metadata": {
        "id": "vxcj5kwGQgCC"
      }
    },
    {
      "cell_type": "markdown",
      "source": [
        "## **REGRESSÃO COM CATBOOST**"
      ],
      "metadata": {
        "id": "gZsVtfKfQgCC"
      }
    },
    {
      "cell_type": "markdown",
      "source": [
        "https://catboost.ai/en/docs/concepts/python-reference_catboostregressor "
      ],
      "metadata": {
        "id": "5GPeGeg-VXsz"
      }
    },
    {
      "cell_type": "code",
      "source": [
        "#Instalação\n",
        "!pip install catboost"
      ],
      "metadata": {
        "id": "NuLKDgUGVXs0",
        "colab": {
          "base_uri": "https://localhost:8080/"
        },
        "outputId": "62de0743-1791-446e-eae3-3c1734c60979"
      },
      "execution_count": null,
      "outputs": [
        {
          "output_type": "stream",
          "name": "stdout",
          "text": [
            "Collecting catboost\n",
            "  Downloading catboost-1.0.4-cp37-none-manylinux1_x86_64.whl (76.1 MB)\n",
            "\u001b[K     |████████████████████████████████| 76.1 MB 1.2 MB/s \n",
            "\u001b[?25hRequirement already satisfied: matplotlib in /usr/local/lib/python3.7/dist-packages (from catboost) (3.2.2)\n",
            "Requirement already satisfied: pandas>=0.24.0 in /usr/local/lib/python3.7/dist-packages (from catboost) (1.3.5)\n",
            "Requirement already satisfied: scipy in /usr/local/lib/python3.7/dist-packages (from catboost) (1.4.1)\n",
            "Requirement already satisfied: plotly in /usr/local/lib/python3.7/dist-packages (from catboost) (5.5.0)\n",
            "Requirement already satisfied: six in /usr/local/lib/python3.7/dist-packages (from catboost) (1.15.0)\n",
            "Requirement already satisfied: numpy>=1.16.0 in /usr/local/lib/python3.7/dist-packages (from catboost) (1.19.5)\n",
            "Requirement already satisfied: graphviz in /usr/local/lib/python3.7/dist-packages (from catboost) (0.10.1)\n",
            "Requirement already satisfied: python-dateutil>=2.7.3 in /usr/local/lib/python3.7/dist-packages (from pandas>=0.24.0->catboost) (2.8.2)\n",
            "Requirement already satisfied: pytz>=2017.3 in /usr/local/lib/python3.7/dist-packages (from pandas>=0.24.0->catboost) (2018.9)\n",
            "Requirement already satisfied: cycler>=0.10 in /usr/local/lib/python3.7/dist-packages (from matplotlib->catboost) (0.11.0)\n",
            "Requirement already satisfied: kiwisolver>=1.0.1 in /usr/local/lib/python3.7/dist-packages (from matplotlib->catboost) (1.3.2)\n",
            "Requirement already satisfied: pyparsing!=2.0.4,!=2.1.2,!=2.1.6,>=2.0.1 in /usr/local/lib/python3.7/dist-packages (from matplotlib->catboost) (3.0.7)\n",
            "Requirement already satisfied: tenacity>=6.2.0 in /usr/local/lib/python3.7/dist-packages (from plotly->catboost) (8.0.1)\n",
            "Installing collected packages: catboost\n",
            "Successfully installed catboost-1.0.4\n"
          ]
        }
      ]
    },
    {
      "cell_type": "code",
      "source": [
        "df.head(2)"
      ],
      "metadata": {
        "id": "ld2ULQzLVXs1",
        "colab": {
          "base_uri": "https://localhost:8080/",
          "height": 112
        },
        "outputId": "a8eb2563-e2d9-47f5-cc47-ecb26bd5da68"
      },
      "execution_count": null,
      "outputs": [
        {
          "output_type": "execute_result",
          "data": {
            "text/html": [
              "\n",
              "  <div id=\"df-c524cb97-c96f-4e3c-8578-ca15c55d0fc3\">\n",
              "    <div class=\"colab-df-container\">\n",
              "      <div>\n",
              "<style scoped>\n",
              "    .dataframe tbody tr th:only-of-type {\n",
              "        vertical-align: middle;\n",
              "    }\n",
              "\n",
              "    .dataframe tbody tr th {\n",
              "        vertical-align: top;\n",
              "    }\n",
              "\n",
              "    .dataframe thead th {\n",
              "        text-align: right;\n",
              "    }\n",
              "</style>\n",
              "<table border=\"1\" class=\"dataframe\">\n",
              "  <thead>\n",
              "    <tr style=\"text-align: right;\">\n",
              "      <th></th>\n",
              "      <th>RM</th>\n",
              "      <th>LSTAT</th>\n",
              "      <th>PTRATIO</th>\n",
              "      <th>MEDV</th>\n",
              "    </tr>\n",
              "  </thead>\n",
              "  <tbody>\n",
              "    <tr>\n",
              "      <th>0</th>\n",
              "      <td>6.575</td>\n",
              "      <td>4.98</td>\n",
              "      <td>15.3</td>\n",
              "      <td>504000.0</td>\n",
              "    </tr>\n",
              "    <tr>\n",
              "      <th>1</th>\n",
              "      <td>6.421</td>\n",
              "      <td>9.14</td>\n",
              "      <td>17.8</td>\n",
              "      <td>453600.0</td>\n",
              "    </tr>\n",
              "  </tbody>\n",
              "</table>\n",
              "</div>\n",
              "      <button class=\"colab-df-convert\" onclick=\"convertToInteractive('df-c524cb97-c96f-4e3c-8578-ca15c55d0fc3')\"\n",
              "              title=\"Convert this dataframe to an interactive table.\"\n",
              "              style=\"display:none;\">\n",
              "        \n",
              "  <svg xmlns=\"http://www.w3.org/2000/svg\" height=\"24px\"viewBox=\"0 0 24 24\"\n",
              "       width=\"24px\">\n",
              "    <path d=\"M0 0h24v24H0V0z\" fill=\"none\"/>\n",
              "    <path d=\"M18.56 5.44l.94 2.06.94-2.06 2.06-.94-2.06-.94-.94-2.06-.94 2.06-2.06.94zm-11 1L8.5 8.5l.94-2.06 2.06-.94-2.06-.94L8.5 2.5l-.94 2.06-2.06.94zm10 10l.94 2.06.94-2.06 2.06-.94-2.06-.94-.94-2.06-.94 2.06-2.06.94z\"/><path d=\"M17.41 7.96l-1.37-1.37c-.4-.4-.92-.59-1.43-.59-.52 0-1.04.2-1.43.59L10.3 9.45l-7.72 7.72c-.78.78-.78 2.05 0 2.83L4 21.41c.39.39.9.59 1.41.59.51 0 1.02-.2 1.41-.59l7.78-7.78 2.81-2.81c.8-.78.8-2.07 0-2.86zM5.41 20L4 18.59l7.72-7.72 1.47 1.35L5.41 20z\"/>\n",
              "  </svg>\n",
              "      </button>\n",
              "      \n",
              "  <style>\n",
              "    .colab-df-container {\n",
              "      display:flex;\n",
              "      flex-wrap:wrap;\n",
              "      gap: 12px;\n",
              "    }\n",
              "\n",
              "    .colab-df-convert {\n",
              "      background-color: #E8F0FE;\n",
              "      border: none;\n",
              "      border-radius: 50%;\n",
              "      cursor: pointer;\n",
              "      display: none;\n",
              "      fill: #1967D2;\n",
              "      height: 32px;\n",
              "      padding: 0 0 0 0;\n",
              "      width: 32px;\n",
              "    }\n",
              "\n",
              "    .colab-df-convert:hover {\n",
              "      background-color: #E2EBFA;\n",
              "      box-shadow: 0px 1px 2px rgba(60, 64, 67, 0.3), 0px 1px 3px 1px rgba(60, 64, 67, 0.15);\n",
              "      fill: #174EA6;\n",
              "    }\n",
              "\n",
              "    [theme=dark] .colab-df-convert {\n",
              "      background-color: #3B4455;\n",
              "      fill: #D2E3FC;\n",
              "    }\n",
              "\n",
              "    [theme=dark] .colab-df-convert:hover {\n",
              "      background-color: #434B5C;\n",
              "      box-shadow: 0px 1px 3px 1px rgba(0, 0, 0, 0.15);\n",
              "      filter: drop-shadow(0px 1px 2px rgba(0, 0, 0, 0.3));\n",
              "      fill: #FFFFFF;\n",
              "    }\n",
              "  </style>\n",
              "\n",
              "      <script>\n",
              "        const buttonEl =\n",
              "          document.querySelector('#df-c524cb97-c96f-4e3c-8578-ca15c55d0fc3 button.colab-df-convert');\n",
              "        buttonEl.style.display =\n",
              "          google.colab.kernel.accessAllowed ? 'block' : 'none';\n",
              "\n",
              "        async function convertToInteractive(key) {\n",
              "          const element = document.querySelector('#df-c524cb97-c96f-4e3c-8578-ca15c55d0fc3');\n",
              "          const dataTable =\n",
              "            await google.colab.kernel.invokeFunction('convertToInteractive',\n",
              "                                                     [key], {});\n",
              "          if (!dataTable) return;\n",
              "\n",
              "          const docLinkHtml = 'Like what you see? Visit the ' +\n",
              "            '<a target=\"_blank\" href=https://colab.research.google.com/notebooks/data_table.ipynb>data table notebook</a>'\n",
              "            + ' to learn more about interactive tables.';\n",
              "          element.innerHTML = '';\n",
              "          dataTable['output_type'] = 'display_data';\n",
              "          await google.colab.output.renderOutput(dataTable, element);\n",
              "          const docLink = document.createElement('div');\n",
              "          docLink.innerHTML = docLinkHtml;\n",
              "          element.appendChild(docLink);\n",
              "        }\n",
              "      </script>\n",
              "    </div>\n",
              "  </div>\n",
              "  "
            ],
            "text/plain": [
              "      RM  LSTAT  PTRATIO      MEDV\n",
              "0  6.575   4.98     15.3  504000.0\n",
              "1  6.421   9.14     17.8  453600.0"
            ]
          },
          "metadata": {},
          "execution_count": 273
        }
      ]
    },
    {
      "cell_type": "code",
      "metadata": {
        "id": "1nReQ2gUVXs2"
      },
      "source": [
        "independente = df.iloc[:, 0:3].values\n",
        "independente"
      ],
      "execution_count": null,
      "outputs": []
    },
    {
      "cell_type": "code",
      "source": [
        "independente.shape"
      ],
      "metadata": {
        "id": "rDPRCUFUVXs3",
        "colab": {
          "base_uri": "https://localhost:8080/"
        },
        "outputId": "4c714f4d-0906-4a61-96a1-6001f8ad4e5c"
      },
      "execution_count": null,
      "outputs": [
        {
          "output_type": "execute_result",
          "data": {
            "text/plain": [
              "(489, 3)"
            ]
          },
          "metadata": {},
          "execution_count": 276
        }
      ]
    },
    {
      "cell_type": "code",
      "metadata": {
        "id": "v_vJst49VXs3"
      },
      "source": [
        "dependente = df.iloc[:, 3].values"
      ],
      "execution_count": null,
      "outputs": []
    },
    {
      "cell_type": "code",
      "source": [
        "dependente.shape"
      ],
      "metadata": {
        "id": "CuJFrX_1VXs4",
        "colab": {
          "base_uri": "https://localhost:8080/"
        },
        "outputId": "fb116a84-3ae1-42b5-b594-da6b99f2a679"
      },
      "execution_count": null,
      "outputs": [
        {
          "output_type": "execute_result",
          "data": {
            "text/plain": [
              "(489,)"
            ]
          },
          "metadata": {},
          "execution_count": 277
        }
      ]
    },
    {
      "cell_type": "code",
      "metadata": {
        "id": "ZiFMJQRNVXs4"
      },
      "source": [
        "from sklearn.model_selection import train_test_split\n",
        "x_treino, x_teste, y_treino, y_teste = train_test_split(independente, dependente, test_size = 0.3, random_state = 0)"
      ],
      "execution_count": null,
      "outputs": []
    },
    {
      "cell_type": "code",
      "metadata": {
        "id": "7S3QP4XEVXs5",
        "colab": {
          "base_uri": "https://localhost:8080/"
        },
        "outputId": "5549db3e-b9fa-4bae-ce01-8b894992d848"
      },
      "source": [
        "x_treino.shape, x_teste.shape"
      ],
      "execution_count": null,
      "outputs": [
        {
          "output_type": "execute_result",
          "data": {
            "text/plain": [
              "((342, 3), (147, 3))"
            ]
          },
          "metadata": {},
          "execution_count": 279
        }
      ]
    },
    {
      "cell_type": "code",
      "source": [
        "from catboost.core import CatBoostRegressor"
      ],
      "metadata": {
        "id": "Mvq49H8TVXs5"
      },
      "execution_count": null,
      "outputs": []
    },
    {
      "cell_type": "code",
      "metadata": {
        "id": "ElgRHg_3VXs6"
      },
      "source": [
        "catboost = CatBoostRegressor (iterations=100, learning_rate=0.08, depth = 5, random_state = 10)\n",
        "catboost.fit(x_treino, y_treino)"
      ],
      "execution_count": null,
      "outputs": []
    },
    {
      "cell_type": "code",
      "metadata": {
        "id": "RYJLt365VXs6",
        "colab": {
          "base_uri": "https://localhost:8080/"
        },
        "outputId": "839226bd-5533-4d87-891a-23a9843b4aba"
      },
      "source": [
        "catboost.score(x_treino, y_treino)"
      ],
      "execution_count": null,
      "outputs": [
        {
          "output_type": "execute_result",
          "data": {
            "text/plain": [
              "0.8987749049972403"
            ]
          },
          "metadata": {},
          "execution_count": 324
        }
      ]
    },
    {
      "cell_type": "markdown",
      "source": [
        "**TESTE**"
      ],
      "metadata": {
        "id": "J0YqqCe_VXs7"
      }
    },
    {
      "cell_type": "code",
      "metadata": {
        "id": "Kq3ufyL1VXs7",
        "colab": {
          "base_uri": "https://localhost:8080/"
        },
        "outputId": "cb2168cb-a83c-4299-cf35-cde93a4ed4f3"
      },
      "source": [
        "catboost.score(x_teste, y_teste)"
      ],
      "execution_count": null,
      "outputs": [
        {
          "output_type": "execute_result",
          "data": {
            "text/plain": [
              "0.8356524921108562"
            ]
          },
          "metadata": {},
          "execution_count": 325
        }
      ]
    },
    {
      "cell_type": "code",
      "metadata": {
        "id": "bbb2-5sqVXs8"
      },
      "source": [
        "previsoes_teste = catboost.predict(x_teste)"
      ],
      "execution_count": null,
      "outputs": []
    },
    {
      "cell_type": "code",
      "source": [
        "# Fazendo previsões para valores distintos\n",
        "valor_casa = catboost.predict([[5,18,20]])\n",
        "valor_casa"
      ],
      "metadata": {
        "colab": {
          "base_uri": "https://localhost:8080/"
        },
        "id": "rFXFPukcYZNe",
        "outputId": "7fa87afc-d83a-405d-b6df-0f4bfff0a4e0"
      },
      "execution_count": null,
      "outputs": [
        {
          "output_type": "execute_result",
          "data": {
            "text/plain": [
              "array([328451.4683164])"
            ]
          },
          "metadata": {},
          "execution_count": 330
        }
      ]
    },
    {
      "cell_type": "markdown",
      "source": [
        "**MÉTRICAS**"
      ],
      "metadata": {
        "id": "pSBW-UoFVXs8"
      }
    },
    {
      "cell_type": "code",
      "metadata": {
        "id": "dUHUBMG5VXs9"
      },
      "source": [
        "from sklearn.metrics import mean_absolute_error, mean_squared_error"
      ],
      "execution_count": null,
      "outputs": []
    },
    {
      "cell_type": "code",
      "metadata": {
        "id": "lgn3ZatBVXs9",
        "colab": {
          "base_uri": "https://localhost:8080/"
        },
        "outputId": "84ef62dc-45cb-47f7-cc3f-8271492846f9"
      },
      "source": [
        "# Erro médio Absoluto\n",
        "mean_absolute_error(y_teste, previsoes_teste)"
      ],
      "execution_count": null,
      "outputs": [
        {
          "output_type": "execute_result",
          "data": {
            "text/plain": [
              "52043.380841851125"
            ]
          },
          "metadata": {},
          "execution_count": 332
        }
      ]
    },
    {
      "cell_type": "code",
      "metadata": {
        "id": "DewzTfdWVXs9",
        "colab": {
          "base_uri": "https://localhost:8080/"
        },
        "outputId": "1cb50ae3-8fc5-49f5-b121-85d34b3648cb"
      },
      "source": [
        "# Raiz do erro quadrático médio (RMSE)\n",
        "np.sqrt(mean_squared_error(y_teste, previsoes_teste))"
      ],
      "execution_count": null,
      "outputs": [
        {
          "output_type": "execute_result",
          "data": {
            "text/plain": [
              "69053.3516855943"
            ]
          },
          "metadata": {},
          "execution_count": 333
        }
      ]
    },
    {
      "cell_type": "markdown",
      "source": [
        "### **Validação Cruzada**"
      ],
      "metadata": {
        "id": "KPym0jypVXs-"
      }
    },
    {
      "cell_type": "code",
      "source": [
        "from sklearn.model_selection import KFold\n",
        "from sklearn.model_selection import cross_val_score"
      ],
      "metadata": {
        "id": "oZwUBh3_VXs-"
      },
      "execution_count": null,
      "outputs": []
    },
    {
      "cell_type": "code",
      "source": [
        "# Separando os dados em folds\n",
        "kfold = KFold(n_splits = 15, shuffle=True, random_state = 5)"
      ],
      "metadata": {
        "id": "gJMJ1x4bVXs_"
      },
      "execution_count": null,
      "outputs": []
    },
    {
      "cell_type": "code",
      "source": [
        "# Criando o modelo\n",
        "from catboost.core import CatBoostRegressor\n",
        "modelo = CatBoostRegressor (iterations=100, learning_rate=0.08, depth = 5, random_state = 10)\n",
        "resultado = cross_val_score(modelo, independente, dependente, cv = kfold)\n",
        "resultado"
      ],
      "metadata": {
        "id": "TUW6Frh8VXs_"
      },
      "execution_count": null,
      "outputs": []
    },
    {
      "cell_type": "code",
      "source": [
        "# Usamos a média e o desvio padrão\n",
        "print(\"Coeficiente de Determinação Médio: %.2f%%\" % (resultado.mean() * 100.0))"
      ],
      "metadata": {
        "id": "sRPAGvgQVXtA",
        "colab": {
          "base_uri": "https://localhost:8080/"
        },
        "outputId": "8c50c1eb-2b59-4f2a-c3ac-37495a4dd1c9"
      },
      "execution_count": null,
      "outputs": [
        {
          "output_type": "stream",
          "name": "stdout",
          "text": [
            "Coeficiente de Determinação Médio: 83.40%\n"
          ]
        }
      ]
    },
    {
      "cell_type": "markdown",
      "source": [
        "**RESULTADOS:**\n",
        "\n",
        "**REGRESSÃO LINEAR SIMPLES:** R^2 = 0,57/0,60; RMSE = 99315,5; R^2 Validação Cruzada: 55,97%\n",
        "\n",
        "**REGRESSÃO LINEAR MÚLTIPLA:** R^2 = 0,73/0,68; RMSE = 96087,3; R^2 Validação Cruzada: 69,25%\n",
        "\n",
        "**REGRESSÃO POLINOMIAL:** R^2 = 0,59/0,54; RMSE = 114670,6.\n",
        "\n",
        "**REGRESSÃO SVR:** R^2 = 0,87/0,81; RMSE = 73422,7. R^2 Validação Cruzada: 82,37%.\n",
        "\n",
        "**REGRESSÃO ÁRVORE DE DECISÃO:** R^2 = 0,91/0,83; RMSE = 71114,5. R^2 Validação Cruzada: 74,60%.\n",
        "\n",
        "**REGRESSÃO COM RANDOM FOREST:** R^2 = 0,92/0,85; RMSE = 66729,3. R^2 Validação Cruzada: 82,85%.\n",
        "\n",
        "**REGRESSÃO COM XGBOOST:** R^2 = 0,93/0,84; RMSE = 67788,8. R^2 Validação Cruzada: 83,22%.\n",
        "\n",
        "**REGRESSÃO COM LIGHT GBM:** R^2 = 0,88/0,82; RMSE = 71906,4. R^2 Validação Cruzada: 82,38%.\n",
        "\n",
        "**REGRESSÃO COM CATBOOST:** R^2 = 0,90/0,84; RMSE = 69053,3 R^2 Validação Cruzada: 83,40%."
      ],
      "metadata": {
        "id": "7cwsGoINVXtA"
      }
    },
    {
      "cell_type": "markdown",
      "source": [
        ""
      ],
      "metadata": {
        "id": "_n5ncFlgox69"
      }
    },
    {
      "cell_type": "markdown",
      "source": [
        "# **Salvando dados para Deploy**"
      ],
      "metadata": {
        "id": "-SI78UagmLD7"
      }
    },
    {
      "cell_type": "code",
      "source": [
        "independente = df.iloc[:, 0:3].values\n",
        "independente"
      ],
      "metadata": {
        "colab": {
          "base_uri": "https://localhost:8080/"
        },
        "id": "iHM2TQfjbwf9",
        "outputId": "121607d5-7c87-4bd7-a2f8-1ba3c0367b5b"
      },
      "execution_count": null,
      "outputs": [
        {
          "output_type": "execute_result",
          "data": {
            "text/plain": [
              "array([[ 6.575,  4.98 , 15.3  ],\n",
              "       [ 6.421,  9.14 , 17.8  ],\n",
              "       [ 7.185,  4.03 , 17.8  ],\n",
              "       ...,\n",
              "       [ 6.976,  5.64 , 21.   ],\n",
              "       [ 6.794,  6.48 , 21.   ],\n",
              "       [ 6.03 ,  7.88 , 21.   ]])"
            ]
          },
          "metadata": {},
          "execution_count": 14
        }
      ]
    },
    {
      "cell_type": "code",
      "source": [
        "dependente = df.iloc[:, 3].values\n",
        "dependente"
      ],
      "metadata": {
        "id": "isSCWsMPDdw6"
      },
      "execution_count": null,
      "outputs": []
    },
    {
      "cell_type": "code",
      "source": [
        "np.savetxt('independente.csv', independente, delimiter=',')"
      ],
      "metadata": {
        "id": "XUYRtI5VDBXF"
      },
      "execution_count": null,
      "outputs": []
    },
    {
      "cell_type": "code",
      "source": [
        "np.savetxt('dependente.csv', dependente, delimiter=',')"
      ],
      "metadata": {
        "id": "dd7lbPU3DQFO"
      },
      "execution_count": null,
      "outputs": []
    },
    {
      "cell_type": "markdown",
      "source": [
        "# **DESAFIO 2**"
      ],
      "metadata": {
        "id": "Q6LoOxMow4Ci"
      }
    },
    {
      "cell_type": "markdown",
      "source": [
        "DESENVOLVER E SELECIONAR O MELHOR ALGORITMO DE MACHINE LEARNING DE REGRESSÃO PARA O DATASET DO LINK A SEGUIR:"
      ],
      "metadata": {
        "id": "bjLFumRQxayX"
      }
    },
    {
      "cell_type": "markdown",
      "source": [
        "https://www.kaggle.com/mirichoi0218/insurance/code"
      ],
      "metadata": {
        "id": "VG8xV9wYxKk2"
      }
    }
  ]
}
